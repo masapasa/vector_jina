{
 "cells": [
  {
   "cell_type": "code",
   "execution_count": 48,
   "metadata": {},
   "outputs": [],
   "source": [
    "from docarray import Document, DocumentArray\n",
    "from jina import Flow\n",
    "import json\n",
    "da = DocumentArray()\n",
    "  \n",
    "with open('/home/aswin/data/icecat-products-w_price-19k-20201127/icecat-products-w_price-19k-20201127.json') as f:\n",
    "    jdocs = json.load(f)\n",
    "for doc in jdocs:\n",
    "    d = Document(text=\" \".join([doc[item] for item in doc if item.startswith(\"title\") \n",
    "    or item.startswith(\"attr_t\")\n",
    "    or item.startswith(\"short_description\") \n",
    "    or item.startswith(\"name\")\n",
    "    or item.startswith(\"supplier\")]), tags=doc)\n",
    "    da.append(d)\n"
   ]
  },
  {
   "cell_type": "code",
   "execution_count": 15,
   "metadata": {},
   "outputs": [],
   "source": [
    "f.save_config(\"flow_aut.yml\")"
   ]
  },
  {
   "cell_type": "code",
   "execution_count": 47,
   "metadata": {},
   "outputs": [
    {
     "data": {
      "text/html": [
       "<pre style=\"white-space:pre;overflow-x:auto;line-height:normal;font-family:Menlo,'DejaVu Sans Mono',consolas,'Courier New',monospace\">\n",
       "</pre>\n"
      ],
      "text/plain": [
       "\n"
      ]
     },
     "metadata": {},
     "output_type": "display_data"
    },
    {
     "data": {
      "text/html": [
       "<pre style=\"white-space:pre;overflow-x:auto;line-height:normal;font-family:Menlo,'DejaVu Sans Mono',consolas,'Courier New',monospace\">╭─────────────── Documents Summary ────────────────╮\n",
       "│                                                  │\n",
       "│   Type                   DocumentArrayInMemory   │\n",
       "│   Length                 <span style=\"color: #008080; text-decoration-color: #008080; font-weight: bold\">0</span>                       │\n",
       "│   Homogenous Documents   <span style=\"color: #ff0000; text-decoration-color: #ff0000; font-style: italic\">False</span>                   │\n",
       "│   Multimodal dataclass   <span style=\"color: #00ff00; text-decoration-color: #00ff00; font-style: italic\">True</span>                    │\n",
       "│                                                  │\n",
       "╰──────────────────────────────────────────────────╯\n",
       "</pre>\n"
      ],
      "text/plain": [
       "╭─────────────── Documents Summary ────────────────╮\n",
       "│                                                  │\n",
       "│   Type                   DocumentArrayInMemory   │\n",
       "│   Length                 \u001b[1;36m0\u001b[0m                       │\n",
       "│   Homogenous Documents   \u001b[3;91mFalse\u001b[0m                   │\n",
       "│   Multimodal dataclass   \u001b[3;92mTrue\u001b[0m                    │\n",
       "│                                                  │\n",
       "╰──────────────────────────────────────────────────╯\n"
      ]
     },
     "metadata": {},
     "output_type": "display_data"
    }
   ],
   "source": [
    "c.post(on=\"/clear\")"
   ]
  },
  {
   "cell_type": "code",
   "execution_count": 50,
   "metadata": {},
   "outputs": [
    {
     "data": {
      "application/vnd.jupyter.widget-view+json": {
       "model_id": "945149424e4547099a1ff8779d4c4313",
       "version_major": 2,
       "version_minor": 0
      },
      "text/plain": [
       "Output()"
      ]
     },
     "metadata": {},
     "output_type": "display_data"
    }
   ],
   "source": [
    "\n",
    "da = da[:444]\n",
    "from jina import Client\n",
    "c = Client(host= \"grpcs://b90f1b8c7d.wolf.jina.ai\")\n",
    "c.index(da, show_progress = True)"
   ]
  },
  {
   "cell_type": "code",
   "execution_count": 32,
   "metadata": {},
   "outputs": [],
   "source": [
    "#define the filter\n",
    "colors = [\"Black\", \"Blue\"]\n",
    "\n",
    "filter = {\n",
    "    \"attr_t_product_colour\": {\n",
    "        \"$in\": colors\n",
    "    }\n",
    "}\n",
    "\n",
    "text_string = \"laptop case\"\n",
    "text_query = Document(text=text_string)"
   ]
  },
  {
   "cell_type": "code",
   "execution_count": 33,
   "metadata": {},
   "outputs": [
    {
     "data": {
      "application/vnd.jupyter.widget-view+json": {
       "model_id": "4585c978f909446bb39dc1220914cc33",
       "version_major": 2,
       "version_minor": 0
      },
      "text/plain": [
       "Output()"
      ]
     },
     "metadata": {},
     "output_type": "display_data"
    },
    {
     "data": {
      "text/html": [
       "<pre style=\"white-space:pre;overflow-x:auto;line-height:normal;font-family:Menlo,'DejaVu Sans Mono',consolas,'Courier New',monospace\"></pre>\n"
      ],
      "text/plain": []
     },
     "metadata": {},
     "output_type": "display_data"
    },
    {
     "data": {
      "text/html": [
       "<pre style=\"white-space:pre;overflow-x:auto;line-height:normal;font-family:Menlo,'DejaVu Sans Mono',consolas,'Courier New',monospace\">\n",
       "</pre>\n"
      ],
      "text/plain": [
       "\n"
      ]
     },
     "metadata": {},
     "output_type": "display_data"
    },
    {
     "data": {
      "text/html": [
       "<pre style=\"white-space:pre;overflow-x:auto;line-height:normal;font-family:Menlo,'DejaVu Sans Mono',consolas,'Courier New',monospace\">╭────────────────────────────────── Documents Summary ──────────────────────────────────╮\n",
       "│                                                                                       │\n",
       "│   Type                   MatchArray                                                   │\n",
       "│   Length                 <span style=\"color: #008080; text-decoration-color: #008080; font-weight: bold\">2</span>                                                            │\n",
       "│   Homogenous Documents   <span style=\"color: #00ff00; text-decoration-color: #00ff00; font-style: italic\">True</span>                                                         │\n",
       "│   Common Attributes      <span style=\"font-weight: bold\">(</span><span style=\"color: #008000; text-decoration-color: #008000\">'id'</span>, <span style=\"color: #008000; text-decoration-color: #008000\">'adjacency'</span>, <span style=\"color: #008000; text-decoration-color: #008000\">'text'</span>, <span style=\"color: #008000; text-decoration-color: #008000\">'tags'</span>, <span style=\"color: #008000; text-decoration-color: #008000\">'embedding'</span>, <span style=\"color: #008000; text-decoration-color: #008000\">'scores'</span><span style=\"font-weight: bold\">)</span>   │\n",
       "│   Multimodal dataclass   <span style=\"color: #ff0000; text-decoration-color: #ff0000; font-style: italic\">False</span>                                                        │\n",
       "│                                                                                       │\n",
       "╰───────────────────────────────────────────────────────────────────────────────────────╯\n",
       "╭──────────────────────── Attributes Summary ─────────────────────────╮\n",
       "│                                                                     │\n",
       "│  <span style=\"font-weight: bold\"> Attribute </span> <span style=\"font-weight: bold\"> Data type        </span> <span style=\"font-weight: bold\"> #Unique values </span> <span style=\"font-weight: bold\"> Has empty value </span>  │\n",
       "│  ─────────────────────────────────────────────────────────────────  │\n",
       "│   adjacency   <span style=\"font-weight: bold\">(</span><span style=\"color: #008000; text-decoration-color: #008000\">'int'</span>,<span style=\"font-weight: bold\">)</span>           <span style=\"color: #008080; text-decoration-color: #008080; font-weight: bold\">1</span>                <span style=\"color: #ff0000; text-decoration-color: #ff0000; font-style: italic\">False</span>             │\n",
       "│   embedding   <span style=\"font-weight: bold\">(</span><span style=\"color: #008000; text-decoration-color: #008000\">'ndarray'</span>,<span style=\"font-weight: bold\">)</span>       <span style=\"color: #008080; text-decoration-color: #008080; font-weight: bold\">2</span>                <span style=\"color: #ff0000; text-decoration-color: #ff0000; font-style: italic\">False</span>             │\n",
       "│   id          <span style=\"font-weight: bold\">(</span><span style=\"color: #008000; text-decoration-color: #008000\">'str'</span>,<span style=\"font-weight: bold\">)</span>           <span style=\"color: #008080; text-decoration-color: #008080; font-weight: bold\">2</span>                <span style=\"color: #ff0000; text-decoration-color: #ff0000; font-style: italic\">False</span>             │\n",
       "│   scores      <span style=\"font-weight: bold\">(</span><span style=\"color: #008000; text-decoration-color: #008000\">'defaultdict'</span>,<span style=\"font-weight: bold\">)</span>   <span style=\"color: #008080; text-decoration-color: #008080; font-weight: bold\">2</span>                <span style=\"color: #ff0000; text-decoration-color: #ff0000; font-style: italic\">False</span>             │\n",
       "│   tags        <span style=\"font-weight: bold\">(</span><span style=\"color: #008000; text-decoration-color: #008000\">'dict'</span>,<span style=\"font-weight: bold\">)</span>          <span style=\"color: #008080; text-decoration-color: #008080; font-weight: bold\">2</span>                <span style=\"color: #ff0000; text-decoration-color: #ff0000; font-style: italic\">False</span>             │\n",
       "│   text        <span style=\"font-weight: bold\">(</span><span style=\"color: #008000; text-decoration-color: #008000\">'str'</span>,<span style=\"font-weight: bold\">)</span>           <span style=\"color: #008080; text-decoration-color: #008080; font-weight: bold\">2</span>                <span style=\"color: #ff0000; text-decoration-color: #ff0000; font-style: italic\">False</span>             │\n",
       "│                                                                     │\n",
       "╰─────────────────────────────────────────────────────────────────────╯\n",
       "</pre>\n"
      ],
      "text/plain": [
       "╭────────────────────────────────── Documents Summary ──────────────────────────────────╮\n",
       "│                                                                                       │\n",
       "│   Type                   MatchArray                                                   │\n",
       "│   Length                 \u001b[1;36m2\u001b[0m                                                            │\n",
       "│   Homogenous Documents   \u001b[3;92mTrue\u001b[0m                                                         │\n",
       "│   Common Attributes      \u001b[1m(\u001b[0m\u001b[32m'id'\u001b[0m, \u001b[32m'adjacency'\u001b[0m, \u001b[32m'text'\u001b[0m, \u001b[32m'tags'\u001b[0m, \u001b[32m'embedding'\u001b[0m, \u001b[32m'scores'\u001b[0m\u001b[1m)\u001b[0m   │\n",
       "│   Multimodal dataclass   \u001b[3;91mFalse\u001b[0m                                                        │\n",
       "│                                                                                       │\n",
       "╰───────────────────────────────────────────────────────────────────────────────────────╯\n",
       "╭──────────────────────── Attributes Summary ─────────────────────────╮\n",
       "│                                                                     │\n",
       "│  \u001b[1m \u001b[0m\u001b[1mAttribute\u001b[0m\u001b[1m \u001b[0m \u001b[1m \u001b[0m\u001b[1mData type       \u001b[0m\u001b[1m \u001b[0m \u001b[1m \u001b[0m\u001b[1m#Unique values\u001b[0m\u001b[1m \u001b[0m \u001b[1m \u001b[0m\u001b[1mHas empty value\u001b[0m\u001b[1m \u001b[0m  │\n",
       "│  ─────────────────────────────────────────────────────────────────  │\n",
       "│   adjacency   \u001b[1m(\u001b[0m\u001b[32m'int'\u001b[0m,\u001b[1m)\u001b[0m           \u001b[1;36m1\u001b[0m                \u001b[3;91mFalse\u001b[0m             │\n",
       "│   embedding   \u001b[1m(\u001b[0m\u001b[32m'ndarray'\u001b[0m,\u001b[1m)\u001b[0m       \u001b[1;36m2\u001b[0m                \u001b[3;91mFalse\u001b[0m             │\n",
       "│   id          \u001b[1m(\u001b[0m\u001b[32m'str'\u001b[0m,\u001b[1m)\u001b[0m           \u001b[1;36m2\u001b[0m                \u001b[3;91mFalse\u001b[0m             │\n",
       "│   scores      \u001b[1m(\u001b[0m\u001b[32m'defaultdict'\u001b[0m,\u001b[1m)\u001b[0m   \u001b[1;36m2\u001b[0m                \u001b[3;91mFalse\u001b[0m             │\n",
       "│   tags        \u001b[1m(\u001b[0m\u001b[32m'dict'\u001b[0m,\u001b[1m)\u001b[0m          \u001b[1;36m2\u001b[0m                \u001b[3;91mFalse\u001b[0m             │\n",
       "│   text        \u001b[1m(\u001b[0m\u001b[32m'str'\u001b[0m,\u001b[1m)\u001b[0m           \u001b[1;36m2\u001b[0m                \u001b[3;91mFalse\u001b[0m             │\n",
       "│                                                                     │\n",
       "╰─────────────────────────────────────────────────────────────────────╯\n"
      ]
     },
     "metadata": {},
     "output_type": "display_data"
    }
   ],
   "source": [
    "text_matches = c.search(text_query, show_progress=True, parameters={\"filter\": filter})\n",
    "text_matches[0].matches"
   ]
  },
  {
   "cell_type": "code",
   "execution_count": 52,
   "metadata": {},
   "outputs": [
    {
     "data": {
      "text/html": [
       "<pre style=\"white-space:pre;overflow-x:auto;line-height:normal;font-family:Menlo,'DejaVu Sans Mono',consolas,'Courier New',monospace\">Exception in callback functools.partial(&lt;built-in method _handle_events of \n",
       "grpc._cython.cygrpc.PollerCompletionQueue object at 0x7feed7814200&gt;, &lt;uvloop.Loop running=True closed=False \n",
       "debug=False&gt;)\n",
       "handle: &lt;Handle functools.partial(&lt;built-in method _handle_events of grpc._cython.cygrpc.PollerCompletionQueue \n",
       "object at 0x7feed7814200&gt;, &lt;uvloop.Loop running=True closed=False debug=False&gt;)&gt;\n",
       "Traceback (most recent call last):\n",
       "  File \"uvloop/cbhandles.pyx\", line 61, in uvloop.loop.Handle._run\n",
       "  File \"src/python/grpcio/grpc/_cython/_cygrpc/aio/completion_queue.pyx.pxi\", line 147, in \n",
       "grpc._cython.cygrpc.PollerCompletionQueue._handle_events\n",
       "BlockingIOError: [Errno 11] Resource temporarily unavailable\n",
       "</pre>\n"
      ],
      "text/plain": [
       "Exception in callback functools.partial(<built-in method _handle_events of \n",
       "grpc._cython.cygrpc.PollerCompletionQueue object at 0x7feed7814200>, <uvloop.Loop running=True closed=False \n",
       "debug=False>)\n",
       "handle: <Handle functools.partial(<built-in method _handle_events of grpc._cython.cygrpc.PollerCompletionQueue \n",
       "object at 0x7feed7814200>, <uvloop.Loop running=True closed=False debug=False>)>\n",
       "Traceback (most recent call last):\n",
       "  File \"uvloop/cbhandles.pyx\", line 61, in uvloop.loop.Handle._run\n",
       "  File \"src/python/grpcio/grpc/_cython/_cygrpc/aio/completion_queue.pyx.pxi\", line 147, in \n",
       "grpc._cython.cygrpc.PollerCompletionQueue._handle_events\n",
       "BlockingIOError: [Errno 11] Resource temporarily unavailable\n"
      ]
     },
     "metadata": {},
     "output_type": "display_data"
    },
    {
     "data": {
      "text/html": [
       "<pre style=\"white-space:pre;overflow-x:auto;line-height:normal;font-family:Menlo,'DejaVu Sans Mono',consolas,'Courier New',monospace\">Exception in callback functools.partial(&lt;built-in method _handle_events of \n",
       "grpc._cython.cygrpc.PollerCompletionQueue object at 0x7feed7814200&gt;, &lt;uvloop.Loop running=True closed=False \n",
       "debug=False&gt;)\n",
       "handle: &lt;Handle functools.partial(&lt;built-in method _handle_events of grpc._cython.cygrpc.PollerCompletionQueue \n",
       "object at 0x7feed7814200&gt;, &lt;uvloop.Loop running=True closed=False debug=False&gt;)&gt;\n",
       "Traceback (most recent call last):\n",
       "  File \"uvloop/cbhandles.pyx\", line 61, in uvloop.loop.Handle._run\n",
       "  File \"src/python/grpcio/grpc/_cython/_cygrpc/aio/completion_queue.pyx.pxi\", line 147, in \n",
       "grpc._cython.cygrpc.PollerCompletionQueue._handle_events\n",
       "BlockingIOError: [Errno 11] Resource temporarily unavailable\n",
       "</pre>\n"
      ],
      "text/plain": [
       "Exception in callback functools.partial(<built-in method _handle_events of \n",
       "grpc._cython.cygrpc.PollerCompletionQueue object at 0x7feed7814200>, <uvloop.Loop running=True closed=False \n",
       "debug=False>)\n",
       "handle: <Handle functools.partial(<built-in method _handle_events of grpc._cython.cygrpc.PollerCompletionQueue \n",
       "object at 0x7feed7814200>, <uvloop.Loop running=True closed=False debug=False>)>\n",
       "Traceback (most recent call last):\n",
       "  File \"uvloop/cbhandles.pyx\", line 61, in uvloop.loop.Handle._run\n",
       "  File \"src/python/grpcio/grpc/_cython/_cygrpc/aio/completion_queue.pyx.pxi\", line 147, in \n",
       "grpc._cython.cygrpc.PollerCompletionQueue._handle_events\n",
       "BlockingIOError: [Errno 11] Resource temporarily unavailable\n"
      ]
     },
     "metadata": {},
     "output_type": "display_data"
    },
    {
     "data": {
      "text/html": [
       "<pre style=\"white-space:pre;overflow-x:auto;line-height:normal;font-family:Menlo,'DejaVu Sans Mono',consolas,'Courier New',monospace\">Exception in callback functools.partial(&lt;built-in method _handle_events of \n",
       "grpc._cython.cygrpc.PollerCompletionQueue object at 0x7feed7814200&gt;, &lt;uvloop.Loop running=True closed=False \n",
       "debug=False&gt;)\n",
       "handle: &lt;Handle functools.partial(&lt;built-in method _handle_events of grpc._cython.cygrpc.PollerCompletionQueue \n",
       "object at 0x7feed7814200&gt;, &lt;uvloop.Loop running=True closed=False debug=False&gt;)&gt;\n",
       "Traceback (most recent call last):\n",
       "  File \"uvloop/cbhandles.pyx\", line 61, in uvloop.loop.Handle._run\n",
       "  File \"src/python/grpcio/grpc/_cython/_cygrpc/aio/completion_queue.pyx.pxi\", line 147, in \n",
       "grpc._cython.cygrpc.PollerCompletionQueue._handle_events\n",
       "BlockingIOError: [Errno 11] Resource temporarily unavailable\n",
       "</pre>\n"
      ],
      "text/plain": [
       "Exception in callback functools.partial(<built-in method _handle_events of \n",
       "grpc._cython.cygrpc.PollerCompletionQueue object at 0x7feed7814200>, <uvloop.Loop running=True closed=False \n",
       "debug=False>)\n",
       "handle: <Handle functools.partial(<built-in method _handle_events of grpc._cython.cygrpc.PollerCompletionQueue \n",
       "object at 0x7feed7814200>, <uvloop.Loop running=True closed=False debug=False>)>\n",
       "Traceback (most recent call last):\n",
       "  File \"uvloop/cbhandles.pyx\", line 61, in uvloop.loop.Handle._run\n",
       "  File \"src/python/grpcio/grpc/_cython/_cygrpc/aio/completion_queue.pyx.pxi\", line 147, in \n",
       "grpc._cython.cygrpc.PollerCompletionQueue._handle_events\n",
       "BlockingIOError: [Errno 11] Resource temporarily unavailable\n"
      ]
     },
     "metadata": {},
     "output_type": "display_data"
    },
    {
     "data": {
      "text/html": [
       "<pre style=\"white-space:pre;overflow-x:auto;line-height:normal;font-family:Menlo,'DejaVu Sans Mono',consolas,'Courier New',monospace\">Exception in callback functools.partial(&lt;built-in method _handle_events of \n",
       "grpc._cython.cygrpc.PollerCompletionQueue object at 0x7feed7814200&gt;, &lt;uvloop.Loop running=True closed=False \n",
       "debug=False&gt;)\n",
       "handle: &lt;Handle functools.partial(&lt;built-in method _handle_events of grpc._cython.cygrpc.PollerCompletionQueue \n",
       "object at 0x7feed7814200&gt;, &lt;uvloop.Loop running=True closed=False debug=False&gt;)&gt;\n",
       "Traceback (most recent call last):\n",
       "  File \"uvloop/cbhandles.pyx\", line 61, in uvloop.loop.Handle._run\n",
       "  File \"src/python/grpcio/grpc/_cython/_cygrpc/aio/completion_queue.pyx.pxi\", line 147, in \n",
       "grpc._cython.cygrpc.PollerCompletionQueue._handle_events\n",
       "BlockingIOError: [Errno 11] Resource temporarily unavailable\n",
       "</pre>\n"
      ],
      "text/plain": [
       "Exception in callback functools.partial(<built-in method _handle_events of \n",
       "grpc._cython.cygrpc.PollerCompletionQueue object at 0x7feed7814200>, <uvloop.Loop running=True closed=False \n",
       "debug=False>)\n",
       "handle: <Handle functools.partial(<built-in method _handle_events of grpc._cython.cygrpc.PollerCompletionQueue \n",
       "object at 0x7feed7814200>, <uvloop.Loop running=True closed=False debug=False>)>\n",
       "Traceback (most recent call last):\n",
       "  File \"uvloop/cbhandles.pyx\", line 61, in uvloop.loop.Handle._run\n",
       "  File \"src/python/grpcio/grpc/_cython/_cygrpc/aio/completion_queue.pyx.pxi\", line 147, in \n",
       "grpc._cython.cygrpc.PollerCompletionQueue._handle_events\n",
       "BlockingIOError: [Errno 11] Resource temporarily unavailable\n"
      ]
     },
     "metadata": {},
     "output_type": "display_data"
    },
    {
     "ename": "KeyboardInterrupt",
     "evalue": "",
     "output_type": "error",
     "traceback": [
      "\u001b[0;31m---------------------------------------------------------------------------\u001b[0m",
      "\u001b[0;31mKeyboardInterrupt\u001b[0m                         Traceback (most recent call last)",
      "\u001b[1;32m/home/aswin/Documents/vector_jina/data_index.ipynb Cell 7\u001b[0m in \u001b[0;36m<cell line: 1>\u001b[0;34m()\u001b[0m\n\u001b[0;32m----> <a href='vscode-notebook-cell:/home/aswin/Documents/vector_jina/data_index.ipynb#X16sZmlsZQ%3D%3D?line=0'>1</a>\u001b[0m r \u001b[39m=\u001b[39m c\u001b[39m.\u001b[39;49msearch(Document(text\u001b[39m=\u001b[39;49m\u001b[39m\"\u001b[39;49m\u001b[39mlaptop\u001b[39;49m\u001b[39m\"\u001b[39;49m))\n\u001b[1;32m      <a href='vscode-notebook-cell:/home/aswin/Documents/vector_jina/data_index.ipynb#X16sZmlsZQ%3D%3D?line=1'>2</a>\u001b[0m r[\u001b[39m0\u001b[39m]\u001b[39m.\u001b[39mmatches\n",
      "File \u001b[0;32m~/anaconda3/envs/jina/lib/python3.9/site-packages/jina/clients/mixin.py:265\u001b[0m, in \u001b[0;36mPostMixin.post\u001b[0;34m(self, on, inputs, on_done, on_error, on_always, parameters, target_executor, request_size, show_progress, continue_on_error, return_responses, **kwargs)\u001b[0m\n\u001b[1;32m    262\u001b[0m     \u001b[39mif\u001b[39;00m return_results:\n\u001b[1;32m    263\u001b[0m         \u001b[39mreturn\u001b[39;00m result\n\u001b[0;32m--> 265\u001b[0m \u001b[39mreturn\u001b[39;00m run_async(\n\u001b[1;32m    266\u001b[0m     _get_results,\n\u001b[1;32m    267\u001b[0m     inputs\u001b[39m=\u001b[39;49minputs,\n\u001b[1;32m    268\u001b[0m     on_done\u001b[39m=\u001b[39;49mon_done,\n\u001b[1;32m    269\u001b[0m     on_error\u001b[39m=\u001b[39;49mon_error,\n\u001b[1;32m    270\u001b[0m     on_always\u001b[39m=\u001b[39;49mon_always,\n\u001b[1;32m    271\u001b[0m     exec_endpoint\u001b[39m=\u001b[39;49mon,\n\u001b[1;32m    272\u001b[0m     target_executor\u001b[39m=\u001b[39;49mtarget_executor,\n\u001b[1;32m    273\u001b[0m     parameters\u001b[39m=\u001b[39;49mparameters,\n\u001b[1;32m    274\u001b[0m     request_size\u001b[39m=\u001b[39;49mrequest_size,\n\u001b[1;32m    275\u001b[0m     \u001b[39m*\u001b[39;49m\u001b[39m*\u001b[39;49mkwargs,\n\u001b[1;32m    276\u001b[0m )\n",
      "File \u001b[0;32m~/anaconda3/envs/jina/lib/python3.9/site-packages/jina/helper.py:1312\u001b[0m, in \u001b[0;36mrun_async\u001b[0;34m(func, *args, **kwargs)\u001b[0m\n\u001b[1;32m   1310\u001b[0m thread \u001b[39m=\u001b[39m _RunThread()\n\u001b[1;32m   1311\u001b[0m thread\u001b[39m.\u001b[39mstart()\n\u001b[0;32m-> 1312\u001b[0m thread\u001b[39m.\u001b[39;49mjoin()\n\u001b[1;32m   1313\u001b[0m \u001b[39mtry\u001b[39;00m:\n\u001b[1;32m   1314\u001b[0m     \u001b[39mreturn\u001b[39;00m thread\u001b[39m.\u001b[39mresult\n",
      "File \u001b[0;32m~/anaconda3/envs/jina/lib/python3.9/threading.py:1053\u001b[0m, in \u001b[0;36mThread.join\u001b[0;34m(self, timeout)\u001b[0m\n\u001b[1;32m   1050\u001b[0m     \u001b[39mraise\u001b[39;00m \u001b[39mRuntimeError\u001b[39;00m(\u001b[39m\"\u001b[39m\u001b[39mcannot join current thread\u001b[39m\u001b[39m\"\u001b[39m)\n\u001b[1;32m   1052\u001b[0m \u001b[39mif\u001b[39;00m timeout \u001b[39mis\u001b[39;00m \u001b[39mNone\u001b[39;00m:\n\u001b[0;32m-> 1053\u001b[0m     \u001b[39mself\u001b[39;49m\u001b[39m.\u001b[39;49m_wait_for_tstate_lock()\n\u001b[1;32m   1054\u001b[0m \u001b[39melse\u001b[39;00m:\n\u001b[1;32m   1055\u001b[0m     \u001b[39m# the behavior of a negative timeout isn't documented, but\u001b[39;00m\n\u001b[1;32m   1056\u001b[0m     \u001b[39m# historically .join(timeout=x) for x<0 has acted as if timeout=0\u001b[39;00m\n\u001b[1;32m   1057\u001b[0m     \u001b[39mself\u001b[39m\u001b[39m.\u001b[39m_wait_for_tstate_lock(timeout\u001b[39m=\u001b[39m\u001b[39mmax\u001b[39m(timeout, \u001b[39m0\u001b[39m))\n",
      "File \u001b[0;32m~/anaconda3/envs/jina/lib/python3.9/threading.py:1073\u001b[0m, in \u001b[0;36mThread._wait_for_tstate_lock\u001b[0;34m(self, block, timeout)\u001b[0m\n\u001b[1;32m   1070\u001b[0m     \u001b[39mreturn\u001b[39;00m\n\u001b[1;32m   1072\u001b[0m \u001b[39mtry\u001b[39;00m:\n\u001b[0;32m-> 1073\u001b[0m     \u001b[39mif\u001b[39;00m lock\u001b[39m.\u001b[39;49macquire(block, timeout):\n\u001b[1;32m   1074\u001b[0m         lock\u001b[39m.\u001b[39mrelease()\n\u001b[1;32m   1075\u001b[0m         \u001b[39mself\u001b[39m\u001b[39m.\u001b[39m_stop()\n",
      "\u001b[0;31mKeyboardInterrupt\u001b[0m: "
     ]
    }
   ],
   "source": [
    "r = c.search(Document(text=\"laptop\"))\n",
    "r[0].matches\n"
   ]
  },
  {
   "cell_type": "code",
   "execution_count": 42,
   "metadata": {},
   "outputs": [
    {
     "name": "stdout",
     "output_type": "stream",
     "text": [
      "dv7-1211ea HP Pavilion dv7-1211ea Notebook Silver 43.2 cm (17\") 1440 x 900 pixels Intel® Core™2 Duo 4 GB DDR2-SDRAM 250 GB HDD NVIDIA® GeForce® 9200M GS Windows Vista Home Premium Intel Core 2 Duo Processor P7450 (3M Cache, 2.13 GHz, 1066 MHz FSB), 4GB DDR2, 250GB SATA HDD, 17\" WXGA+ HD BrightView 1440 x 900, nVidia GeForce 9200M GS, DVD Super Multi DL, Gigabit Ethernet, WLAN 802.11 b/g, WebCam, Windows Vista Home Premium 32-bit HP Notebook Silver Clamshell China 1440 x 900 16:10 200:1 Intel Core 2 Duo Intel P7450 2 2 L2 Socket 478 64-bit Intel Core 2 Duo P7000 series Penryn FSB M0 DDR2-SDRAM SO-DIMM 2 x 2 2x SO-DIMM HDD DVD Super Multi DL SATA 5400 Memory Stick (MS),MMC,MS PRO,SD,xD NVIDIA GeForce 9200M GS Not available 3D Sound Blaster Pro Altec Lansing 802.11b,802.11g 10,100,1000 Not supported DC-in jack N 3.5 mm 3.5 mm Touchpad Windows Vista Home Premium 32-bit N Lithium-Ion (Li-Ion) 8 50 - 60 100 - 240 0 - 35 -20 - 60 10 - 90 5 - 65 -15 - 3048 -15 - 12192\n",
      "{'attr_t_processor_threads': '2', 'attr_t_hdd_interface': 'SATA', 'attr_t_processor_series': 'Intel Core 2 Duo P7000 series', 'attr_t_processor_cache_type': 'L2', 'attr_t_ac_adapter_frequency': '50 - 60', 'attr_b_intel_rapid_storage_technology': False, 'attr_n_width': 396.0, 'attr_t_processor_manufacturer': 'Intel', 'attr_t_storage_relative_humidity__h_h_': '5 - 65', 'attr_b_dvi_port': False, 'attr_b_intel_clear_video_technology': False, 'attr_b_numeric_keypad': True, 'attr_t_non_operating_altitude': '-15 - 12192', 'attr_b_intel__my_wifi_technology__intel__mwt_': False, 'img_thumb': 'http://images.icecat.biz/img/gallery_thumbs/2101957_8011415648.jpg', 'attr_n_hdd_capacity': 250.0, 'attr_b_intel_enhanced_halt_state': False, 'attr_t_storage_media': 'HDD', 'attr_n_package_height': 350.0, 'attr_b_microphone_in': True, 'attr_b_intel__clear_video_technology_for_mobile_internet_devices__intel_cvt_for_mid_': False, 'attr_b_intel__intru__3d_technology': False, 'attr_t_hdd_speed': '5400', 'attr_n_height': 45.0, 'attr_t_stepping': 'M0', 'attr_t_processor_cores': '2', 'supplier': 'HP', 'attr_b_manual': True, 'attr_t_speakers_manufacturer': 'Altec Lansing', 'attr_t_processor_family': 'Intel Core 2 Duo', 'attr_b_on_board_graphics_adapter': False, 'attr_t_headphone_connectivity': '3.5 mm', 'attr_t_operating_temperature__t_t_': '0 - 35', 'attr_n_processing_die_size': 107.0, 'attr_b_conflict_free_processor': False, 'attr_n_ac_adapter_power': 90.0, 'attr_b_execute_disable_bit': True, 'attr_b_front_camera': True, 'date_released': '2008-12-19T00:00:00Z', 'attr_t_operating_relative_humidity__h_h_': '10 - 90', 'attr_n_processor_frequency': 2.13, 'attr_b_intel_vt_x_with_extended_page_tables__ept_': False, 'attr_b_energy_star_certified': True, 'attr_n_number_of_processing_die_transistors': 410.0, 'attr_b_power_auto_sensing': True, 'attr_n_cpu_multiplier__bus_core_ratio_': 7.5, 'attr_t_internal_memory_type': 'DDR2-SDRAM', 'attr_b_full_size_keyboard': True, 'attr_t_audio_system': '3D Sound Blaster Pro', 'attr_t_contrast_ratio__typical_': '200:1', 'attr_b_embedded_options_available': False, 'attr_n_headphone_outputs': 2.0, 'attr_t_product_type': 'Notebook', 'attr_n_modem__rj_11__ports': 1.0, 'attr_n_processor_cache': 3.0, 'attr_n_display_diagonal': 17.0, 'attr_b_enhanced_intel_speedstep_technology': True, 'attr_b_intel__anti_theft_technology__intel__at_': False, 'title': 'HP Pavilion dv7-1211ea Notebook Silver 43.2 cm (17\") 1440 x 900 pixels Intel® Core™2 Duo 4 GB DDR2-SDRAM 250 GB HDD NVIDIA® GeForce® 9200M GS Windows Vista Home Premium', 'attr_t_battery_technology': 'Lithium-Ion (Li-Ion)', 'attr_t_form_factor': 'Clamshell', 'attr_n_total_storage_capacity': 250.0, 'attr_b_lightscribe': True, 'attr_b_intel__insider_': False, 'attr_t_number_of_battery_cells': '8', 'attr_n_processor_lithography': 45.0, 'attr_n_hdmi_ports_quantity': 1.0, 'attr_b_intel_demand_based_switching': False, 'price': 10995.0, 'attr_b_warranty_card': True, 'attr_b_smartcard_slot': False, 'attr_b_built_in_microphone': True, 'name': 'dv7-1211ea', 'attr_t_optical_drive_type': 'DVD Super Multi DL', 'attr_n_processor_front_side_bus': 1066.0, 'attr_t_data_network': 'Not supported', 'attr_b_intel_virtualization_technology_for_directed_i_o__vt_d_': False, 'attr_t_on_board_graphics_adapter_model': 'Not available', 'attr_b_cable_lock_slot': True, 'attr_n_number_of_hdds_installed': 1.0, 'attr_t_intel__turbo_boost_technology': 'N', 'img_500x500': 'http://images.icecat.biz/img/gallery_mediums/2101957_8011415648.jpg', 'attr_b_expresscard_slot': True, 'attr_n_maximum_internal_memory': 8.0, 'attr_t_operating_system_installed': 'Windows Vista Home Premium', 'ean': ['0884420588030'], 'attr_t_memory_layout__slots_x_size_': '2 x 2', 'attr_n_weight': 3460.0, 'attr_t_memory_slots': '2x SO-DIMM', 'attr_t_operating_system_architecture': '32-bit', 'attr_t_operating_altitude': '-15 - 3048', 'attr_t_product_colour': 'Silver', 'attr_t_aspect_ratio': '16:10', 'attr_b_intel__rapid_start_technology': False, 'attr_b_ethernet_lan': True, 'attr_t_ethernet_lan_data_rates': '10,100,1000', 'attr_b_intel_flex_memory_access': False, 'attr_t_wi_fi_standards': '802.11b,802.11g', 'attr_n_esata_ports_quantity': 1.0, 'attr_n_thermal_design_power__tdp_': 25.0, 'attr_t_processor_socket': 'Socket 478', 'attr_t_storage_temperature__t_t_': '-20 - 60', 'attr_t_cardbus_pcmcia_slot_type': 'N', 'attr_t_compatible_memory_cards': 'Memory Stick (MS),MMC,MS PRO,SD,xD', 'attr_t_display_resolution': '1440 x 900', 'attr_t_ac_adapter_input_voltage': '100 - 240', 'attr_b_intel__quick_sync_video_technology': False, 'attr_b_intel__smart_response_technology': False, 'id': '2101957', 'attr_n_depth': 285.0, 'attr_n_package_depth': 170.0, 'attr_b_ac_adapter_included': True, 'attr_t_bus_type': 'FSB', 'attr_n_ethernet_lan__rj_45__ports': 1.0, 'attr_b_discrete_graphics_adapter': True, 'img_high': 'http://images.icecat.biz/img/gallery/2101957_8011415648.jpg', 'attr_b_card_reader_integrated': True, 'attr_b_intel_virtualization_technology__vt_x_': True, 'attr_n_number_of_built_in_speakers': 2.0, 'attr_n_firewire__ieee_1394__ports': 1.0, 'attr_n_vga__d_sub__ports_quantity': 1.0, 'attr_b_intel__wireless_display__intel__widi_': False, 'attr_n_processor_ark_id': 36734.0, 'attr_t_memory_form_factor': 'SO-DIMM', 'attr_b_intel__hyper_threading_technology__intel__ht_technology_': False, 'attr_b_drivers_included': True, 'attr_n_package_width': 480.0, 'attr_b_intel_trusted_execution_technology': False, 'attr_b_ecc_supported_by_processor': False, 'attr_n_discrete_graphics_adapter_memory': 0.512, 'attr_b_fsb_parity': False, 'attr_b_power_cord_included': True, 'short_description': 'Intel Core 2 Duo Processor P7450 (3M Cache, 2.13 GHz, 1066 MHz FSB), 4GB DDR2, 250GB SATA HDD, 17\" WXGA+ HD BrightView 1440 x 900, nVidia GeForce 9200M GS, DVD Super Multi DL, Gigabit Ethernet, WLAN 802.11 b/g, WebCam, Windows Vista Home Premium 32-bit', 'attr_b_wi_fi': True, 'attr_t_pointing_device': 'Touchpad', 'attr_b_windows_keys': True, 'attr_n_maximum_internal_memory__64_bit_': 8.0, 'attr_b_intel_fast_memory_access': False, 'attr_t_processor_codename': 'Penryn', 'attr_b_intel__aes_new_instructions__intel__aes_ni_': False, 'attr_b_intel__clear_video_hd_technology__intel__cvt_hd_': False, 'img_low': 'http://images.icecat.biz/img/gallery_lows/2101957_8011415648.jpg', 'attr_b_docking_connector': True, 'attr_b_intel_smart_connect_technology': False, 'attr_b_bluetooth': True, 'attr_t_country_of_origin': 'China', 'attr_t_processor_model': 'P7450', 'attr_b_4g_wimax': False, 'attr_b_s_pdif_out_port': False, 'attr_b_touchscreen': False, 'attr_t_charging_port_type': 'DC-in jack', 'attr_n_usb_2_0_ports_quantity': 4.0, 'attr_b_intel_fdi_technology': False, 'attr_t_microphone_connectivity': '3.5 mm', 'attr_t_discrete_graphics_adapter_model': 'NVIDIA GeForce 9200M GS', 'attr_b_intel_64': True, 'attr_t_processor_operating_modes': '64-bit', 'attr_b_thermal_monitoring_technologies': False, 'attr_b_intel_dual_display_capable_technology': False, 'attr_n_tjunction': 90.0, 'attr_n_internal_memory': 4.0, 'attr_b_handheld_remote_control': True}\n",
      "{'value': 0.5432358980178833}\n",
      "---\n",
      "ProCurve 420 Wireless Access Point HP ProCurve 420 Wireless Access Point Refurbished A FULL-FEATURED IEEE 802.11G SINGLE-RADIO ACCESS POINT IDEALLY HP\n",
      "{'ean': ['0882780985407'], 'img_high': 'http://images.icecat.biz/img/norm/high/1449722-HP.jpg', 'title': 'HP ProCurve 420 Wireless Access Point', 'price': 9495.0, 'img_500x500': 'http://images.icecat.biz/img/gallery_mediums/img_1449722_medium_1480997766_6498_5955.jpg', 'id': '1449722', 'img_low': 'http://images.icecat.biz/img/norm/low/1449722-HP.jpg', 'date_released': '2008-03-07T00:00:00Z', 'name': 'ProCurve 420 Wireless Access Point', 'img_thumb': 'http://images.icecat.biz/thumbs/1449722.jpg', 'short_description': 'Refurbished A FULL-FEATURED IEEE 802.11G SINGLE-RADIO ACCESS POINT IDEALLY', 'supplier': 'HP'}\n",
      "{'value': 0.6699841022491455}\n",
      "---\n",
      "IT Power Distribution Module 3 Pole 5 Wire 32A IEC309 620cm APC IT Power Distribution Module 3 Pole 5 Wire 32A IEC309 620cm power distribution unit (PDU) IT Power Distribution Module 3 Pole 5 Wire 32A IEC309 620cm APC IEC 309 32A 3P+N+PE (1) IEC 309 32A 400 400\n",
      "{'img_low': 'http://images.icecat.biz/img/norm/low/1570809-6802.jpg', 'ean': ['0731304258193'], 'id': '1570809', 'name': 'IT Power Distribution Module 3 Pole 5 Wire 32A IEC309 620cm', 'title': 'APC IT Power Distribution Module 3 Pole 5 Wire 32A IEC309 620cm power distribution unit (PDU)', 'attr_n_weight': 4290.0, 'attr_t_input_connection_type': 'IEC 309 32A 3P+N+PE', 'price': 53895.0, 'img_500x500': 'http://images.icecat.biz/img/gallery_mediums/img_1570809_medium_1480983343_7059_6217.jpg', 'short_description': 'IT Power Distribution Module 3 Pole 5 Wire 32A IEC309 620cm', 'attr_t_output_connections': '(1) IEC 309 32A', 'attr_t_nominal_output_voltage': '400', 'attr_n_maximum_total_current_draw_per_phase': 32.0, 'date_released': '2008-04-11T00:00:00Z', 'attr_n_maximum_input_current_per_phase': 32.0, 'img_thumb': 'http://images.icecat.biz/thumbs/1570809.jpg', 'img_high': 'http://images.icecat.biz/img/norm/high/1570809-6802.jpg', 'supplier': 'APC', 'attr_t_nominal_input_voltage': '400'}\n",
      "{'value': 0.7887700796127319}\n",
      "---\n",
      "Emergency Power Off (EPO) APC Emergency Power Off (EPO) Emergency Power Off (EPO) APC 251 x 66 x 226 5 - 95 -5 - 45 0 - 3000 Black 305 x 127 x 305\n",
      "{'price': 69195.0, 'attr_t_operating_relative_humidity__h_h_': '5 - 95', 'attr_n_package_weight': 3140.0, 'ean': ['0731304213239'], 'date_released': '2006-11-15T00:00:00Z', 'attr_t_dimensions__wxdxh_': '251 x 66 x 226', 'attr_t_product_colour': 'Black', 'name': 'Emergency Power Off (EPO)', 'short_description': 'Emergency Power Off (EPO)', 'title': 'APC Emergency Power Off (EPO)', 'img_low': 'http://images.icecat.biz/img/norm/low/636678-1968.jpg', 'attr_n_weight': 2900.0, 'img_500x500': 'http://images.icecat.biz/img/gallery_mediums/img_636678_medium_1480944064_4778_26509.jpg', 'img_thumb': 'http://images.icecat.biz/thumbs/636678.jpg', 'attr_t_non_operating_altitude': '0 - 3000', 'attr_t_package_dimensions__wxdxh_': '305 x 127 x 305', 'id': '636678', 'img_high': 'http://images.icecat.biz/img/norm/high/636678-1968.jpg', 'supplier': 'APC', 'attr_t_operating_temperature__t_t_': '-5 - 45'}\n",
      "{'value': 0.8003706932067871}\n",
      "---\n",
      "Labels Premium A4 64.6x33.8 mm white paper matt 2400 pcs. HERMA Labels Premium A4 64.6x33.8 mm white paper matt 2400 pcs. Labels Premium A4 64.6x33.8 mm white paper matt 2400 pcs. HERMA White Self-adhesive printer label A4 Paper Laser/Inkjet Permanent Matte Rectangle PEFC Germany also for 3,5\" disk\n",
      "{'attr_n_package_depth': 20.0, 'attr_n_labels_per_sheet': 24.0, 'ean': ['4008705042628'], 'attr_t_adhesive_type': 'Permanent', 'attr_t_certification': 'PEFC', 'short_description': 'Labels Premium A4 64.6x33.8 mm white paper matt 2400 pcs.', 'attr_t_print_technology': 'Laser/Inkjet', 'attr_t_format': 'A4', 'attr_n_package_width': 212.0, 'attr_n_label_height': 33.8, 'supplier': 'HERMA', 'img_high': 'http://images.icecat.biz/img/gallery/148843_2449.jpg', 'attr_n_package_weight': 1000.0, 'attr_t_shape': 'Rectangle', 'attr_t_label_type': 'Self-adhesive printer label', 'img_low': 'http://images.icecat.biz/img/gallery_lows/148843_2449.jpg', 'attr_n_sheet_width': 210.0, 'name': 'Labels Premium A4 64.6x33.8 mm white paper matt 2400 pcs.', 'attr_n_label_width': 64.6, 'img_500x500': 'http://images.icecat.biz/img/gallery_mediums/148843_2449.jpg', 'attr_t_product_colour': 'White', 'title': 'HERMA Labels Premium A4 64.6x33.8 mm white paper matt 2400 pcs.', 'attr_n_media_sheets_per_package': 100.0, 'id': '148843', 'date_released': '2005-07-15T00:00:00Z', 'attr_t_material': 'Paper', 'attr_t_finish_type': 'Matte', 'attr_b_pefc_certified': True, 'attr_t_technical_features': 'also for 3,5\" disk', 'price': 3795.0, 'img_thumb': 'http://images.icecat.biz/img/gallery_thumbs/148843_2449.jpg', 'attr_n_labels_per_pack': 2400.0, 'attr_n_package_height': 302.0, 'attr_n_sheet_length': 297.0, 'attr_t_country_of_origin': 'Germany'}\n",
      "{'value': 0.8081765174865723}\n",
      "---\n",
      "LC51C Brother LC51C Original Cyan LC51C Brother Original Cyan DCP-130C, DCP-330C, DCP-350C, IntelliFax-1860C, IntelliFax-1960C, IntelliFax-2480C, IntelliFax-2580C, MFC-230C, MFC-240C, MFC-3360C, MFC-440CN, MFC-465CN, MFC-5460CN, MFC-5860CN, MFC-665CW, MFC-685CW, MFC-845CW, MFC-885CW Inkjet printing\n",
      "{'supplier': 'Brother', 'img_low': 'http://images.icecat.biz/img/norm/low/2067378-274.jpg', 'short_description': 'LC51C', 'name': 'LC51C', 'date_released': '2009-04-08T00:00:00Z', 'id': '2067378', 'img_high': 'http://images.icecat.biz/img/norm/high/2067378-274.jpg', 'img_500x500': 'http://images.icecat.biz/img/gallery_mediums/img_2067378_medium_1481020819_0464_12184.jpg', 'attr_b_colour': True, 'attr_t_printing_colours': 'Cyan', 'ean': ['0012502615620'], 'attr_t_print_technology': 'Inkjet printing', 'title': 'Brother LC51C Original Cyan', 'price': 1795.0, 'attr_t_type': 'Original', 'attr_t_compatibility': 'DCP-130C, DCP-330C, DCP-350C, IntelliFax-1860C, IntelliFax-1960C, IntelliFax-2480C, IntelliFax-2580C, MFC-230C, MFC-240C, MFC-3360C, MFC-440CN, MFC-465CN, MFC-5460CN, MFC-5860CN, MFC-665CW, MFC-685CW, MFC-845CW, MFC-885CW', 'img_thumb': 'http://images.icecat.biz/thumbs/2067378.jpg'}\n",
      "{'value': 0.8110156655311584}\n",
      "---\n",
      "006R90321 Xerox 006R90321 toner cartridge Original Black 6 pc(s) Toner (6 Per Box) for CopyCentre C65 Digital Copier Xerox Original Black Laser printing CopyCentre C65\n",
      "{'img_thumb': 'http://images.icecat.biz/img/gallery_thumbs/img_3920564_thumb_1472618727_2925_7091.jpg', 'img_low': 'http://images.icecat.biz/img/gallery_lows/img_3920564_low_1472618727_2493_7091.jpg', 'attr_n_quantity_per_pack': 6.0, 'ean': ['0095205603217'], 'img_500x500': 'http://images.icecat.biz/img/gallery_mediums/img_3920564_medium_1472618727_1445_7091.jpg', 'short_description': 'Toner (6 Per Box) for CopyCentre C65 Digital Copier', 'title': 'Xerox 006R90321 toner cartridge Original Black 6 pc(s)', 'attr_n_black_toner_page_yield': 23000.0, 'img_high': 'http://images.icecat.biz/img/gallery/img_3920564_high_1472618727_1208_7091.jpg', 'attr_t_print_technology': 'Laser printing', 'name': '006R90321', 'attr_t_printing_colours': 'Black', 'date_released': '2009-12-10T00:00:00Z', 'price': 4995.0, 'attr_t_compatibility': 'CopyCentre C65', 'supplier': 'Xerox', 'id': '3920564', 'attr_t_type': 'Original'}\n",
      "{'value': 0.8650059103965759}\n",
      "---\n",
      "2GB SD Card Integral 2GB SD Card memory card 2GB SD Card Integral SD\n",
      "{'date_released': '2008-06-23T00:00:00Z', 'attr_b_plug_and_play': True, 'title': 'Integral 2GB SD Card memory card', 'attr_t_flash_card_type': 'SD', 'ean': ['5055288404878'], 'name': '2GB SD Card', 'price': 1195.0, 'short_description': '2GB SD Card', 'supplier': 'Integral', 'id': '1625640', 'img_thumb': 'http://images.icecat.biz/thumbs/1625640.jpg', 'attr_n_capacity': 2.0, 'img_high': 'http://images.icecat.biz/img/norm/high/1625640-1443.jpg', 'img_500x500': 'http://images.icecat.biz/img/gallery_mediums/img_1625640_medium_1480990774_7102_6217.jpg', 'img_low': 'http://images.icecat.biz/img/norm/low/1625640-1443.jpg'}\n",
      "{'value': 0.8817209005355835}\n",
      "---\n",
      "15 ft Coax High Resolution 90deg; Upward Angled VGA Monitor Cable - HD15 M/M StarTech.com 15 ft Coax High Resolution 90deg; Upward Angled VGA Monitor Cable - HD15 M/M StarTech.com 15 ft Coax High Resolution 90deg; Upward Angled VGA Monitor Cable - HD15 M/M StarTech.com VGA (D-Sub) VGA (D-Sub) Male connector Male connector Black 28 Polyvinyl chloride (PVC)\n",
      "{'attr_b_ferrite_bead': True, 'attr_t_connector_2_gender': 'Male connector', 'attr_b_rohs_compliance': True, 'title': 'StarTech.com 15 ft Coax High Resolution 90deg; Upward Angled VGA Monitor Cable - HD15 M/M', 'img_low': 'http://images.icecat.biz/img/norm/low/3934277-StarTech.com.jpg', 'supplier': 'StarTech.com', 'img_high': 'http://images.icecat.biz/img/norm/high/3934277-StarTech.com.jpg', 'attr_t_connector_2': 'VGA (D-Sub)', 'attr_t_connector_1_gender': 'Male connector', 'img_500x500': 'http://images.icecat.biz/img/norm/medium/3934277-StarTech.com.jpg', 'short_description': 'StarTech.com 15 ft Coax High Resolution 90deg; Upward Angled VGA Monitor Cable - HD15 M/M', 'price': 1395.0, 'attr_n_quantity_per_pack': 1.0, 'id': '3934277', 'img_thumb': 'http://images.icecat.biz/thumbs/3934277.jpg', 'attr_n_package_depth': 120.0, 'attr_n_cable_length': 4.6, 'attr_t_connector_1': 'VGA (D-Sub)', 'attr_n_package_weight': 500.0, 'name': '15 ft Coax High Resolution 90deg; Upward Angled VGA Monitor Cable - HD15 M/M', 'attr_t_cable_jacket_material': 'Polyvinyl chloride (PVC)', 'attr_t_product_colour': 'Black', 'attr_n_weight': 465.0, 'attr_b_plug_and_play': True, 'attr_n_package_width': 22.0, 'ean': ['0065030836418'], 'attr_n_package_height': 377.0, 'date_released': '2009-12-24T00:00:00Z', 'attr_t_awg_wire_size': '28'}\n",
      "{'value': 0.9071367979049683}\n",
      "---\n",
      "DB9 RS232 Serial Null Modem Adapter - M/F StarTech.com DB9 RS232 Serial Null Modem Adapter - M/F StarTech.com DB9 RS232 Serial Null Modem Adapter - M/F StarTech.com DB9 DB9 Male connector/Female connector Grey CE, REACH\n",
      "{'name': 'DB9 RS232 Serial Null Modem Adapter - M/F', 'attr_t_product_colour': 'Grey', 'img_high': 'http://images.icecat.biz/img/gallery/1128895_4034494654.jpg', 'attr_n_height': 15.0, 'short_description': 'StarTech.com DB9 RS232 Serial Null Modem Adapter - M/F', 'price': 595.0, 'img_low': 'http://images.icecat.biz/img/gallery_lows/1128895_4034494654.jpg', 'img_500x500': 'http://images.icecat.biz/img/gallery_mediums/1128895_4034494654.jpg', 'ean': ['0065030815772'], 'attr_b_rohs_compliance': True, 'attr_n_weight': 33.0, 'attr_n_package_width': 90.0, 'img_thumb': 'http://images.icecat.biz/img/gallery_thumbs/1128895_4034494654.jpg', 'attr_n_package_weight': 38.0, 'attr_t_connector_gender': 'Male connector/Female connector', 'attr_t_connector_2': 'DB9', 'supplier': 'StarTech.com', 'attr_n_depth': 50.5, 'attr_t_connector_1': 'DB9', 'attr_n_package_height': 125.0, 'date_released': '2007-08-09T00:00:00Z', 'attr_n_width': 33.6, 'title': 'StarTech.com DB9 RS232 Serial Null Modem Adapter - M/F', 'attr_t_certification': 'CE, REACH', 'id': '1128895'}\n",
      "{'value': 0.9289161562919617}\n",
      "---\n"
     ]
    }
   ],
   "source": [
    "for match in r[0].matches:\n",
    "    print(match.text)\n",
    "    print(match.tags)\n",
    "    print(match.scores[\"cosine\"])\n",
    "    print(\"---\")"
   ]
  },
  {
   "cell_type": "code",
   "execution_count": 36,
   "metadata": {},
   "outputs": [],
   "source": [
    "img = r[0].matches[0].tags[\"img_thumb\"]"
   ]
  },
  {
   "cell_type": "code",
   "execution_count": 37,
   "metadata": {},
   "outputs": [
    {
     "data": {
      "text/plain": [
       "'http://images.icecat.biz/img/gallery_thumbs/2101957_8011415648.jpg'"
      ]
     },
     "execution_count": 37,
     "metadata": {},
     "output_type": "execute_result"
    }
   ],
   "source": [
    "img"
   ]
  },
  {
   "cell_type": "code",
   "execution_count": null,
   "metadata": {},
   "outputs": [],
   "source": [
    "from PIL import Image\n"
   ]
  },
  {
   "cell_type": "code",
   "execution_count": 34,
   "metadata": {},
   "outputs": [
    {
     "name": "stdout",
     "output_type": "stream",
     "text": [
      "📄 Document: 58f3c3720f2e82267a7e53cc09ec882e\n",
      "╭───────────┬──────────────────────────────────────────────────────────────────╮\n",
      "│ Attribute │ Value                                                            │\n",
      "├───────────┼──────────────────────────────────────────────────────────────────┤\n",
      "│ adjacency │ 1                                                                │\n",
      "│ text      │ dv7-1211ea HP Pavilion dv7-1211ea Notebook Silver 43.2 cm (17\")  │\n",
      "│           │ 1440 x 900 pixels Intel® Core™2 Duo ... (length: 974)            │\n",
      "│ tags      │ {'attr_t_processor_threads': '2', 'attr_t_hdd_interface':        │\n",
      "│           │ 'SATA', 'attr_t_processor_series': 'Intel Core 2 Duo P7000       │\n",
      "│           │ series', 'attr_t_processor_cache_type': 'L2',                    │\n",
      "│           │ 'attr_t_ac_adapter_frequency': '50 - 60',                        │\n",
      "│           │ 'attr_b_intel_rapid_storage_technology': False, 'attr_n_width':  │\n",
      "│           │ 396.0, 'attr_t_processor_manufacturer': 'Intel',                 │\n",
      "│           │ 'attr_t_storage_relative_humidity__h_h_': '5 - 65',              │\n",
      "│           │ 'attr_b_dvi_port': False, 'attr_b_intel_clear_video_technology': │\n",
      "│           │ False, 'attr_b_numeric_keypad': True,                            │\n",
      "│           │ 'attr_t_non_operating_altitude': '-15 - 12192',                  │\n",
      "│           │ 'attr_b_intel__my_wifi_technology__intel__mwt_': False,          │\n",
      "│           │ 'img_thumb':                                                     │\n",
      "│           │ 'http://images.icecat.biz/img/gallery_thumbs/2101957_8011415648… │\n",
      "│           │ 'attr_n_hdd_capacity': 250.0,                                    │\n",
      "│           │ 'attr_b_intel_enhanced_halt_state': False,                       │\n",
      "│           │ 'attr_t_storage_media': 'HDD', 'attr_n_package_height': 350.0,   │\n",
      "│           │ 'attr_b_microphone_in': True,                                    │\n",
      "│           │ 'attr_b_intel__clear_video_technology_for_mobile_internet_devic… │\n",
      "│           │ False, 'attr_b_intel__intru__3d_technology': False,              │\n",
      "│           │ 'attr_t_hdd_speed': '5400', 'attr_n_height': 45.0,               │\n",
      "│           │ 'attr_t_stepping': 'M0', 'attr_t_processor_cores': '2',          │\n",
      "│           │ 'supplier': 'HP', 'attr_b_manual': True,                         │\n",
      "│           │ 'attr_t_speakers_manufacturer': 'Altec Lansing',                 │\n",
      "│           │ 'attr_t_processor_family': 'Intel Core 2 Duo',                   │\n",
      "│           │ 'attr_b_on_board_graphics_adapter': False,                       │\n",
      "│           │ 'attr_t_headphone_connectivity': '3.5 mm',                       │\n",
      "│           │ 'attr_t_operating_temperature__t_t_': '0 - 35',                  │\n",
      "│           │ 'attr_n_processing_die_size': 107.0,                             │\n",
      "│           │ 'attr_b_conflict_free_processor': False,                         │\n",
      "│           │ 'attr_n_ac_adapter_power': 90.0, 'attr_b_execute_disable_bit':   │\n",
      "│           │ True, 'attr_b_front_camera': True, 'date_released':              │\n",
      "│           │ '2008-12-19T00:00:00Z',                                          │\n",
      "│           │ 'attr_t_operating_relative_humidity__h_h_': '10 - 90',           │\n",
      "│           │ 'attr_n_processor_frequency': 2.13,                              │\n",
      "│           │ 'attr_b_intel_vt_x_with_extended_page_tables__ept_': False,      │\n",
      "│           │ 'attr_b_energy_star_certified': True,                            │\n",
      "│           │ 'attr_n_number_of_processing_die_transistors': 410.0,            │\n",
      "│           │ 'attr_b_power_auto_sensing': True,                               │\n",
      "│           │ 'attr_n_cpu_multiplier__bus_core_ratio_': 7.5,                   │\n",
      "│           │ 'attr_t_internal_memory_type': 'DDR2-SDRAM',                     │\n",
      "│           │ 'attr_b_full_size_keyboard': True, 'attr_t_audio_system': '3D    │\n",
      "│           │ Sound Blaster Pro', 'attr_t_contrast_ratio__typical_': '200:1',  │\n",
      "│           │ 'attr_b_embedded_options_available': False,                      │\n",
      "│           │ 'attr_n_headphone_outputs': 2.0, 'attr_t_product_type':          │\n",
      "│           │ 'Notebook', 'attr_n_modem__rj_11__ports': 1.0,                   │\n",
      "│           │ 'attr_n_processor_cache': 3.0, 'attr_n_display_diagonal': 17.0,  │\n",
      "│           │ 'attr_b_enhanced_intel_speedstep_technology': True,              │\n",
      "│           │ 'attr_b_intel__anti_theft_technology__intel__at_': False,        │\n",
      "│           │ 'title': 'HP Pavilion dv7-1211ea Notebook Silver 43.2 cm (17\")   │\n",
      "│           │ 1440 x 900 pixels Intel® Core™2 Duo 4 GB DDR2-SDRAM 250 GB HDD   │\n",
      "│           │ NVIDIA® GeForce® 9200M GS Windows Vista Home Premium',           │\n",
      "│           │ 'attr_t_battery_technology': 'Lithium-Ion (Li-Ion)',             │\n",
      "│           │ 'attr_t_form_factor': 'Clamshell',                               │\n",
      "│           │ 'attr_n_total_storage_capacity': 250.0, 'attr_b_lightscribe':    │\n",
      "│           │ True, 'attr_b_intel__insider_': False,                           │\n",
      "│           │ 'attr_t_number_of_battery_cells': '8',                           │\n",
      "│           │ 'attr_n_processor_lithography': 45.0,                            │\n",
      "│           │ 'attr_n_hdmi_ports_quantity': 1.0,                               │\n",
      "│           │ 'attr_b_intel_demand_based_switching': False, 'price': 10995.0,  │\n",
      "│           │ 'attr_b_warranty_card': True, 'attr_b_smartcard_slot': False,    │\n",
      "│           │ 'attr_b_built_in_microphone': True, 'name': 'dv7-1211ea',        │\n",
      "│           │ 'attr_t_optical_drive_type': 'DVD Super Multi DL',               │\n",
      "│           │ 'attr_n_processor_front_side_bus': 1066.0,                       │\n",
      "│           │ 'attr_t_data_network': 'Not supported',                          │\n",
      "│           │ 'attr_b_intel_virtualization_technology_for_directed_i_o__vt_d_… │\n",
      "│           │ False, 'attr_t_on_board_graphics_adapter_model': 'Not            │\n",
      "│           │ available', 'attr_b_cable_lock_slot': True,                      │\n",
      "│           │ 'attr_n_number_of_hdds_installed': 1.0,                          │\n",
      "│           │ 'attr_t_intel__turbo_boost_technology': 'N', 'img_500x500':      │\n",
      "│           │ 'http://images.icecat.biz/img/gallery_mediums/2101957_801141564… │\n",
      "│           │ 'attr_b_expresscard_slot': True,                                 │\n",
      "│           │ 'attr_n_maximum_internal_memory': 8.0,                           │\n",
      "│           │ 'attr_t_operating_system_installed': 'Windows Vista Home         │\n",
      "│           │ Premium', 'ean': ['0884420588030'],                              │\n",
      "│           │ 'attr_t_memory_layout__slots_x_size_': '2 x 2', 'attr_n_weight': │\n",
      "│           │ 3460.0, 'attr_t_memory_slots': '2x SO-DIMM',                     │\n",
      "│           │ 'attr_t_operating_system_architecture': '32-bit',                │\n",
      "│           │ 'attr_t_operating_altitude': '-15 - 3048',                       │\n",
      "│           │ 'attr_t_product_colour': 'Silver', 'attr_t_aspect_ratio':        │\n",
      "│           │ '16:10', 'attr_b_intel__rapid_start_technology': False,          │\n",
      "│           │ 'attr_b_ethernet_lan': True, 'attr_t_ethernet_lan_data_rates':   │\n",
      "│           │ '10,100,1000', 'attr_b_intel_flex_memory_access': False,         │\n",
      "│           │ 'attr_t_wi_fi_standards': '802.11b,802.11g',                     │\n",
      "│           │ 'attr_n_esata_ports_quantity': 1.0,                              │\n",
      "│           │ 'attr_n_thermal_design_power__tdp_': 25.0,                       │\n",
      "│           │ 'attr_t_processor_socket': 'Socket 478',                         │\n",
      "│           │ 'attr_t_storage_temperature__t_t_': '-20 - 60',                  │\n",
      "│           │ 'attr_t_cardbus_pcmcia_slot_type': 'N',                          │\n",
      "│           │ 'attr_t_compatible_memory_cards': 'Memory Stick (MS),MMC,MS      │\n",
      "│           │ PRO,SD,xD', 'attr_t_display_resolution': '1440 x 900',           │\n",
      "│           │ 'attr_t_ac_adapter_input_voltage': '100 - 240',                  │\n",
      "│           │ 'attr_b_intel__quick_sync_video_technology': False,              │\n",
      "│           │ 'attr_b_intel__smart_response_technology': False, 'id':          │\n",
      "│           │ '2101957', 'attr_n_depth': 285.0, 'attr_n_package_depth': 170.0, │\n",
      "│           │ 'attr_b_ac_adapter_included': True, 'attr_t_bus_type': 'FSB',    │\n",
      "│           │ 'attr_n_ethernet_lan__rj_45__ports': 1.0,                        │\n",
      "│           │ 'attr_b_discrete_graphics_adapter': True, 'img_high':            │\n",
      "│           │ 'http://images.icecat.biz/img/gallery/2101957_8011415648.jpg',   │\n",
      "│           │ 'attr_b_card_reader_integrated': True,                           │\n",
      "│           │ 'attr_b_intel_virtualization_technology__vt_x_': True,           │\n",
      "│           │ 'attr_n_number_of_built_in_speakers': 2.0,                       │\n",
      "│           │ 'attr_n_firewire__ieee_1394__ports': 1.0,                        │\n",
      "│           │ 'attr_n_vga__d_sub__ports_quantity': 1.0,                        │\n",
      "│           │ 'attr_b_intel__wireless_display__intel__widi_': False,           │\n",
      "│           │ 'attr_n_processor_ark_id': 36734.0, 'attr_t_memory_form_factor': │\n",
      "│           │ 'SO-DIMM',                                                       │\n",
      "│           │ 'attr_b_intel__hyper_threading_technology__intel__ht_technology… │\n",
      "│           │ False, 'attr_b_drivers_included': True, 'attr_n_package_width':  │\n",
      "│           │ 480.0, 'attr_b_intel_trusted_execution_technology': False,       │\n",
      "│           │ 'attr_b_ecc_supported_by_processor': False,                      │\n",
      "│           │ 'attr_n_discrete_graphics_adapter_memory': 0.512,                │\n",
      "│           │ 'attr_b_fsb_parity': False, 'attr_b_power_cord_included': True,  │\n",
      "│           │ 'short_description': 'Intel Core 2 Duo Processor P7450 (3M       │\n",
      "│           │ Cache, 2.13 GHz, 1066 MHz FSB), 4GB DDR2, 250GB SATA HDD, 17\"    │\n",
      "│           │ WXGA+ HD BrightView 1440 x 900, nVidia GeForce 9200M GS, DVD     │\n",
      "│           │ Super Multi DL, Gigabit Ethernet, WLAN 802.11 b/g, WebCam,       │\n",
      "│           │ Windows Vista Home Premium 32-bit', 'attr_b_wi_fi': True,        │\n",
      "│           │ 'attr_t_pointing_device': 'Touchpad', 'attr_b_windows_keys':     │\n",
      "│           │ True, 'attr_n_maximum_internal_memory__64_bit_': 8.0,            │\n",
      "│           │ 'attr_b_intel_fast_memory_access': False,                        │\n",
      "│           │ 'attr_t_processor_codename': 'Penryn',                           │\n",
      "│           │ 'attr_b_intel__aes_new_instructions__intel__aes_ni_': False,     │\n",
      "│           │ 'attr_b_intel__clear_video_hd_technology__intel__cvt_hd_':       │\n",
      "│           │ False, 'img_low':                                                │\n",
      "│           │ 'http://images.icecat.biz/img/gallery_lows/2101957_8011415648.j… │\n",
      "│           │ 'attr_b_docking_connector': True,                                │\n",
      "│           │ 'attr_b_intel_smart_connect_technology': False,                  │\n",
      "│           │ 'attr_b_bluetooth': True, 'attr_t_country_of_origin': 'China',   │\n",
      "│           │ 'attr_t_processor_model': 'P7450', 'attr_b_4g_wimax': False,     │\n",
      "│           │ 'attr_b_s_pdif_out_port': False, 'attr_b_touchscreen': False,    │\n",
      "│           │ 'attr_t_charging_port_type': 'DC-in jack',                       │\n",
      "│           │ 'attr_n_usb_2_0_ports_quantity': 4.0,                            │\n",
      "│           │ 'attr_b_intel_fdi_technology': False,                            │\n",
      "│           │ 'attr_t_microphone_connectivity': '3.5 mm',                      │\n",
      "│           │ 'attr_t_discrete_graphics_adapter_model': 'NVIDIA GeForce 9200M  │\n",
      "│           │ GS', 'attr_b_intel_64': True,                                    │\n",
      "│           │ 'attr_t_processor_operating_modes': '64-bit',                    │\n",
      "│           │ 'attr_b_thermal_monitoring_technologies': False,                 │\n",
      "│           │ 'attr_b_intel_dual_display_capable_technology': False,           │\n",
      "│           │ 'attr_n_tjunction': 90.0, 'attr_n_internal_memory': 4.0,         │\n",
      "│           │ 'attr_b_handheld_remote_control': True}                          │\n",
      "│ embedding │ ▄▄▄▄▄▄▄▄▄▄▄▄▄▄▄▄▄▄▄▄▄▄▄▄▄▄▄▄▄▄▄▄▄▄▄▄▄▄▄▄▄▄▄▄▄▄▄▄▄▄▄▄▄▄▄▄▄▄▄▄▄▄▄▄ │\n",
      "│           │ ▄▄▄▄▄▄▄▄▄▄▄▄▄▄▄▄▄▄▄▄▄▄▄▄▄▄▄▄▄▄▄▄▄▄▄▄▄▄▄▄▄▄▄▄▄▄▄▄▄▄▄▄▄▄▄▄▄▄▄▄▄▄▄▄ │\n",
      "│           │ ▄▄▄▄▄▄▄▄▄▄▄▄▄▄▄▄▄▄▄▄▄▄▄▄▄▄▄▄▄▄▄▄▄▄▄▄▄▄▄▄▄▄▄▄▄▄▄▄▄▄▄▄▄▄▄▄▄▄▄▄▄▄▄▄ │\n",
      "│           │ ▄▄▄▄▄▄▄▄▄▄▄▄▄▄▄▄▄▄▄▄▄▄▄▄▄▄▄▄▄▄▄▄▄▄▄▄▄▄▄▄▄▄▄▄▄▄▄▄▄▄▄▄▄▄▄▄▄▄▄▄▄▄▄▄ │\n",
      "│           │ ▄▄▄▄▄▄▄▄▄▄▄▄▄▄▄▄▄▄▄▄▄▄▄▄▄▄▄▄▄▄▄▄▄▄▄▄▄▄▄▄▄▄▄▄▄▄▄▄▄▄▄▄▄▄▄▄▄▄▄▄▄▄▄▄ │\n",
      "│           │ ▄▄▄▄▄▄▄▄▄▄▄▄▄▄▄▄▄▄▄▄▄▄▄▄▄▄▄▄▄▄▄▄▄▄▄▄▄▄▄▄▄▄▄▄▄▄▄▄▄▄▄▄▄▄▄▄▄▄▄▄▄▄▄▄ │\n",
      "│           │ ▄▄▄▄▄▄▄▄▄▄▄▄▄▄▄▄▄▄▄▄▄▄▄▄▄▄▄▄▄▄▄▄▄▄▄▄▄▄▄▄▄▄▄▄▄▄▄▄▄▄▄▄▄▄▄▄▄▄▄▄▄▄▄▄ │\n",
      "│           │ ▄▄▄▄▄▄▄▄▄▄▄▄▄▄▄▄▄▄▄▄▄▄▄▄▄▄▄▄▄▄▄▄▄▄▄▄▄▄▄▄▄▄▄▄▄▄▄▄▄▄▄▄▄▄▄▄▄▄▄▄▄▄▄▄ │\n",
      "│           │ ▄▄▄▄▄▄▄▄▄▄▄▄▄▄▄▄▄▄▄▄▄▄▄▄▄▄▄▄▄▄▄▄▄▄▄▄▄▄▄▄▄▄▄▄▄▄▄▄▄▄▄▄▄▄▄▄▄▄▄▄▄▄▄▄ │\n",
      "│           │ ▄▄▄▄▄▄▄▄▄▄▄▄▄▄▄▄▄▄▄▄▄▄▄▄▄▄▄▄▄▄▄▄▄▄▄▄▄▄▄▄▄▄▄▄▄▄▄▄▄▄▄▄▄▄▄▄▄▄▄▄▄▄▄▄ │\n",
      "│           │ ▄▄▄▄▄▄▄▄▄▄▄▄▄▄▄▄▄▄▄▄▄▄▄▄▄▄▄▄▄▄▄▄▄▄▄▄▄▄▄▄▄▄▄▄▄▄▄▄▄▄▄▄▄▄▄▄▄▄▄▄▄▄▄▄ │\n",
      "│           │ ▄▄▄▄▄▄▄▄▄▄▄▄▄▄▄▄▄▄▄▄▄▄▄▄▄▄▄▄▄▄▄▄▄▄▄▄▄▄▄▄▄▄▄▄▄▄▄▄▄▄▄▄▄▄▄▄▄▄▄▄▄▄▄  │\n",
      "│ scores    │ defaultdict(<class 'docarray.score.NamedScore'>, {'cosine':      │\n",
      "│           │ {'value': 0.5432358980178833}})                                  │\n",
      "╰───────────┴──────────────────────────────────────────────────────────────────╯\n"
     ]
    }
   ],
   "source": [
    "r[0].matches[0].summary()"
   ]
  },
  {
   "cell_type": "code",
   "execution_count": 13,
   "metadata": {},
   "outputs": [
    {
     "data": {
      "text/html": [
       "<pre style=\"white-space:pre;overflow-x:auto;line-height:normal;font-family:Menlo,'DejaVu Sans Mono',consolas,'Courier New',monospace\"></pre>\n"
      ],
      "text/plain": []
     },
     "metadata": {},
     "output_type": "display_data"
    },
    {
     "data": {
      "text/html": [
       "<pre style=\"white-space:pre;overflow-x:auto;line-height:normal;font-family:Menlo,'DejaVu Sans Mono',consolas,'Courier New',monospace\"></pre>\n"
      ],
      "text/plain": []
     },
     "metadata": {},
     "output_type": "display_data"
    },
    {
     "data": {
      "text/html": [
       "<pre style=\"white-space:pre;overflow-x:auto;line-height:normal;font-family:Menlo,'DejaVu Sans Mono',consolas,'Courier New',monospace\"></pre>\n"
      ],
      "text/plain": []
     },
     "metadata": {},
     "output_type": "display_data"
    },
    {
     "data": {
      "text/html": [
       "<pre style=\"white-space:pre;overflow-x:auto;line-height:normal;font-family:Menlo,'DejaVu Sans Mono',consolas,'Courier New',monospace\"></pre>\n"
      ],
      "text/plain": []
     },
     "metadata": {},
     "output_type": "display_data"
    },
    {
     "name": "stdout",
     "output_type": "stream",
     "text": [
      "────────────────────────── 🎉 Flow is ready to serve! ──────────────────────────\n",
      "╭────────────── 🔗 Endpoint ───────────────╮\n",
      "│  ⛓     Protocol                    GRPC  │\n",
      "│  🏠       Local           0.0.0.0:60079  │\n",
      "│  🔒     Private    192.168.155.39:60079  │\n",
      "│  🌍      Public    87.191.159.105:60079  │\n",
      "╰──────────────────────────────────────────╯\n",
      "\n"
     ]
    },
    {
     "data": {
      "text/html": [
       "<pre style=\"white-space:pre;overflow-x:auto;line-height:normal;font-family:Menlo,'DejaVu Sans Mono',consolas,'Courier New',monospace\">\n",
       "</pre>\n"
      ],
      "text/plain": [
       "\n"
      ]
     },
     "metadata": {},
     "output_type": "display_data"
    },
    {
     "name": "stdout",
     "output_type": "stream",
     "text": [
      "ERROR  GRPCClient@53977 gRPC error: StatusCode.UNAVAILABLE   [09/28/22 14:02:54]\n",
      "       keepalive watchdog timeout                                               \n",
      "       The ongoing request is terminated as the server is                       \n",
      "       not available or closed already.                                         \n"
     ]
    },
    {
     "name": "stderr",
     "output_type": "stream",
     "text": [
      "Exception in thread Thread-137:\n",
      "Traceback (most recent call last):\n",
      "  File \"/home/aswin/anaconda3/envs/jina/lib/python3.9/threading.py\", line 973, in _bootstrap_inner\n",
      "    self.run()\n",
      "  File \"/home/aswin/anaconda3/envs/jina/lib/python3.9/site-packages/jina/helper.py\", line 1299, in run\n",
      "    self.result = asyncio.run(func(*args, **kwargs))\n",
      "  File \"/home/aswin/anaconda3/envs/jina/lib/python3.9/asyncio/runners.py\", line 44, in run\n",
      "    return loop.run_until_complete(main)\n",
      "  File \"/home/aswin/anaconda3/envs/jina/lib/python3.9/asyncio/base_events.py\", line 647, in run_until_complete\n",
      "    return future.result()\n",
      "  File \"/home/aswin/anaconda3/envs/jina/lib/python3.9/site-packages/jina/clients/mixin.py\", line 256, in _get_results\n",
      "    async for resp in c._get_results(*args, **kwargs):\n",
      "  File \"/home/aswin/anaconda3/envs/jina/lib/python3.9/site-packages/jina/clients/base/grpc.py\", line 119, in _get_results\n",
      "    raise ConnectionError(my_details) from None\n",
      "ConnectionError: keepalive watchdog timeout\n"
     ]
    },
    {
     "name": "stdout",
     "output_type": "stream",
     "text": [
      "ERROR  encoder/rep-0@53977 Exception('Shutdown signal was    [09/28/22 14:03:55]\n",
      "       not received for 60 seconds') during <bound method                       \n",
      "       BasePod.close of <jina.orchestrate.pods.Pod object at                    \n",
      "       0x7feebca868e0>>                                                         \n",
      "        add \"--quiet-error\" to suppress the exception                           \n",
      "       details                                                                  \n",
      "       ╭──────── Traceback (most recent call last) ────────╮                    \n",
      "       │ /home/aswin/anaconda3/envs/jina/lib/python3.9/si… │                    \n",
      "       │ in run_async                                      │                    \n",
      "       │                                                   │                    \n",
      "       │   1311 │   │   │   thread.start()                 │                    \n",
      "       │   1312 │   │   │   thread.join()                  │                    \n",
      "       │   1313 │   │   │   try:                           │                    \n",
      "       │ ❱ 1314 │   │   │   │   return thread.result       │                    \n",
      "       │   1315 │   │   │   except AttributeError:         │                    \n",
      "       │   1316 │   │   │   │   from jina.excepts import B │                    \n",
      "       │   1317                                            │                    \n",
      "       ╰───────────────────────────────────────────────────╯                    \n",
      "       AttributeError: '_RunThread' object has no attribute                     \n",
      "       'result'                                                                 \n",
      "                                                                                \n",
      "       During handling of the above exception, another                          \n",
      "       exception occurred:                                                      \n",
      "                                                                                \n",
      "       ╭──────── Traceback (most recent call last) ────────╮                    \n",
      "       │ /tmp/ipykernel_53977/4154744263.py:8 in <cell     │                    \n",
      "       │ line: 7>                                          │                    \n",
      "       │                                                   │                    \n",
      "       │ [Errno 2] No such file or directory:              │                    \n",
      "       │ '/tmp/ipykernel_53977/4154744263.py'              │                    \n",
      "       │                                                   │                    \n",
      "       │ /home/aswin/anaconda3/envs/jina/lib/python3.9/si… │                    \n",
      "       │ in post                                           │                    \n",
      "       │                                                   │                    \n",
      "       │   262 │   │   │   if return_results:              │                    \n",
      "       │   263 │   │   │   │   return result               │                    \n",
      "       │   264 │   │                                       │                    \n",
      "       │ ❱ 265 │   │   return run_async(                   │                    \n",
      "       │   266 │   │   │   _get_results,                   │                    \n",
      "       │   267 │   │   │   inputs=inputs,                  │                    \n",
      "       │   268 │   │   │   on_done=on_done,                │                    \n",
      "       │                                                   │                    \n",
      "       │ /home/aswin/anaconda3/envs/jina/lib/python3.9/si… │                    \n",
      "       │ in run_async                                      │                    \n",
      "       │                                                   │                    \n",
      "       │   1315 │   │   │   except AttributeError:         │                    \n",
      "       │   1316 │   │   │   │   from jina.excepts import B │                    \n",
      "       │   1317 │   │   │   │                              │                    \n",
      "       │ ❱ 1318 │   │   │   │   raise BadClient(           │                    \n",
      "       │   1319 │   │   │   │   │   'something wrong when  │                    \n",
      "       │        retrieved'                                 │                    \n",
      "       │   1320 │   │   │   │   )                          │                    \n",
      "       │   1321 │   │   else:                              │                    \n",
      "       ╰───────────────────────────────────────────────────╯                    \n",
      "       BadClient: something wrong when running the                              \n",
      "       eventloop, result can not be retrieved                                   \n",
      "                                                                                \n",
      "       During handling of the above exception, another                          \n",
      "       exception occurred:                                                      \n",
      "                                                                                \n",
      "       ╭──────── Traceback (most recent call last) ────────╮                    \n",
      "       │ /home/aswin/anaconda3/envs/jina/lib/python3.9/si… │                    \n",
      "       │ in close                                          │                    \n",
      "       │                                                   │                    \n",
      "       │   150 │   │   │   │   │   timeout=self._timeout_c │                    \n",
      "       │   151 │   │   │   │   ):                          │                    \n",
      "       │   152 │   │   │   │   │   if not __windows__:     │                    \n",
      "       │ ❱ 153 │   │   │   │   │   │   raise Exception(    │                    \n",
      "       │   154 │   │   │   │   │   │   │   f'Shutdown sign │                    \n",
      "       │       seconds'                                    │                    \n",
      "       │   155 │   │   │   │   │   │   )                   │                    \n",
      "       │   156 │   │   │   │   │   else:                   │                    \n",
      "       ╰───────────────────────────────────────────────────╯                    \n",
      "       Exception: Shutdown signal was not received for 60                       \n",
      "       seconds                                                                  \n"
     ]
    },
    {
     "ename": "BadClient",
     "evalue": "something wrong when running the eventloop, result can not be retrieved",
     "output_type": "error",
     "traceback": [
      "\u001b[0;31m---------------------------------------------------------------------------\u001b[0m",
      "\u001b[0;31mAttributeError\u001b[0m                            Traceback (most recent call last)",
      "File \u001b[0;32m~/anaconda3/envs/jina/lib/python3.9/site-packages/jina/helper.py:1314\u001b[0m, in \u001b[0;36mrun_async\u001b[0;34m(func, *args, **kwargs)\u001b[0m\n\u001b[1;32m   1313\u001b[0m \u001b[39mtry\u001b[39;00m:\n\u001b[0;32m-> 1314\u001b[0m     \u001b[39mreturn\u001b[39;00m thread\u001b[39m.\u001b[39;49mresult\n\u001b[1;32m   1315\u001b[0m \u001b[39mexcept\u001b[39;00m \u001b[39mAttributeError\u001b[39;00m:\n",
      "\u001b[0;31mAttributeError\u001b[0m: '_RunThread' object has no attribute 'result'",
      "\nDuring handling of the above exception, another exception occurred:\n",
      "\u001b[0;31mBadClient\u001b[0m                                 Traceback (most recent call last)",
      "\u001b[1;32m/home/aswin/Documents/vector_jina/data_index.ipynb Cell 2\u001b[0m in \u001b[0;36m<cell line: 7>\u001b[0;34m()\u001b[0m\n\u001b[1;32m      <a href='vscode-notebook-cell:/home/aswin/Documents/vector_jina/data_index.ipynb#W6sZmlsZQ%3D%3D?line=4'>5</a>\u001b[0m f \u001b[39m=\u001b[39m Flow()\u001b[39m.\u001b[39madd(name\u001b[39m=\u001b[39m\u001b[39m'\u001b[39m\u001b[39mencoder\u001b[39m\u001b[39m'\u001b[39m, uses\u001b[39m=\u001b[39m\u001b[39m'\u001b[39m\u001b[39mjinahub://TransformerTorchEncoder/latest\u001b[39m\u001b[39m'\u001b[39m, install_requirements\u001b[39m=\u001b[39m\u001b[39mTrue\u001b[39;00m)\u001b[39m.\u001b[39madd(uses\u001b[39m=\u001b[39m\u001b[39m'\u001b[39m\u001b[39mjinahub://AnnLiteIndexer/latest\u001b[39m\u001b[39m'\u001b[39m, install_requirements\u001b[39m=\u001b[39m\u001b[39mTrue\u001b[39;00m, uses_with\u001b[39m=\u001b[39m{\u001b[39m'\u001b[39m\u001b[39mcolumns\u001b[39m\u001b[39m'\u001b[39m: [(\u001b[39m'\u001b[39m\u001b[39msupplier\u001b[39m\u001b[39m'\u001b[39m, \u001b[39m'\u001b[39m\u001b[39mstr\u001b[39m\u001b[39m'\u001b[39m), (\u001b[39m'\u001b[39m\u001b[39mprice\u001b[39m\u001b[39m'\u001b[39m, \u001b[39m'\u001b[39m\u001b[39mfloat\u001b[39m\u001b[39m'\u001b[39m), (\u001b[39m'\u001b[39m\u001b[39mattr_t_product_type\u001b[39m\u001b[39m'\u001b[39m, \u001b[39m'\u001b[39m\u001b[39mstr\u001b[39m\u001b[39m'\u001b[39m), (\u001b[39m'\u001b[39m\u001b[39mattr_t_product_colour\u001b[39m\u001b[39m'\u001b[39m, \u001b[39m'\u001b[39m\u001b[39mstr\u001b[39m\u001b[39m'\u001b[39m)], \u001b[39m'\u001b[39m\u001b[39mn_dim\u001b[39m\u001b[39m'\u001b[39m: \u001b[39m768\u001b[39m})\n\u001b[1;32m      <a href='vscode-notebook-cell:/home/aswin/Documents/vector_jina/data_index.ipynb#W6sZmlsZQ%3D%3D?line=6'>7</a>\u001b[0m \u001b[39mwith\u001b[39;00m f:\n\u001b[0;32m----> <a href='vscode-notebook-cell:/home/aswin/Documents/vector_jina/data_index.ipynb#W6sZmlsZQ%3D%3D?line=7'>8</a>\u001b[0m   f\u001b[39m.\u001b[39;49mindex(da)\n",
      "File \u001b[0;32m~/anaconda3/envs/jina/lib/python3.9/site-packages/jina/clients/mixin.py:265\u001b[0m, in \u001b[0;36mPostMixin.post\u001b[0;34m(self, on, inputs, on_done, on_error, on_always, parameters, target_executor, request_size, show_progress, continue_on_error, return_responses, **kwargs)\u001b[0m\n\u001b[1;32m    262\u001b[0m     \u001b[39mif\u001b[39;00m return_results:\n\u001b[1;32m    263\u001b[0m         \u001b[39mreturn\u001b[39;00m result\n\u001b[0;32m--> 265\u001b[0m \u001b[39mreturn\u001b[39;00m run_async(\n\u001b[1;32m    266\u001b[0m     _get_results,\n\u001b[1;32m    267\u001b[0m     inputs\u001b[39m=\u001b[39;49minputs,\n\u001b[1;32m    268\u001b[0m     on_done\u001b[39m=\u001b[39;49mon_done,\n\u001b[1;32m    269\u001b[0m     on_error\u001b[39m=\u001b[39;49mon_error,\n\u001b[1;32m    270\u001b[0m     on_always\u001b[39m=\u001b[39;49mon_always,\n\u001b[1;32m    271\u001b[0m     exec_endpoint\u001b[39m=\u001b[39;49mon,\n\u001b[1;32m    272\u001b[0m     target_executor\u001b[39m=\u001b[39;49mtarget_executor,\n\u001b[1;32m    273\u001b[0m     parameters\u001b[39m=\u001b[39;49mparameters,\n\u001b[1;32m    274\u001b[0m     request_size\u001b[39m=\u001b[39;49mrequest_size,\n\u001b[1;32m    275\u001b[0m     \u001b[39m*\u001b[39;49m\u001b[39m*\u001b[39;49mkwargs,\n\u001b[1;32m    276\u001b[0m )\n",
      "File \u001b[0;32m~/anaconda3/envs/jina/lib/python3.9/site-packages/jina/helper.py:1318\u001b[0m, in \u001b[0;36mrun_async\u001b[0;34m(func, *args, **kwargs)\u001b[0m\n\u001b[1;32m   1315\u001b[0m     \u001b[39mexcept\u001b[39;00m \u001b[39mAttributeError\u001b[39;00m:\n\u001b[1;32m   1316\u001b[0m         \u001b[39mfrom\u001b[39;00m \u001b[39mjina\u001b[39;00m\u001b[39m.\u001b[39;00m\u001b[39mexcepts\u001b[39;00m \u001b[39mimport\u001b[39;00m BadClient\n\u001b[0;32m-> 1318\u001b[0m         \u001b[39mraise\u001b[39;00m BadClient(\n\u001b[1;32m   1319\u001b[0m             \u001b[39m'\u001b[39m\u001b[39msomething wrong when running the eventloop, result can not be retrieved\u001b[39m\u001b[39m'\u001b[39m\n\u001b[1;32m   1320\u001b[0m         )\n\u001b[1;32m   1321\u001b[0m \u001b[39melse\u001b[39;00m:\n\u001b[1;32m   1323\u001b[0m     \u001b[39mraise\u001b[39;00m \u001b[39mRuntimeError\u001b[39;00m(\n\u001b[1;32m   1324\u001b[0m         \u001b[39m'\u001b[39m\u001b[39myou have an eventloop running but not using Jupyter/ipython, \u001b[39m\u001b[39m'\u001b[39m\n\u001b[1;32m   1325\u001b[0m         \u001b[39m'\u001b[39m\u001b[39mthis may mean you are using Jina with other integration? if so, then you \u001b[39m\u001b[39m'\u001b[39m\n\u001b[1;32m   1326\u001b[0m         \u001b[39m'\u001b[39m\u001b[39mmay want to use Client/Flow(asyncio=True). If not, then \u001b[39m\u001b[39m'\u001b[39m\n\u001b[1;32m   1327\u001b[0m         \u001b[39m'\u001b[39m\u001b[39mplease report this issue here: https://github.com/jina-ai/jina\u001b[39m\u001b[39m'\u001b[39m\n\u001b[1;32m   1328\u001b[0m     )\n",
      "\u001b[0;31mBadClient\u001b[0m: something wrong when running the eventloop, result can not be retrieved"
     ]
    }
   ],
   "source": [
    "da = da[:111]\n",
    "from jina import Flow\n",
    "f = Flow()\n",
    "\n",
    "f = Flow().add(name='encoder', uses='jinahub://TransformerTorchEncoder/latest', install_requirements=True).add(uses='jinahub://AnnLiteIndexer/latest', install_requirements=True, uses_with={'columns': [('supplier', 'str'), ('price', 'float'), ('attr_t_product_type', 'str'), ('attr_t_product_colour', 'str')], 'n_dim': 768})\n",
    "\n",
    "with f:\n",
    "  f.index(da)"
   ]
  },
  {
   "cell_type": "code",
   "execution_count": 7,
   "metadata": {},
   "outputs": [
    {
     "name": "stdout",
     "output_type": "stream",
     "text": [
      "────────────────────────── 🎉 Flow is ready to serve! ──────────────────────────\n",
      "╭────────────── 🔗 Endpoint ───────────────╮\n",
      "│  ⛓     Protocol                    GRPC  │\n",
      "│  🏠       Local           0.0.0.0:62504  │\n",
      "│  🔒     Private    192.168.155.39:62504  │\n",
      "│  🌍      Public    87.191.159.105:62504  │\n",
      "╰──────────────────────────────────────────╯\n",
      "\n"
     ]
    },
    {
     "data": {
      "application/vnd.jupyter.widget-view+json": {
       "model_id": "1e9c19b9aa6e4885998c1a7f31aae424",
       "version_major": 2,
       "version_minor": 0
      },
      "text/plain": [
       "Output()"
      ]
     },
     "metadata": {},
     "output_type": "display_data"
    },
    {
     "data": {
      "text/html": [
       "<pre style=\"white-space:pre;overflow-x:auto;line-height:normal;font-family:Menlo,'DejaVu Sans Mono',consolas,'Courier New',monospace\"></pre>\n"
      ],
      "text/plain": []
     },
     "metadata": {},
     "output_type": "display_data"
    },
    {
     "data": {
      "text/html": [
       "<pre style=\"white-space:pre;overflow-x:auto;line-height:normal;font-family:Menlo,'DejaVu Sans Mono',consolas,'Courier New',monospace\">\n",
       "</pre>\n"
      ],
      "text/plain": [
       "\n"
      ]
     },
     "metadata": {},
     "output_type": "display_data"
    }
   ],
   "source": [
    "#apply the filter\n",
    "with f:\n",
    "  text_matches = f.search(text_query, show_progress=True, parameters={\"filter\": filter})"
   ]
  },
  {
   "cell_type": "code",
   "execution_count": 8,
   "metadata": {},
   "outputs": [
    {
     "name": "stdout",
     "output_type": "stream",
     "text": [
      "📄 Document: bd7b37315dafc44a1601d211d3c22f45\n",
      "╭───────────┬──────────────────────────────────────────────────────────────────╮\n",
      "│ Attribute │ Value                                                            │\n",
      "├───────────┼──────────────────────────────────────────────────────────────────┤\n",
      "│ adjacency │ 1                                                                │\n",
      "│ text      │ ProBook 4320s Notebook PC HP ProBook 4320s Notebook PC Black     │\n",
      "│           │ 33.8 cm (13.3\") 1366 x 768 pixels 3rd g... (length: 1950)        │\n",
      "│ tags      │ {'attr_t_battery_type': '6-cell (47 WHr) Lithium-Ion Battery',   │\n",
      "│           │ 'attr_t_display': 'LCD',                                         │\n",
      "│           │ 'attr_b_intel__clear_video_hd_technology__intel__cvt_hd_': True, │\n",
      "│           │ 'attr_b_fsb_parity': False, 'attr_b_tv_in_port': False,          │\n",
      "│           │ 'attr_t_product_colour': 'Black', 'attr_t_cable_lock_slot_type': │\n",
      "│           │ 'Kensington', 'attr_n_number_of_built_in_speakers': 2.0,         │\n",
      "│           │ 'attr_b_cable_lock_slot': True, 'attr_t_processor_series':       │\n",
      "│           │ 'Intel Core i3-300 Mobile series',                               │\n",
      "│           │ 'attr_t_on_board_graphics_adapter_model': 'Intel HD Graphics',   │\n",
      "│           │ 'attr_t_i_o_ports': '3 USB 2.0; 1 eSATA/USB 2.0 Combo; 1         │\n",
      "│           │ external VGA monitor; 1 HDMI; 1 stereo microphone in; 1 stereo   │\n",
      "│           │ headphone/line-out; 1 AC power; 1 RJ-45; 1 RJ-11 (select         │\n",
      "│           │ models)', 'attr_b_intel_trusted_execution_technology': False,    │\n",
      "│           │ 'attr_t_pointing_device': 'Touchpad', 'attr_t_hdd_interface':    │\n",
      "│           │ 'SATA II', 'attr_b_expresscard_slot': True, 'attr_n_weight':     │\n",
      "│           │ 2020.0, 'attr_t_expansion_slots': '1 Express Card/34; 1 Media    │\n",
      "│           │ Card Reader', 'supplier': 'HP',                                  │\n",
      "│           │ 'attr_b_conflict_free_processor': False,                         │\n",
      "│           │ 'attr_n_processor_lithography': 32.0,                            │\n",
      "│           │ 'attr_n_battery_life__max_': 5.0, 'attr_n_memory_clock_speed':   │\n",
      "│           │ 1333.0, 'attr_t_processor_family': 'Intel Core i3-3xxx',         │\n",
      "│           │ 'attr_t_processor_codename': 'Arrandale',                        │\n",
      "│           │ 'attr_t_docking_solution': 'HP Basic Adjustable Stand, HP USB    │\n",
      "│           │ 2.0 Docking Station, HP Essential USB 2.0 Port Replicator, HP    │\n",
      "│           │ Dual Hinge Notebook Stand, HP Display & Notebook Stand, HP       │\n",
      "│           │ Adjustable Display Stand, HP Adjustable Dual Display Stand',     │\n",
      "│           │ 'img_500x500':                                                   │\n",
      "│           │ 'http://images.icecat.biz/img/gallery_mediums/4595040_707228335… │\n",
      "│           │ 'attr_t_storage_drive_type': '320 GB 7200 rpm SATA II',          │\n",
      "│           │ 'attr_n_processor_frequency': 2.26, 'attr_n_processor_cache':    │\n",
      "│           │ 3.0, 'attr_b_s_pdif_out_port': False,                            │\n",
      "│           │ 'attr_t_pci_express_slots_version': '2.0',                       │\n",
      "│           │ 'attr_b_intel_dual_display_capable_technology': True,            │\n",
      "│           │ 'attr_t_cardbus_pcmcia_slot_type': 'N',                          │\n",
      "│           │ 'attr_n_processing_die_size': 81.0,                              │\n",
      "│           │ 'attr_t_number_of_battery_cells': '6',                           │\n",
      "│           │ 'attr_n_headphone_outputs': 1.0,                                 │\n",
      "│           │ 'attr_b_intel__hyper_threading_technology__intel__ht_technology… │\n",
      "│           │ True, 'attr_t_country_of_origin': 'China',                       │\n",
      "│           │ 'attr_t_optical_drive_type': 'DVD Super Multi DL',               │\n",
      "│           │ 'attr_b_infrared_data_port': False, 'attr_t_processor_threads':  │\n",
      "│           │ '4', 'attr_t_intel_segment_tagging': 'Enterprise', 'name':       │\n",
      "│           │ 'ProBook 4320s Notebook PC', 'attr_b_intel_fast_memory_access':  │\n",
      "│           │ True, 'attr_t_graphics_adapter_family': 'Intel',                 │\n",
      "│           │ 'attr_t_operating_system_installed': 'Windows 7 Professional',   │\n",
      "│           │ 'attr_b_intel__quick_sync_video_technology': False,              │\n",
      "│           │ 'attr_t_modem_type': 'N', 'attr_b_intel_fdi_technology': True,   │\n",
      "│           │ 'attr_n_thermal_design_power__tdp_': 35.0,                       │\n",
      "│           │ 'attr_b_intel_virtualization_technology__vt_x_': True,           │\n",
      "│           │ 'attr_t_processor_package_size': '34',                           │\n",
      "│           │ 'attr_b_intel_flex_memory_access': True,                         │\n",
      "│           │ 'attr_n_cpu_multiplier__bus_core_ratio_': 17.0,                  │\n",
      "│           │ 'attr_t_operating_temperature__t_t_': '5 - 35', 'attr_b_tv_out': │\n",
      "│           │ False, 'attr_b_intel__insider_': False, 'attr_b_wi_fi': True,    │\n",
      "│           │ 'attr_t_stepping': 'C2', 'attr_b_intel__intru__3d_technology':   │\n",
      "│           │ False, 'attr_t_hdd_controller_type': 'SATA II (5400 rpm)\\\\nSATA  │\n",
      "│           │ II (7200 rpm)', 'attr_b_intel_64': True, 'attr_b_dvi_port':      │\n",
      "│           │ False, 'short_description': 'Intel Core i3-350M (2.26GHz, 3MB    │\n",
      "│           │ L3), 13.3\" LED-backlit HD Anti-Glare (1366 x 768), 3GB DDR3      │\n",
      "│           │ SDRAM, 320GB 7200 rpm SATA II, DVD+/-RW SuperMulti DL            │\n",
      "│           │ LightScribe, Intel HD Graphics, Atheros 802.11b/g/n, Bluetooth   │\n",
      "│           │ 2.1, 2MP webcam, Windows 7 Professional 32',                     │\n",
      "│           │ 'attr_n_vga__d_sub__ports_quantity': 1.0, 'img_low':             │\n",
      "│           │ 'http://images.icecat.biz/img/gallery_lows/4595040_7072283350.j… │\n",
      "│           │ 'attr_b_microphone_in': True, 'attr_b_bluetooth': True,          │\n",
      "│           │ 'attr_b_card_reader_integrated': True,                           │\n",
      "│           │ 'attr_t_supported_instruction_sets': 'SSE4.1,SSE4.2',            │\n",
      "│           │ 'attr_n_processor_ark_id': 43529.0, 'attr_t_processor_cores':    │\n",
      "│           │ '2', 'attr_t_motherboard_chipset': 'Intel HM57 Express',         │\n",
      "│           │ 'attr_b_thermal_monitoring_technologies': True,                  │\n",
      "│           │ 'attr_n_ethernet_lan__rj_45__ports': 1.0,                        │\n",
      "│           │ 'attr_t_display_resolution': '1366 x 768',                       │\n",
      "│           │ 'attr_b_ecc_supported_by_processor': False,                      │\n",
      "│           │ 'attr_t_audio_included': 'High definition audio support;         │\n",
      "│           │ Integrated stereo speakers; Integrated digital microphone;       │\n",
      "│           │ Stereo headphone/line out; Stereo microphone/line in',           │\n",
      "│           │ 'attr_t_bluetooth_version': '2.1+EDR', 'attr_b_lightscribe':     │\n",
      "│           │ True, 'attr_n_usb_2_0_ports_quantity': 3.0,                      │\n",
      "│           │ 'attr_t_on_board_graphics_adapter_family': 'Intel HD Graphics',  │\n",
      "│           │ 'attr_n_maximum_hdd_capacity': 500.0, 'price': 11795.0,          │\n",
      "│           │ 'attr_t_memory_slots': '2x SO-DIMM',                             │\n",
      "│           │ 'attr_b_intel_clear_video_technology': True,                     │\n",
      "│           │ 'attr_t_intel__turbo_boost_technology': 'N',                     │\n",
      "│           │ 'attr_n_internal_memory': 3.0,                                   │\n",
      "│           │ 'attr_t_operating_relative_humidity__h_h_': '10 - 90',           │\n",
      "│           │ 'attr_t_hdd_speed': '7200',                                      │\n",
      "│           │ 'attr_n_maximum_number_of_pci_express_lanes': 16.0,              │\n",
      "│           │ 'attr_n_system_bus_rate': 2.5,                                   │\n",
      "│           │ 'attr_b_intel_enhanced_halt_state': True,                        │\n",
      "│           │ 'attr_t_pci_express_configurations': '1x16',                     │\n",
      "│           │ 'attr_n_hdmi_ports_quantity': 1.0,                               │\n",
      "│           │ 'attr_n_esata_ports_quantity': 1.0, 'attr_n_memory_upgrade':     │\n",
      "│           │ 8.0, 'attr_n_maximum_internal_memory': 8.0,                      │\n",
      "│           │ 'attr_n_cpu_configuration__max_': 1.0,                           │\n",
      "│           │ 'attr_n_minimum_storage_drive_space': 250.0,                     │\n",
      "│           │ 'attr_b_enhanced_intel_speedstep_technology': True,              │\n",
      "│           │ 'attr_t_processor_model': 'i3-350M',                             │\n",
      "│           │ 'attr_t_processor_manufacturer': 'Intel',                        │\n",
      "│           │ 'attr_n_display_diagonal': 13.3,                                 │\n",
      "│           │ 'attr_b_intel__wireless_display__intel__widi_': False,           │\n",
      "│           │ 'attr_t_keyboard_type': 'Full-size spill-resistant keyboard',    │\n",
      "│           │ 'attr_n_on_board_graphics_adapter_base_frequency': 500.0,        │\n",
      "│           │ 'attr_t_processor_operating_modes': '64-bit',                    │\n",
      "│           │ 'attr_t_aspect_ratio': '16:9',                                   │\n",
      "│           │ 'attr_n_number_of_processing_die_transistors': 382.0,            │\n",
      "│           │ 'attr_t_processor_socket': 'BGA 1288', 'attr_n_width': 324.0,    │\n",
      "│           │ 'attr_t_processor_code': 'SLBPL', 'id': '4595040', 'img_thumb':  │\n",
      "│           │ 'http://images.icecat.biz/img/gallery_thumbs/4595040_7072283350… │\n",
      "│           │ 'attr_b_execute_disable_bit': True,                              │\n",
      "│           │ 'attr_b_embedded_options_available': False,                      │\n",
      "│           │ 'attr_t_memory_layout__slots_x_size_': '1 x 1 + 1 x 2',          │\n",
      "│           │ 'attr_b_intel__aes_new_instructions__intel__aes_ni_': False,     │\n",
      "│           │ 'attr_t_power_requirements': '65W Smart AC adapter (integrated); │\n",
      "│           │ 90W Smart AC adapter (discrete); HP Fast Charge',                │\n",
      "│           │ 'attr_b_tv_tuner_integrated': False,                             │\n",
      "│           │ 'attr_b_intel_vt_x_with_extended_page_tables__ept_': True,       │\n",
      "│           │ 'attr_b_intel_virtualization_technology_for_directed_i_o__vt_d_… │\n",
      "│           │ False, 'attr_t_security_management_description': 'HP             │\n",
      "│           │ ProtectTools Security Manager; Face Recognition for HP           │\n",
      "│           │ ProtectTools; One Step Login; Enhanced Pre-Boot Security; HP     │\n",
      "│           │ SpareKey; HP Disk Sanitizer; Setup Password; Kensington Lock     │\n",
      "│           │ Slot; Support for Computrace LoJack Pro for HP ProtectTools',    │\n",
      "│           │ 'attr_t_charging_port_type': 'DC-in jack', 'attr_t_bus_type':    │\n",
      "│           │ 'DMI', 'attr_t_audio_system': 'HD Audio',                        │\n",
      "│           │ 'attr_b_intel_rapid_storage_technology': False, 'ean':           │\n",
      "│           │ ['0885631497128', '0885631361887', '0885631048771'],             │\n",
      "│           │ 'attr_n_total_storage_capacity': 320.0, 'date_released':         │\n",
      "│           │ '2010-05-01T00:00:00Z', 'title': 'HP ProBook 4320s Notebook PC   │\n",
      "│           │ Black 33.8 cm (13.3\") 1366 x 768 pixels 3rd gen Intel® Core™ i3  │\n",
      "│           │ 3 GB 320 GB Windows 7 Professional', 'attr_b_idle_states': True, │\n",
      "│           │ 'attr_b_intel__my_wifi_technology__intel__mwt_': False,          │\n",
      "│           │ 'attr_b_on_board_graphics_adapter': True,                        │\n",
      "│           │ 'attr_t_storage_relative_humidity__h_h_': '5 - 95',              │\n",
      "│           │ 'attr_b_intel_demand_based_switching': False,                    │\n",
      "│           │ 'attr_n_tjunction': 105.0, 'attr_t_wireless_technology':         │\n",
      "│           │ 'Atheros 802.11b/g/n; HP Integrated Module with Bluetooth 2.1    │\n",
      "│           │ Wireless Technology', 'attr_t_networking_features': 'Gigabit     │\n",
      "│           │ Ethernet',                                                       │\n",
      "│           │ 'attr_b_intel__clear_video_technology_for_mobile_internet_devic… │\n",
      "│           │ True, 'img_high':                                                │\n",
      "│           │ 'http://images.icecat.biz/img/gallery/4595040_7072283350.jpg',   │\n",
      "│           │ 'attr_n_depth': 228.0, 'attr_t_type': 'PC',                      │\n",
      "│           │ 'attr_n_physical_address_extension__pae_': 36.0,                 │\n",
      "│           │ 'attr_b_intel__anti_theft_technology__intel__at_': False,        │\n",
      "│           │ 'attr_n_on_board_graphics_adapter_dynamic_frequency__max_':      │\n",
      "│           │ 667.0, 'attr_t_processor_cache_type': 'Smart Cache',             │\n",
      "│           │ 'attr_b_internal_modem': False, 'attr_b_docking_connector':      │\n",
      "│           │ False, 'attr_b_led_backlight': True, 'attr_b_smartcard_slot':    │\n",
      "│           │ True, 'attr_n_height__front_': 27.0,                             │\n",
      "│           │ 'attr_n_graphics___imc_lithography': 45.0,                       │\n",
      "│           │ 'attr_t_dimensions__wxdxh_': '324 x 228 x 27',                   │\n",
      "│           │ 'attr_b_intel__smart_cache': True}                               │\n",
      "│ embedding │ ▄▄▄▄▄▄▄▄▄▄▄▄▄▄▄▄▄▄▄▄▄▄▄▄▄▄▄▄▄▄▄▄▄▄▄▄▄▄▄▄▄▄▄▄▄▄▄▄▄▄▄▄▄▄▄▄▄▄▄▄▄▄▄▄ │\n",
      "│           │ ▄▄▄▄▄▄▄▄▄▄▄▄▄▄▄▄▄▄▄▄▄▄▄▄▄▄▄▄▄▄▄▄▄▄▄▄▄▄▄▄▄▄▄▄▄▄▄▄▄▄▄▄▄▄▄▄▄▄▄▄▄▄▄▄ │\n",
      "│           │ ▄▄▄▄▄▄▄▄▄▄▄▄▄▄▄▄▄▄▄▄▄▄▄▄▄▄▄▄▄▄▄▄▄▄▄▄▄▄▄▄▄▄▄▄▄▄▄▄▄▄▄▄▄▄▄▄▄▄▄▄▄▄▄▄ │\n",
      "│           │ ▄▄▄▄▄▄▄▄▄▄▄▄▄▄▄▄▄▄▄▄▄▄▄▄▄▄▄▄▄▄▄▄▄▄▄▄▄▄▄▄▄▄▄▄▄▄▄▄▄▄▄▄▄▄▄▄▄▄▄▄▄▄▄▄ │\n",
      "│           │ ▄▄▄▄▄▄▄▄▄▄▄▄▄▄▄▄▄▄▄▄▄▄▄▄▄▄▄▄▄▄▄▄▄▄▄▄▄▄▄▄▄▄▄▄▄▄▄▄▄▄▄▄▄▄▄▄▄▄▄▄▄▄▄▄ │\n",
      "│           │ ▄▄▄▄▄▄▄▄▄▄▄▄▄▄▄▄▄▄▄▄▄▄▄▄▄▄▄▄▄▄▄▄▄▄▄▄▄▄▄▄▄▄▄▄▄▄▄▄▄▄▄▄▄▄▄▄▄▄▄▄▄▄▄▄ │\n",
      "│           │ ▄▄▄▄▄▄▄▄▄▄▄▄▄▄▄▄▄▄▄▄▄▄▄▄▄▄▄▄▄▄▄▄▄▄▄▄▄▄▄▄▄▄▄▄▄▄▄▄▄▄▄▄▄▄▄▄▄▄▄▄▄▄▄▄ │\n",
      "│           │ ▄▄▄▄▄▄▄▄▄▄▄▄▄▄▄▄▄▄▄▄▄▄▄▄▄▄▄▄▄▄▄▄▄▄▄▄▄▄▄▄▄▄▄▄▄▄▄▄▄▄▄▄▄▄▄▄▄▄▄▄▄▄▄▄ │\n",
      "│           │ ▄▄▄▄▄▄▄▄▄▄▄▄▄▄▄▄▄▄▄▄▄▄▄▄▄▄▄▄▄▄▄▄▄▄▄▄▄▄▄▄▄▄▄▄▄▄▄▄▄▄▄▄▄▄▄▄▄▄▄▄▄▄▄▄ │\n",
      "│           │ ▄▄▄▄▄▄▄▄▄▄▄▄▄▄▄▄▄▄▄▄▄▄▄▄▄▄▄▄▄▄▄▄▄▄▄▄▄▄▄▄▄▄▄▄▄▄▄▄▄▄▄▄▄▄▄▄▄▄▄▄▄▄▄▄ │\n",
      "│           │ ▄▄▄▄▄▄▄▄▄▄▄▄▄▄▄▄▄▄▄▄▄▄▄▄▄▄▄▄▄▄▄▄▄▄▄▄▄▄▄▄▄▄▄▄▄▄▄▄▄▄▄▄▄▄▄▄▄▄▄▄▄▄▄▄ │\n",
      "│           │ ▄▄▄▄▄▄▄▄▄▄▄▄▄▄▄▄▄▄▄▄▄▄▄▄▄▄▄▄▄▄▄▄▄▄▄▄▄▄▄▄▄▄▄▄▄▄▄▄▄▄▄▄▄▄▄▄▄▄▄▄▄▄▄  │\n",
      "│ scores    │ defaultdict(<class 'docarray.score.NamedScore'>, {'cosine':      │\n",
      "│           │ {'value': 0.5264188647270203}})                                  │\n",
      "╰───────────┴──────────────────────────────────────────────────────────────────╯\n"
     ]
    }
   ],
   "source": [
    "text_matches[0].matches[0]"
   ]
  },
  {
   "cell_type": "code",
   "execution_count": 24,
   "metadata": {},
   "outputs": [
    {
     "data": {
      "application/vnd.jupyter.widget-view+json": {
       "model_id": "c81a7c1ab51b4a119125d253116dc44b",
       "version_major": 2,
       "version_minor": 0
      },
      "text/plain": [
       "Output()"
      ]
     },
     "metadata": {},
     "output_type": "display_data"
    },
    {
     "name": "stderr",
     "output_type": "stream",
     "text": [
      "\u001b[1;33mDeprecationWarning: Setting `workspace` via `metas.workspace` is deprecated. Instead, use `f.add(..., workspace=...)` when defining a a Flow in Python; the `workspace` parameter when defining a Flow using YAML; or `--workspace` when starting an Executor using the CLI.\u001b[0m \u001b[1;30m(raised from /home/aswin/anaconda3/envs/jina/lib/python3.9/site-packages/jina/serve/executors/__init__.py:226)\u001b[0m\n"
     ]
    },
    {
     "name": "stderr",
     "output_type": "stream",
     "text": [
      "\u001b[1;33mDeprecationWarning: distutils Version classes are deprecated. Use packaging.version instead.\u001b[0m \u001b[1;30m(raised from /home/aswin/anaconda3/envs/jina/lib/python3.9/site-packages/torch/utils/tensorboard/__init__.py:4)\u001b[0m\n"
     ]
    },
    {
     "name": "stderr",
     "output_type": "stream",
     "text": [
      "\u001b[1;33mDeprecationWarning: distutils Version classes are deprecated. Use packaging.version instead.\u001b[0m \u001b[1;30m(raised from /home/aswin/anaconda3/envs/jina/lib/python3.9/site-packages/torch/utils/tensorboard/__init__.py:6)\u001b[0m\n"
     ]
    },
    {
     "data": {
      "text/html": [
       "<pre style=\"white-space:pre;overflow-x:auto;line-height:normal;font-family:Menlo,'DejaVu Sans Mono',consolas,'Courier New',monospace\"><span style=\"color: #00ff00; text-decoration-color: #00ff00\">─────────────────────────────────────────── </span>🎉 Flow is ready to serve!<span style=\"color: #00ff00; text-decoration-color: #00ff00\"> ────────────────────────────────────────────</span>\n",
       "╭────────────── 🔗 <span style=\"font-weight: bold\">Endpoint</span> ───────────────╮\n",
       "│  ⛓     Protocol                    GRPC  │\n",
       "│  🏠       Local           <a href=\"grpc://0.0.0.0:64531\" target=\"_blank\"><span style=\"color: #00ff00; text-decoration-color: #00ff00; font-weight: bold\">0.0.0.0</span></a><a href=\"grpc://0.0.0.0:64531\" target=\"_blank\">:</a><a href=\"grpc://0.0.0.0:64531\" target=\"_blank\"><span style=\"color: #008080; text-decoration-color: #008080; font-weight: bold\">64531</span></a>  │\n",
       "│  🔒     Private    <a href=\"grpc://192.168.155.39:64531\" target=\"_blank\"><span style=\"color: #00ff00; text-decoration-color: #00ff00; font-weight: bold\">192.168.155.39</span></a><a href=\"grpc://192.168.155.39:64531\" target=\"_blank\">:</a><a href=\"grpc://192.168.155.39:64531\" target=\"_blank\"><span style=\"color: #008080; text-decoration-color: #008080; font-weight: bold\">64531</span></a>  │\n",
       "│  🌍      Public    <a href=\"grpc://87.191.159.105:64531\" target=\"_blank\"><span style=\"color: #00ff00; text-decoration-color: #00ff00; font-weight: bold\">87.191.159.105</span></a><a href=\"grpc://87.191.159.105:64531\" target=\"_blank\">:</a><a href=\"grpc://87.191.159.105:64531\" target=\"_blank\"><span style=\"color: #008080; text-decoration-color: #008080; font-weight: bold\">64531</span></a>  │\n",
       "╰──────────────────────────────────────────╯\n",
       "</pre>\n"
      ],
      "text/plain": [
       "\u001b[92m─────────────────────────────────────────── \u001b[0m🎉 Flow is ready to serve!\u001b[92m ────────────────────────────────────────────\u001b[0m\n",
       "╭────────────── 🔗 \u001b[1mEndpoint\u001b[0m ───────────────╮\n",
       "│  ⛓     Protocol                    GRPC  │\n",
       "│  🏠       Local           \u001b]8;id=935852;grpc://0.0.0.0:64531\u001b\\\u001b[1;92m0.0.0.0\u001b[0m\u001b]8;;\u001b\\\u001b]8;id=977634;grpc://0.0.0.0:64531\u001b\\:\u001b]8;;\u001b\\\u001b]8;id=471392;grpc://0.0.0.0:64531\u001b\\\u001b[1;36m64531\u001b[0m\u001b]8;;\u001b\\  │\n",
       "│  🔒     Private    \u001b]8;id=33399;grpc://192.168.155.39:64531\u001b\\\u001b[1;92m192.168.155.39\u001b[0m\u001b]8;;\u001b\\\u001b]8;id=979289;grpc://192.168.155.39:64531\u001b\\:\u001b]8;;\u001b\\\u001b]8;id=266691;grpc://192.168.155.39:64531\u001b\\\u001b[1;36m64531\u001b[0m\u001b]8;;\u001b\\  │\n",
       "│  🌍      Public    \u001b]8;id=337967;grpc://87.191.159.105:64531\u001b\\\u001b[1;92m87.191.159.105\u001b[0m\u001b]8;;\u001b\\\u001b]8;id=742169;grpc://87.191.159.105:64531\u001b\\:\u001b]8;;\u001b\\\u001b]8;id=692064;grpc://87.191.159.105:64531\u001b\\\u001b[1;36m64531\u001b[0m\u001b]8;;\u001b\\  │\n",
       "╰──────────────────────────────────────────╯\n"
      ]
     },
     "metadata": {},
     "output_type": "display_data"
    },
    {
     "data": {
      "text/html": [
       "<pre style=\"white-space:pre;overflow-x:auto;line-height:normal;font-family:Menlo,'DejaVu Sans Mono',consolas,'Courier New',monospace\"></pre>\n"
      ],
      "text/plain": []
     },
     "metadata": {},
     "output_type": "display_data"
    },
    {
     "data": {
      "text/html": [
       "<pre style=\"white-space:pre;overflow-x:auto;line-height:normal;font-family:Menlo,'DejaVu Sans Mono',consolas,'Courier New',monospace\">\n",
       "</pre>\n"
      ],
      "text/plain": [
       "\n"
      ]
     },
     "metadata": {},
     "output_type": "display_data"
    },
    {
     "data": {
      "text/html": [
       "<pre style=\"white-space:pre;overflow-x:auto;line-height:normal;font-family:Menlo,'DejaVu Sans Mono',consolas,'Courier New',monospace\">\n",
       "</pre>\n"
      ],
      "text/plain": [
       "\n"
      ]
     },
     "metadata": {},
     "output_type": "display_data"
    },
    {
     "ename": "AttributeError",
     "evalue": "'function' object has no attribute 'text'",
     "output_type": "error",
     "traceback": [
      "\u001b[0;31m---------------------------------------------------------------------------\u001b[0m",
      "\u001b[0;31mAttributeError\u001b[0m                            Traceback (most recent call last)",
      "\u001b[1;32m/home/aswin/Documents/vector_jina/data_index.ipynb Cell 3\u001b[0m in \u001b[0;36m<cell line: 3>\u001b[0;34m()\u001b[0m\n\u001b[1;32m      <a href='vscode-notebook-cell:/home/aswin/Documents/vector_jina/data_index.ipynb#W2sZmlsZQ%3D%3D?line=2'>3</a>\u001b[0m \u001b[39mwith\u001b[39;00m f:\n\u001b[1;32m      <a href='vscode-notebook-cell:/home/aswin/Documents/vector_jina/data_index.ipynb#W2sZmlsZQ%3D%3D?line=3'>4</a>\u001b[0m   results \u001b[39m=\u001b[39m f\u001b[39m.\u001b[39msearch(query)\n\u001b[0;32m----> <a href='vscode-notebook-cell:/home/aswin/Documents/vector_jina/data_index.ipynb#W2sZmlsZQ%3D%3D?line=4'>5</a>\u001b[0m   \u001b[39mprint\u001b[39m(results[\u001b[39m0\u001b[39;49m]\u001b[39m.\u001b[39;49mmatch\u001b[39m.\u001b[39;49mtext)\n",
      "\u001b[0;31mAttributeError\u001b[0m: 'function' object has no attribute 'text'"
     ]
    }
   ],
   "source": [
    "query = Document(text='Cartridge')\n",
    "\n",
    "with f:\n",
    "  results = f.search(query)\n",
    "  print(results[0].match.text)\n"
   ]
  },
  {
   "cell_type": "code",
   "execution_count": null,
   "metadata": {},
   "outputs": [],
   "source": [
    "from jina import Flowb\n",
    "from docarray import Document, DocumentArray\n",
    "\n",
    "f = Flow().add(uses='jinahub://TransformerTorchEncoder/latest').add(uses='jinahub://SimpleIndexer')\n",
    "\n",
    "with f:\n",
    "  r = f.post('/', inputs=DocumentArray([Document(text='hello')]))\n",
    "  print(r.to_json())"
   ]
  },
  {
   "cell_type": "code",
   "execution_count": 25,
   "metadata": {},
   "outputs": [
    {
     "data": {
      "text/html": [
       "<pre style=\"white-space:pre;overflow-x:auto;line-height:normal;font-family:Menlo,'DejaVu Sans Mono',consolas,'Courier New',monospace\">╭────────── Documents Summary ──────────╮\n",
       "│                                       │\n",
       "│   Type                   MatchArray   │\n",
       "│   Length                 <span style=\"color: #008080; text-decoration-color: #008080; font-weight: bold\">0</span>            │\n",
       "│   Homogenous Documents   <span style=\"color: #ff0000; text-decoration-color: #ff0000; font-style: italic\">False</span>        │\n",
       "│   Multimodal dataclass   <span style=\"color: #00ff00; text-decoration-color: #00ff00; font-style: italic\">True</span>         │\n",
       "│                                       │\n",
       "╰───────────────────────────────────────╯\n",
       "</pre>\n"
      ],
      "text/plain": [
       "╭────────── Documents Summary ──────────╮\n",
       "│                                       │\n",
       "│   Type                   MatchArray   │\n",
       "│   Length                 \u001b[1;36m0\u001b[0m            │\n",
       "│   Homogenous Documents   \u001b[3;91mFalse\u001b[0m        │\n",
       "│   Multimodal dataclass   \u001b[3;92mTrue\u001b[0m         │\n",
       "│                                       │\n",
       "╰───────────────────────────────────────╯\n"
      ]
     },
     "metadata": {},
     "output_type": "display_data"
    }
   ],
   "source": [
    "r[0].matches"
   ]
  },
  {
   "cell_type": "code",
   "execution_count": null,
   "metadata": {},
   "outputs": [],
   "source": []
  }
 ],
 "metadata": {
  "kernelspec": {
   "display_name": "Python 3.9.12 ('jina')",
   "language": "python",
   "name": "python3"
  },
  "language_info": {
   "codemirror_mode": {
    "name": "ipython",
    "version": 3
   },
   "file_extension": ".py",
   "mimetype": "text/x-python",
   "name": "python",
   "nbconvert_exporter": "python",
   "pygments_lexer": "ipython3",
   "version": "3.9.12"
  },
  "orig_nbformat": 4,
  "vscode": {
   "interpreter": {
    "hash": "062bb9b1ec01e9916229ee1a912381cbb5ea025b7159b710942000cb49f72727"
   }
  }
 },
 "nbformat": 4,
 "nbformat_minor": 2
}
