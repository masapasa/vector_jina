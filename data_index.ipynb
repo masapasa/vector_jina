{
 "cells": [
  {
   "cell_type": "code",
   "execution_count": 12,
   "metadata": {},
   "outputs": [
    {
     "data": {
      "text/html": [
       "<pre style=\"white-space:pre;overflow-x:auto;line-height:normal;font-family:Menlo,'DejaVu Sans Mono',consolas,'Courier New',monospace\">╭──────────────── Documents Summary ────────────────╮\n",
       "│                                                   │\n",
       "│   Type                   DocumentArrayInMemory    │\n",
       "│   Length                 <span style=\"color: #008080; text-decoration-color: #008080; font-weight: bold\">19406</span>                    │\n",
       "│   Homogenous Documents   <span style=\"color: #00ff00; text-decoration-color: #00ff00; font-style: italic\">True</span>                     │\n",
       "│   Common Attributes      <span style=\"font-weight: bold\">(</span><span style=\"color: #008000; text-decoration-color: #008000\">'id'</span>, <span style=\"color: #008000; text-decoration-color: #008000\">'text'</span>, <span style=\"color: #008000; text-decoration-color: #008000\">'tags'</span><span style=\"font-weight: bold\">)</span>   │\n",
       "│   Multimodal dataclass   <span style=\"color: #ff0000; text-decoration-color: #ff0000; font-style: italic\">False</span>                    │\n",
       "│                                                   │\n",
       "╰───────────────────────────────────────────────────╯\n",
       "╭───────────────────── Attributes Summary ─────────────────────╮\n",
       "│                                                              │\n",
       "│  <span style=\"font-weight: bold\"> Attribute </span> <span style=\"font-weight: bold\"> Data type </span> <span style=\"font-weight: bold\"> #Unique values </span> <span style=\"font-weight: bold\"> Has empty value </span>  │\n",
       "│  ──────────────────────────────────────────────────────────  │\n",
       "│   id          <span style=\"font-weight: bold\">(</span><span style=\"color: #008000; text-decoration-color: #008000\">'str'</span>,<span style=\"font-weight: bold\">)</span>    <span style=\"color: #008080; text-decoration-color: #008080; font-weight: bold\">19406</span>            <span style=\"color: #ff0000; text-decoration-color: #ff0000; font-style: italic\">False</span>             │\n",
       "│   tags        <span style=\"font-weight: bold\">(</span><span style=\"color: #008000; text-decoration-color: #008000\">'dict'</span>,<span style=\"font-weight: bold\">)</span>   <span style=\"color: #008080; text-decoration-color: #008080; font-weight: bold\">19406</span>            <span style=\"color: #ff0000; text-decoration-color: #ff0000; font-style: italic\">False</span>             │\n",
       "│   text        <span style=\"font-weight: bold\">(</span><span style=\"color: #008000; text-decoration-color: #008000\">'str'</span>,<span style=\"font-weight: bold\">)</span>    <span style=\"color: #008080; text-decoration-color: #008080; font-weight: bold\">19304</span>            <span style=\"color: #ff0000; text-decoration-color: #ff0000; font-style: italic\">False</span>             │\n",
       "│                                                              │\n",
       "╰──────────────────────────────────────────────────────────────╯\n",
       "</pre>\n"
      ],
      "text/plain": [
       "╭──────────────── Documents Summary ────────────────╮\n",
       "│                                                   │\n",
       "│   Type                   DocumentArrayInMemory    │\n",
       "│   Length                 \u001b[1;36m19406\u001b[0m                    │\n",
       "│   Homogenous Documents   \u001b[3;92mTrue\u001b[0m                     │\n",
       "│   Common Attributes      \u001b[1m(\u001b[0m\u001b[32m'id'\u001b[0m, \u001b[32m'text'\u001b[0m, \u001b[32m'tags'\u001b[0m\u001b[1m)\u001b[0m   │\n",
       "│   Multimodal dataclass   \u001b[3;91mFalse\u001b[0m                    │\n",
       "│                                                   │\n",
       "╰───────────────────────────────────────────────────╯\n",
       "╭───────────────────── Attributes Summary ─────────────────────╮\n",
       "│                                                              │\n",
       "│  \u001b[1m \u001b[0m\u001b[1mAttribute\u001b[0m\u001b[1m \u001b[0m \u001b[1m \u001b[0m\u001b[1mData type\u001b[0m\u001b[1m \u001b[0m \u001b[1m \u001b[0m\u001b[1m#Unique values\u001b[0m\u001b[1m \u001b[0m \u001b[1m \u001b[0m\u001b[1mHas empty value\u001b[0m\u001b[1m \u001b[0m  │\n",
       "│  ──────────────────────────────────────────────────────────  │\n",
       "│   id          \u001b[1m(\u001b[0m\u001b[32m'str'\u001b[0m,\u001b[1m)\u001b[0m    \u001b[1;36m19406\u001b[0m            \u001b[3;91mFalse\u001b[0m             │\n",
       "│   tags        \u001b[1m(\u001b[0m\u001b[32m'dict'\u001b[0m,\u001b[1m)\u001b[0m   \u001b[1;36m19406\u001b[0m            \u001b[3;91mFalse\u001b[0m             │\n",
       "│   text        \u001b[1m(\u001b[0m\u001b[32m'str'\u001b[0m,\u001b[1m)\u001b[0m    \u001b[1;36m19304\u001b[0m            \u001b[3;91mFalse\u001b[0m             │\n",
       "│                                                              │\n",
       "╰──────────────────────────────────────────────────────────────╯\n"
      ]
     },
     "metadata": {},
     "output_type": "display_data"
    },
    {
     "name": "stdout",
     "output_type": "stream",
     "text": [
      "📄 Document: 81df7fe404106079970b55f08eceb8b0\n",
      "╭───────────┬──────────────────────────────────────────────────────────────────╮\n",
      "│ Attribute │ Value                                                            │\n",
      "├───────────┼──────────────────────────────────────────────────────────────────┤\n",
      "│ text      │ 006R90321 Xerox 006R90321 toner cartridge Original Black 6 pc(s) │\n",
      "│           │ Toner (6 Per Box) for CopyCentre C6... (length: 167)             │\n",
      "│ tags      │ {'id': '3920564', 'name': '006R90321', 'title': 'Xerox 006R90321 │\n",
      "│           │ toner cartridge Original Black 6 pc(s)', 'ean':                  │\n",
      "│           │ ['0095205603217'], 'short_description': 'Toner (6 Per Box) for   │\n",
      "│           │ CopyCentre C65 Digital Copier', 'img_high':                      │\n",
      "│           │ 'http://images.icecat.biz/img/gallery/img_3920564_high_14726187… │\n",
      "│           │ 'img_low':                                                       │\n",
      "│           │ 'http://images.icecat.biz/img/gallery_lows/img_3920564_low_1472… │\n",
      "│           │ 'img_500x500':                                                   │\n",
      "│           │ 'http://images.icecat.biz/img/gallery_mediums/img_3920564_mediu… │\n",
      "│           │ 'img_thumb':                                                     │\n",
      "│           │ 'http://images.icecat.biz/img/gallery_thumbs/img_3920564_thumb_… │\n",
      "│           │ 'date_released': '2009-12-10T00:00:00Z', 'supplier': 'Xerox',    │\n",
      "│           │ 'price': 4995, 'attr_t_type': 'Original',                        │\n",
      "│           │ 'attr_t_printing_colours': 'Black', 'attr_t_print_technology':   │\n",
      "│           │ 'Laser printing', 'attr_t_compatibility': 'CopyCentre C65',      │\n",
      "│           │ 'attr_n_quantity_per_pack': 6.0,                                 │\n",
      "│           │ 'attr_n_black_toner_page_yield': 23000.0}                        │\n",
      "╰───────────┴──────────────────────────────────────────────────────────────────╯\n"
     ]
    }
   ],
   "source": [
    "from docarray import Document, DocumentArray\n",
    "from jina import Flow\n",
    "import json\n",
    "da = DocumentArray()\n",
    "  \n",
    "with open('/home/aswin/data/icecat-products-w_price-19k-20201127/icecat-products-w_price-19k-20201127.json') as f:\n",
    "    jdocs = json.load(f)\n",
    "for doc in jdocs:\n",
    "    d = Document(text=\" \".join([doc[item] for item in doc if item.startswith(\"title\") \n",
    "    or item.startswith(\"attr_t\")\n",
    "    or item.startswith(\"short_description\") \n",
    "    or item.startswith(\"name\")\n",
    "    or item.startswith(\"supplier\")]), tags=doc)\n",
    "    da.append(d)\n",
    "\n",
    "da.summary()\n",
    "da[0]\n"
   ]
  },
  {
   "cell_type": "code",
   "execution_count": 15,
   "metadata": {},
   "outputs": [],
   "source": [
    "f.save_config(\"flow_aut.yml\")"
   ]
  },
  {
   "cell_type": "code",
   "execution_count": 13,
   "metadata": {},
   "outputs": [
    {
     "data": {
      "text/html": [
       "<pre style=\"white-space:pre;overflow-x:auto;line-height:normal;font-family:Menlo,'DejaVu Sans Mono',consolas,'Courier New',monospace\"></pre>\n"
      ],
      "text/plain": []
     },
     "metadata": {},
     "output_type": "display_data"
    },
    {
     "data": {
      "text/html": [
       "<pre style=\"white-space:pre;overflow-x:auto;line-height:normal;font-family:Menlo,'DejaVu Sans Mono',consolas,'Courier New',monospace\"></pre>\n"
      ],
      "text/plain": []
     },
     "metadata": {},
     "output_type": "display_data"
    },
    {
     "data": {
      "text/html": [
       "<pre style=\"white-space:pre;overflow-x:auto;line-height:normal;font-family:Menlo,'DejaVu Sans Mono',consolas,'Courier New',monospace\"></pre>\n"
      ],
      "text/plain": []
     },
     "metadata": {},
     "output_type": "display_data"
    },
    {
     "data": {
      "text/html": [
       "<pre style=\"white-space:pre;overflow-x:auto;line-height:normal;font-family:Menlo,'DejaVu Sans Mono',consolas,'Courier New',monospace\"></pre>\n"
      ],
      "text/plain": []
     },
     "metadata": {},
     "output_type": "display_data"
    },
    {
     "name": "stdout",
     "output_type": "stream",
     "text": [
      "────────────────────────── 🎉 Flow is ready to serve! ──────────────────────────\n",
      "╭────────────── 🔗 Endpoint ───────────────╮\n",
      "│  ⛓     Protocol                    GRPC  │\n",
      "│  🏠       Local           0.0.0.0:60079  │\n",
      "│  🔒     Private    192.168.155.39:60079  │\n",
      "│  🌍      Public    87.191.159.105:60079  │\n",
      "╰──────────────────────────────────────────╯\n",
      "\n"
     ]
    },
    {
     "data": {
      "text/html": [
       "<pre style=\"white-space:pre;overflow-x:auto;line-height:normal;font-family:Menlo,'DejaVu Sans Mono',consolas,'Courier New',monospace\">\n",
       "</pre>\n"
      ],
      "text/plain": [
       "\n"
      ]
     },
     "metadata": {},
     "output_type": "display_data"
    },
    {
     "name": "stdout",
     "output_type": "stream",
     "text": [
      "ERROR  GRPCClient@53977 gRPC error: StatusCode.UNAVAILABLE   [09/28/22 14:02:54]\n",
      "       keepalive watchdog timeout                                               \n",
      "       The ongoing request is terminated as the server is                       \n",
      "       not available or closed already.                                         \n"
     ]
    },
    {
     "name": "stderr",
     "output_type": "stream",
     "text": [
      "Exception in thread Thread-137:\n",
      "Traceback (most recent call last):\n",
      "  File \"/home/aswin/anaconda3/envs/jina/lib/python3.9/threading.py\", line 973, in _bootstrap_inner\n",
      "    self.run()\n",
      "  File \"/home/aswin/anaconda3/envs/jina/lib/python3.9/site-packages/jina/helper.py\", line 1299, in run\n",
      "    self.result = asyncio.run(func(*args, **kwargs))\n",
      "  File \"/home/aswin/anaconda3/envs/jina/lib/python3.9/asyncio/runners.py\", line 44, in run\n",
      "    return loop.run_until_complete(main)\n",
      "  File \"/home/aswin/anaconda3/envs/jina/lib/python3.9/asyncio/base_events.py\", line 647, in run_until_complete\n",
      "    return future.result()\n",
      "  File \"/home/aswin/anaconda3/envs/jina/lib/python3.9/site-packages/jina/clients/mixin.py\", line 256, in _get_results\n",
      "    async for resp in c._get_results(*args, **kwargs):\n",
      "  File \"/home/aswin/anaconda3/envs/jina/lib/python3.9/site-packages/jina/clients/base/grpc.py\", line 119, in _get_results\n",
      "    raise ConnectionError(my_details) from None\n",
      "ConnectionError: keepalive watchdog timeout\n"
     ]
    },
    {
     "name": "stdout",
     "output_type": "stream",
     "text": [
      "ERROR  encoder/rep-0@53977 Exception('Shutdown signal was    [09/28/22 14:03:55]\n",
      "       not received for 60 seconds') during <bound method                       \n",
      "       BasePod.close of <jina.orchestrate.pods.Pod object at                    \n",
      "       0x7feebca868e0>>                                                         \n",
      "        add \"--quiet-error\" to suppress the exception                           \n",
      "       details                                                                  \n",
      "       ╭──────── Traceback (most recent call last) ────────╮                    \n",
      "       │ /home/aswin/anaconda3/envs/jina/lib/python3.9/si… │                    \n",
      "       │ in run_async                                      │                    \n",
      "       │                                                   │                    \n",
      "       │   1311 │   │   │   thread.start()                 │                    \n",
      "       │   1312 │   │   │   thread.join()                  │                    \n",
      "       │   1313 │   │   │   try:                           │                    \n",
      "       │ ❱ 1314 │   │   │   │   return thread.result       │                    \n",
      "       │   1315 │   │   │   except AttributeError:         │                    \n",
      "       │   1316 │   │   │   │   from jina.excepts import B │                    \n",
      "       │   1317                                            │                    \n",
      "       ╰───────────────────────────────────────────────────╯                    \n",
      "       AttributeError: '_RunThread' object has no attribute                     \n",
      "       'result'                                                                 \n",
      "                                                                                \n",
      "       During handling of the above exception, another                          \n",
      "       exception occurred:                                                      \n",
      "                                                                                \n",
      "       ╭──────── Traceback (most recent call last) ────────╮                    \n",
      "       │ /tmp/ipykernel_53977/4154744263.py:8 in <cell     │                    \n",
      "       │ line: 7>                                          │                    \n",
      "       │                                                   │                    \n",
      "       │ [Errno 2] No such file or directory:              │                    \n",
      "       │ '/tmp/ipykernel_53977/4154744263.py'              │                    \n",
      "       │                                                   │                    \n",
      "       │ /home/aswin/anaconda3/envs/jina/lib/python3.9/si… │                    \n",
      "       │ in post                                           │                    \n",
      "       │                                                   │                    \n",
      "       │   262 │   │   │   if return_results:              │                    \n",
      "       │   263 │   │   │   │   return result               │                    \n",
      "       │   264 │   │                                       │                    \n",
      "       │ ❱ 265 │   │   return run_async(                   │                    \n",
      "       │   266 │   │   │   _get_results,                   │                    \n",
      "       │   267 │   │   │   inputs=inputs,                  │                    \n",
      "       │   268 │   │   │   on_done=on_done,                │                    \n",
      "       │                                                   │                    \n",
      "       │ /home/aswin/anaconda3/envs/jina/lib/python3.9/si… │                    \n",
      "       │ in run_async                                      │                    \n",
      "       │                                                   │                    \n",
      "       │   1315 │   │   │   except AttributeError:         │                    \n",
      "       │   1316 │   │   │   │   from jina.excepts import B │                    \n",
      "       │   1317 │   │   │   │                              │                    \n",
      "       │ ❱ 1318 │   │   │   │   raise BadClient(           │                    \n",
      "       │   1319 │   │   │   │   │   'something wrong when  │                    \n",
      "       │        retrieved'                                 │                    \n",
      "       │   1320 │   │   │   │   )                          │                    \n",
      "       │   1321 │   │   else:                              │                    \n",
      "       ╰───────────────────────────────────────────────────╯                    \n",
      "       BadClient: something wrong when running the                              \n",
      "       eventloop, result can not be retrieved                                   \n",
      "                                                                                \n",
      "       During handling of the above exception, another                          \n",
      "       exception occurred:                                                      \n",
      "                                                                                \n",
      "       ╭──────── Traceback (most recent call last) ────────╮                    \n",
      "       │ /home/aswin/anaconda3/envs/jina/lib/python3.9/si… │                    \n",
      "       │ in close                                          │                    \n",
      "       │                                                   │                    \n",
      "       │   150 │   │   │   │   │   timeout=self._timeout_c │                    \n",
      "       │   151 │   │   │   │   ):                          │                    \n",
      "       │   152 │   │   │   │   │   if not __windows__:     │                    \n",
      "       │ ❱ 153 │   │   │   │   │   │   raise Exception(    │                    \n",
      "       │   154 │   │   │   │   │   │   │   f'Shutdown sign │                    \n",
      "       │       seconds'                                    │                    \n",
      "       │   155 │   │   │   │   │   │   )                   │                    \n",
      "       │   156 │   │   │   │   │   else:                   │                    \n",
      "       ╰───────────────────────────────────────────────────╯                    \n",
      "       Exception: Shutdown signal was not received for 60                       \n",
      "       seconds                                                                  \n"
     ]
    },
    {
     "ename": "BadClient",
     "evalue": "something wrong when running the eventloop, result can not be retrieved",
     "output_type": "error",
     "traceback": [
      "\u001b[0;31m---------------------------------------------------------------------------\u001b[0m",
      "\u001b[0;31mAttributeError\u001b[0m                            Traceback (most recent call last)",
      "File \u001b[0;32m~/anaconda3/envs/jina/lib/python3.9/site-packages/jina/helper.py:1314\u001b[0m, in \u001b[0;36mrun_async\u001b[0;34m(func, *args, **kwargs)\u001b[0m\n\u001b[1;32m   1313\u001b[0m \u001b[39mtry\u001b[39;00m:\n\u001b[0;32m-> 1314\u001b[0m     \u001b[39mreturn\u001b[39;00m thread\u001b[39m.\u001b[39;49mresult\n\u001b[1;32m   1315\u001b[0m \u001b[39mexcept\u001b[39;00m \u001b[39mAttributeError\u001b[39;00m:\n",
      "\u001b[0;31mAttributeError\u001b[0m: '_RunThread' object has no attribute 'result'",
      "\nDuring handling of the above exception, another exception occurred:\n",
      "\u001b[0;31mBadClient\u001b[0m                                 Traceback (most recent call last)",
      "\u001b[1;32m/home/aswin/Documents/vector_jina/data_index.ipynb Cell 2\u001b[0m in \u001b[0;36m<cell line: 7>\u001b[0;34m()\u001b[0m\n\u001b[1;32m      <a href='vscode-notebook-cell:/home/aswin/Documents/vector_jina/data_index.ipynb#W6sZmlsZQ%3D%3D?line=4'>5</a>\u001b[0m f \u001b[39m=\u001b[39m Flow()\u001b[39m.\u001b[39madd(name\u001b[39m=\u001b[39m\u001b[39m'\u001b[39m\u001b[39mencoder\u001b[39m\u001b[39m'\u001b[39m, uses\u001b[39m=\u001b[39m\u001b[39m'\u001b[39m\u001b[39mjinahub://TransformerTorchEncoder/latest\u001b[39m\u001b[39m'\u001b[39m, install_requirements\u001b[39m=\u001b[39m\u001b[39mTrue\u001b[39;00m)\u001b[39m.\u001b[39madd(uses\u001b[39m=\u001b[39m\u001b[39m'\u001b[39m\u001b[39mjinahub://AnnLiteIndexer/latest\u001b[39m\u001b[39m'\u001b[39m, install_requirements\u001b[39m=\u001b[39m\u001b[39mTrue\u001b[39;00m, uses_with\u001b[39m=\u001b[39m{\u001b[39m'\u001b[39m\u001b[39mcolumns\u001b[39m\u001b[39m'\u001b[39m: [(\u001b[39m'\u001b[39m\u001b[39msupplier\u001b[39m\u001b[39m'\u001b[39m, \u001b[39m'\u001b[39m\u001b[39mstr\u001b[39m\u001b[39m'\u001b[39m), (\u001b[39m'\u001b[39m\u001b[39mprice\u001b[39m\u001b[39m'\u001b[39m, \u001b[39m'\u001b[39m\u001b[39mfloat\u001b[39m\u001b[39m'\u001b[39m), (\u001b[39m'\u001b[39m\u001b[39mattr_t_product_type\u001b[39m\u001b[39m'\u001b[39m, \u001b[39m'\u001b[39m\u001b[39mstr\u001b[39m\u001b[39m'\u001b[39m), (\u001b[39m'\u001b[39m\u001b[39mattr_t_product_colour\u001b[39m\u001b[39m'\u001b[39m, \u001b[39m'\u001b[39m\u001b[39mstr\u001b[39m\u001b[39m'\u001b[39m)], \u001b[39m'\u001b[39m\u001b[39mn_dim\u001b[39m\u001b[39m'\u001b[39m: \u001b[39m768\u001b[39m})\n\u001b[1;32m      <a href='vscode-notebook-cell:/home/aswin/Documents/vector_jina/data_index.ipynb#W6sZmlsZQ%3D%3D?line=6'>7</a>\u001b[0m \u001b[39mwith\u001b[39;00m f:\n\u001b[0;32m----> <a href='vscode-notebook-cell:/home/aswin/Documents/vector_jina/data_index.ipynb#W6sZmlsZQ%3D%3D?line=7'>8</a>\u001b[0m   f\u001b[39m.\u001b[39;49mindex(da)\n",
      "File \u001b[0;32m~/anaconda3/envs/jina/lib/python3.9/site-packages/jina/clients/mixin.py:265\u001b[0m, in \u001b[0;36mPostMixin.post\u001b[0;34m(self, on, inputs, on_done, on_error, on_always, parameters, target_executor, request_size, show_progress, continue_on_error, return_responses, **kwargs)\u001b[0m\n\u001b[1;32m    262\u001b[0m     \u001b[39mif\u001b[39;00m return_results:\n\u001b[1;32m    263\u001b[0m         \u001b[39mreturn\u001b[39;00m result\n\u001b[0;32m--> 265\u001b[0m \u001b[39mreturn\u001b[39;00m run_async(\n\u001b[1;32m    266\u001b[0m     _get_results,\n\u001b[1;32m    267\u001b[0m     inputs\u001b[39m=\u001b[39;49minputs,\n\u001b[1;32m    268\u001b[0m     on_done\u001b[39m=\u001b[39;49mon_done,\n\u001b[1;32m    269\u001b[0m     on_error\u001b[39m=\u001b[39;49mon_error,\n\u001b[1;32m    270\u001b[0m     on_always\u001b[39m=\u001b[39;49mon_always,\n\u001b[1;32m    271\u001b[0m     exec_endpoint\u001b[39m=\u001b[39;49mon,\n\u001b[1;32m    272\u001b[0m     target_executor\u001b[39m=\u001b[39;49mtarget_executor,\n\u001b[1;32m    273\u001b[0m     parameters\u001b[39m=\u001b[39;49mparameters,\n\u001b[1;32m    274\u001b[0m     request_size\u001b[39m=\u001b[39;49mrequest_size,\n\u001b[1;32m    275\u001b[0m     \u001b[39m*\u001b[39;49m\u001b[39m*\u001b[39;49mkwargs,\n\u001b[1;32m    276\u001b[0m )\n",
      "File \u001b[0;32m~/anaconda3/envs/jina/lib/python3.9/site-packages/jina/helper.py:1318\u001b[0m, in \u001b[0;36mrun_async\u001b[0;34m(func, *args, **kwargs)\u001b[0m\n\u001b[1;32m   1315\u001b[0m     \u001b[39mexcept\u001b[39;00m \u001b[39mAttributeError\u001b[39;00m:\n\u001b[1;32m   1316\u001b[0m         \u001b[39mfrom\u001b[39;00m \u001b[39mjina\u001b[39;00m\u001b[39m.\u001b[39;00m\u001b[39mexcepts\u001b[39;00m \u001b[39mimport\u001b[39;00m BadClient\n\u001b[0;32m-> 1318\u001b[0m         \u001b[39mraise\u001b[39;00m BadClient(\n\u001b[1;32m   1319\u001b[0m             \u001b[39m'\u001b[39m\u001b[39msomething wrong when running the eventloop, result can not be retrieved\u001b[39m\u001b[39m'\u001b[39m\n\u001b[1;32m   1320\u001b[0m         )\n\u001b[1;32m   1321\u001b[0m \u001b[39melse\u001b[39;00m:\n\u001b[1;32m   1323\u001b[0m     \u001b[39mraise\u001b[39;00m \u001b[39mRuntimeError\u001b[39;00m(\n\u001b[1;32m   1324\u001b[0m         \u001b[39m'\u001b[39m\u001b[39myou have an eventloop running but not using Jupyter/ipython, \u001b[39m\u001b[39m'\u001b[39m\n\u001b[1;32m   1325\u001b[0m         \u001b[39m'\u001b[39m\u001b[39mthis may mean you are using Jina with other integration? if so, then you \u001b[39m\u001b[39m'\u001b[39m\n\u001b[1;32m   1326\u001b[0m         \u001b[39m'\u001b[39m\u001b[39mmay want to use Client/Flow(asyncio=True). If not, then \u001b[39m\u001b[39m'\u001b[39m\n\u001b[1;32m   1327\u001b[0m         \u001b[39m'\u001b[39m\u001b[39mplease report this issue here: https://github.com/jina-ai/jina\u001b[39m\u001b[39m'\u001b[39m\n\u001b[1;32m   1328\u001b[0m     )\n",
      "\u001b[0;31mBadClient\u001b[0m: something wrong when running the eventloop, result can not be retrieved"
     ]
    }
   ],
   "source": [
    "da = da[:111]\n",
    "from jina import Flow\n",
    "f = Flow()\n",
    "\n",
    "f = Flow().add(name='encoder', uses='jinahub://TransformerTorchEncoder/latest', install_requirements=True).add(uses='jinahub://AnnLiteIndexer/latest', install_requirements=True, uses_with={'columns': [('supplier', 'str'), ('price', 'float'), ('attr_t_product_type', 'str'), ('attr_t_product_colour', 'str')], 'n_dim': 768})\n",
    "\n",
    "with f:\n",
    "  f.index(da)"
   ]
  },
  {
   "cell_type": "code",
   "execution_count": 6,
   "metadata": {},
   "outputs": [],
   "source": [
    "#define the filter\n",
    "colors = [\"Black\", \"Blue\"]\n",
    "\n",
    "filter = {\n",
    "    \"attr_t_product_colour\": {\n",
    "        \"$in\": colors\n",
    "    }\n",
    "}\n",
    "\n",
    "text_string = \"laptop case\"\n",
    "text_query = Document(text=text_string)"
   ]
  },
  {
   "cell_type": "code",
   "execution_count": 7,
   "metadata": {},
   "outputs": [
    {
     "name": "stdout",
     "output_type": "stream",
     "text": [
      "────────────────────────── 🎉 Flow is ready to serve! ──────────────────────────\n",
      "╭────────────── 🔗 Endpoint ───────────────╮\n",
      "│  ⛓     Protocol                    GRPC  │\n",
      "│  🏠       Local           0.0.0.0:62504  │\n",
      "│  🔒     Private    192.168.155.39:62504  │\n",
      "│  🌍      Public    87.191.159.105:62504  │\n",
      "╰──────────────────────────────────────────╯\n",
      "\n"
     ]
    },
    {
     "data": {
      "application/vnd.jupyter.widget-view+json": {
       "model_id": "1e9c19b9aa6e4885998c1a7f31aae424",
       "version_major": 2,
       "version_minor": 0
      },
      "text/plain": [
       "Output()"
      ]
     },
     "metadata": {},
     "output_type": "display_data"
    },
    {
     "data": {
      "text/html": [
       "<pre style=\"white-space:pre;overflow-x:auto;line-height:normal;font-family:Menlo,'DejaVu Sans Mono',consolas,'Courier New',monospace\"></pre>\n"
      ],
      "text/plain": []
     },
     "metadata": {},
     "output_type": "display_data"
    },
    {
     "data": {
      "text/html": [
       "<pre style=\"white-space:pre;overflow-x:auto;line-height:normal;font-family:Menlo,'DejaVu Sans Mono',consolas,'Courier New',monospace\">\n",
       "</pre>\n"
      ],
      "text/plain": [
       "\n"
      ]
     },
     "metadata": {},
     "output_type": "display_data"
    }
   ],
   "source": [
    "#apply the filter\n",
    "with f:\n",
    "  text_matches = f.search(text_query, show_progress=True, parameters={\"filter\": filter})"
   ]
  },
  {
   "cell_type": "code",
   "execution_count": 8,
   "metadata": {},
   "outputs": [
    {
     "name": "stdout",
     "output_type": "stream",
     "text": [
      "📄 Document: bd7b37315dafc44a1601d211d3c22f45\n",
      "╭───────────┬──────────────────────────────────────────────────────────────────╮\n",
      "│ Attribute │ Value                                                            │\n",
      "├───────────┼──────────────────────────────────────────────────────────────────┤\n",
      "│ adjacency │ 1                                                                │\n",
      "│ text      │ ProBook 4320s Notebook PC HP ProBook 4320s Notebook PC Black     │\n",
      "│           │ 33.8 cm (13.3\") 1366 x 768 pixels 3rd g... (length: 1950)        │\n",
      "│ tags      │ {'attr_t_battery_type': '6-cell (47 WHr) Lithium-Ion Battery',   │\n",
      "│           │ 'attr_t_display': 'LCD',                                         │\n",
      "│           │ 'attr_b_intel__clear_video_hd_technology__intel__cvt_hd_': True, │\n",
      "│           │ 'attr_b_fsb_parity': False, 'attr_b_tv_in_port': False,          │\n",
      "│           │ 'attr_t_product_colour': 'Black', 'attr_t_cable_lock_slot_type': │\n",
      "│           │ 'Kensington', 'attr_n_number_of_built_in_speakers': 2.0,         │\n",
      "│           │ 'attr_b_cable_lock_slot': True, 'attr_t_processor_series':       │\n",
      "│           │ 'Intel Core i3-300 Mobile series',                               │\n",
      "│           │ 'attr_t_on_board_graphics_adapter_model': 'Intel HD Graphics',   │\n",
      "│           │ 'attr_t_i_o_ports': '3 USB 2.0; 1 eSATA/USB 2.0 Combo; 1         │\n",
      "│           │ external VGA monitor; 1 HDMI; 1 stereo microphone in; 1 stereo   │\n",
      "│           │ headphone/line-out; 1 AC power; 1 RJ-45; 1 RJ-11 (select         │\n",
      "│           │ models)', 'attr_b_intel_trusted_execution_technology': False,    │\n",
      "│           │ 'attr_t_pointing_device': 'Touchpad', 'attr_t_hdd_interface':    │\n",
      "│           │ 'SATA II', 'attr_b_expresscard_slot': True, 'attr_n_weight':     │\n",
      "│           │ 2020.0, 'attr_t_expansion_slots': '1 Express Card/34; 1 Media    │\n",
      "│           │ Card Reader', 'supplier': 'HP',                                  │\n",
      "│           │ 'attr_b_conflict_free_processor': False,                         │\n",
      "│           │ 'attr_n_processor_lithography': 32.0,                            │\n",
      "│           │ 'attr_n_battery_life__max_': 5.0, 'attr_n_memory_clock_speed':   │\n",
      "│           │ 1333.0, 'attr_t_processor_family': 'Intel Core i3-3xxx',         │\n",
      "│           │ 'attr_t_processor_codename': 'Arrandale',                        │\n",
      "│           │ 'attr_t_docking_solution': 'HP Basic Adjustable Stand, HP USB    │\n",
      "│           │ 2.0 Docking Station, HP Essential USB 2.0 Port Replicator, HP    │\n",
      "│           │ Dual Hinge Notebook Stand, HP Display & Notebook Stand, HP       │\n",
      "│           │ Adjustable Display Stand, HP Adjustable Dual Display Stand',     │\n",
      "│           │ 'img_500x500':                                                   │\n",
      "│           │ 'http://images.icecat.biz/img/gallery_mediums/4595040_707228335… │\n",
      "│           │ 'attr_t_storage_drive_type': '320 GB 7200 rpm SATA II',          │\n",
      "│           │ 'attr_n_processor_frequency': 2.26, 'attr_n_processor_cache':    │\n",
      "│           │ 3.0, 'attr_b_s_pdif_out_port': False,                            │\n",
      "│           │ 'attr_t_pci_express_slots_version': '2.0',                       │\n",
      "│           │ 'attr_b_intel_dual_display_capable_technology': True,            │\n",
      "│           │ 'attr_t_cardbus_pcmcia_slot_type': 'N',                          │\n",
      "│           │ 'attr_n_processing_die_size': 81.0,                              │\n",
      "│           │ 'attr_t_number_of_battery_cells': '6',                           │\n",
      "│           │ 'attr_n_headphone_outputs': 1.0,                                 │\n",
      "│           │ 'attr_b_intel__hyper_threading_technology__intel__ht_technology… │\n",
      "│           │ True, 'attr_t_country_of_origin': 'China',                       │\n",
      "│           │ 'attr_t_optical_drive_type': 'DVD Super Multi DL',               │\n",
      "│           │ 'attr_b_infrared_data_port': False, 'attr_t_processor_threads':  │\n",
      "│           │ '4', 'attr_t_intel_segment_tagging': 'Enterprise', 'name':       │\n",
      "│           │ 'ProBook 4320s Notebook PC', 'attr_b_intel_fast_memory_access':  │\n",
      "│           │ True, 'attr_t_graphics_adapter_family': 'Intel',                 │\n",
      "│           │ 'attr_t_operating_system_installed': 'Windows 7 Professional',   │\n",
      "│           │ 'attr_b_intel__quick_sync_video_technology': False,              │\n",
      "│           │ 'attr_t_modem_type': 'N', 'attr_b_intel_fdi_technology': True,   │\n",
      "│           │ 'attr_n_thermal_design_power__tdp_': 35.0,                       │\n",
      "│           │ 'attr_b_intel_virtualization_technology__vt_x_': True,           │\n",
      "│           │ 'attr_t_processor_package_size': '34',                           │\n",
      "│           │ 'attr_b_intel_flex_memory_access': True,                         │\n",
      "│           │ 'attr_n_cpu_multiplier__bus_core_ratio_': 17.0,                  │\n",
      "│           │ 'attr_t_operating_temperature__t_t_': '5 - 35', 'attr_b_tv_out': │\n",
      "│           │ False, 'attr_b_intel__insider_': False, 'attr_b_wi_fi': True,    │\n",
      "│           │ 'attr_t_stepping': 'C2', 'attr_b_intel__intru__3d_technology':   │\n",
      "│           │ False, 'attr_t_hdd_controller_type': 'SATA II (5400 rpm)\\\\nSATA  │\n",
      "│           │ II (7200 rpm)', 'attr_b_intel_64': True, 'attr_b_dvi_port':      │\n",
      "│           │ False, 'short_description': 'Intel Core i3-350M (2.26GHz, 3MB    │\n",
      "│           │ L3), 13.3\" LED-backlit HD Anti-Glare (1366 x 768), 3GB DDR3      │\n",
      "│           │ SDRAM, 320GB 7200 rpm SATA II, DVD+/-RW SuperMulti DL            │\n",
      "│           │ LightScribe, Intel HD Graphics, Atheros 802.11b/g/n, Bluetooth   │\n",
      "│           │ 2.1, 2MP webcam, Windows 7 Professional 32',                     │\n",
      "│           │ 'attr_n_vga__d_sub__ports_quantity': 1.0, 'img_low':             │\n",
      "│           │ 'http://images.icecat.biz/img/gallery_lows/4595040_7072283350.j… │\n",
      "│           │ 'attr_b_microphone_in': True, 'attr_b_bluetooth': True,          │\n",
      "│           │ 'attr_b_card_reader_integrated': True,                           │\n",
      "│           │ 'attr_t_supported_instruction_sets': 'SSE4.1,SSE4.2',            │\n",
      "│           │ 'attr_n_processor_ark_id': 43529.0, 'attr_t_processor_cores':    │\n",
      "│           │ '2', 'attr_t_motherboard_chipset': 'Intel HM57 Express',         │\n",
      "│           │ 'attr_b_thermal_monitoring_technologies': True,                  │\n",
      "│           │ 'attr_n_ethernet_lan__rj_45__ports': 1.0,                        │\n",
      "│           │ 'attr_t_display_resolution': '1366 x 768',                       │\n",
      "│           │ 'attr_b_ecc_supported_by_processor': False,                      │\n",
      "│           │ 'attr_t_audio_included': 'High definition audio support;         │\n",
      "│           │ Integrated stereo speakers; Integrated digital microphone;       │\n",
      "│           │ Stereo headphone/line out; Stereo microphone/line in',           │\n",
      "│           │ 'attr_t_bluetooth_version': '2.1+EDR', 'attr_b_lightscribe':     │\n",
      "│           │ True, 'attr_n_usb_2_0_ports_quantity': 3.0,                      │\n",
      "│           │ 'attr_t_on_board_graphics_adapter_family': 'Intel HD Graphics',  │\n",
      "│           │ 'attr_n_maximum_hdd_capacity': 500.0, 'price': 11795.0,          │\n",
      "│           │ 'attr_t_memory_slots': '2x SO-DIMM',                             │\n",
      "│           │ 'attr_b_intel_clear_video_technology': True,                     │\n",
      "│           │ 'attr_t_intel__turbo_boost_technology': 'N',                     │\n",
      "│           │ 'attr_n_internal_memory': 3.0,                                   │\n",
      "│           │ 'attr_t_operating_relative_humidity__h_h_': '10 - 90',           │\n",
      "│           │ 'attr_t_hdd_speed': '7200',                                      │\n",
      "│           │ 'attr_n_maximum_number_of_pci_express_lanes': 16.0,              │\n",
      "│           │ 'attr_n_system_bus_rate': 2.5,                                   │\n",
      "│           │ 'attr_b_intel_enhanced_halt_state': True,                        │\n",
      "│           │ 'attr_t_pci_express_configurations': '1x16',                     │\n",
      "│           │ 'attr_n_hdmi_ports_quantity': 1.0,                               │\n",
      "│           │ 'attr_n_esata_ports_quantity': 1.0, 'attr_n_memory_upgrade':     │\n",
      "│           │ 8.0, 'attr_n_maximum_internal_memory': 8.0,                      │\n",
      "│           │ 'attr_n_cpu_configuration__max_': 1.0,                           │\n",
      "│           │ 'attr_n_minimum_storage_drive_space': 250.0,                     │\n",
      "│           │ 'attr_b_enhanced_intel_speedstep_technology': True,              │\n",
      "│           │ 'attr_t_processor_model': 'i3-350M',                             │\n",
      "│           │ 'attr_t_processor_manufacturer': 'Intel',                        │\n",
      "│           │ 'attr_n_display_diagonal': 13.3,                                 │\n",
      "│           │ 'attr_b_intel__wireless_display__intel__widi_': False,           │\n",
      "│           │ 'attr_t_keyboard_type': 'Full-size spill-resistant keyboard',    │\n",
      "│           │ 'attr_n_on_board_graphics_adapter_base_frequency': 500.0,        │\n",
      "│           │ 'attr_t_processor_operating_modes': '64-bit',                    │\n",
      "│           │ 'attr_t_aspect_ratio': '16:9',                                   │\n",
      "│           │ 'attr_n_number_of_processing_die_transistors': 382.0,            │\n",
      "│           │ 'attr_t_processor_socket': 'BGA 1288', 'attr_n_width': 324.0,    │\n",
      "│           │ 'attr_t_processor_code': 'SLBPL', 'id': '4595040', 'img_thumb':  │\n",
      "│           │ 'http://images.icecat.biz/img/gallery_thumbs/4595040_7072283350… │\n",
      "│           │ 'attr_b_execute_disable_bit': True,                              │\n",
      "│           │ 'attr_b_embedded_options_available': False,                      │\n",
      "│           │ 'attr_t_memory_layout__slots_x_size_': '1 x 1 + 1 x 2',          │\n",
      "│           │ 'attr_b_intel__aes_new_instructions__intel__aes_ni_': False,     │\n",
      "│           │ 'attr_t_power_requirements': '65W Smart AC adapter (integrated); │\n",
      "│           │ 90W Smart AC adapter (discrete); HP Fast Charge',                │\n",
      "│           │ 'attr_b_tv_tuner_integrated': False,                             │\n",
      "│           │ 'attr_b_intel_vt_x_with_extended_page_tables__ept_': True,       │\n",
      "│           │ 'attr_b_intel_virtualization_technology_for_directed_i_o__vt_d_… │\n",
      "│           │ False, 'attr_t_security_management_description': 'HP             │\n",
      "│           │ ProtectTools Security Manager; Face Recognition for HP           │\n",
      "│           │ ProtectTools; One Step Login; Enhanced Pre-Boot Security; HP     │\n",
      "│           │ SpareKey; HP Disk Sanitizer; Setup Password; Kensington Lock     │\n",
      "│           │ Slot; Support for Computrace LoJack Pro for HP ProtectTools',    │\n",
      "│           │ 'attr_t_charging_port_type': 'DC-in jack', 'attr_t_bus_type':    │\n",
      "│           │ 'DMI', 'attr_t_audio_system': 'HD Audio',                        │\n",
      "│           │ 'attr_b_intel_rapid_storage_technology': False, 'ean':           │\n",
      "│           │ ['0885631497128', '0885631361887', '0885631048771'],             │\n",
      "│           │ 'attr_n_total_storage_capacity': 320.0, 'date_released':         │\n",
      "│           │ '2010-05-01T00:00:00Z', 'title': 'HP ProBook 4320s Notebook PC   │\n",
      "│           │ Black 33.8 cm (13.3\") 1366 x 768 pixels 3rd gen Intel® Core™ i3  │\n",
      "│           │ 3 GB 320 GB Windows 7 Professional', 'attr_b_idle_states': True, │\n",
      "│           │ 'attr_b_intel__my_wifi_technology__intel__mwt_': False,          │\n",
      "│           │ 'attr_b_on_board_graphics_adapter': True,                        │\n",
      "│           │ 'attr_t_storage_relative_humidity__h_h_': '5 - 95',              │\n",
      "│           │ 'attr_b_intel_demand_based_switching': False,                    │\n",
      "│           │ 'attr_n_tjunction': 105.0, 'attr_t_wireless_technology':         │\n",
      "│           │ 'Atheros 802.11b/g/n; HP Integrated Module with Bluetooth 2.1    │\n",
      "│           │ Wireless Technology', 'attr_t_networking_features': 'Gigabit     │\n",
      "│           │ Ethernet',                                                       │\n",
      "│           │ 'attr_b_intel__clear_video_technology_for_mobile_internet_devic… │\n",
      "│           │ True, 'img_high':                                                │\n",
      "│           │ 'http://images.icecat.biz/img/gallery/4595040_7072283350.jpg',   │\n",
      "│           │ 'attr_n_depth': 228.0, 'attr_t_type': 'PC',                      │\n",
      "│           │ 'attr_n_physical_address_extension__pae_': 36.0,                 │\n",
      "│           │ 'attr_b_intel__anti_theft_technology__intel__at_': False,        │\n",
      "│           │ 'attr_n_on_board_graphics_adapter_dynamic_frequency__max_':      │\n",
      "│           │ 667.0, 'attr_t_processor_cache_type': 'Smart Cache',             │\n",
      "│           │ 'attr_b_internal_modem': False, 'attr_b_docking_connector':      │\n",
      "│           │ False, 'attr_b_led_backlight': True, 'attr_b_smartcard_slot':    │\n",
      "│           │ True, 'attr_n_height__front_': 27.0,                             │\n",
      "│           │ 'attr_n_graphics___imc_lithography': 45.0,                       │\n",
      "│           │ 'attr_t_dimensions__wxdxh_': '324 x 228 x 27',                   │\n",
      "│           │ 'attr_b_intel__smart_cache': True}                               │\n",
      "│ embedding │ ▄▄▄▄▄▄▄▄▄▄▄▄▄▄▄▄▄▄▄▄▄▄▄▄▄▄▄▄▄▄▄▄▄▄▄▄▄▄▄▄▄▄▄▄▄▄▄▄▄▄▄▄▄▄▄▄▄▄▄▄▄▄▄▄ │\n",
      "│           │ ▄▄▄▄▄▄▄▄▄▄▄▄▄▄▄▄▄▄▄▄▄▄▄▄▄▄▄▄▄▄▄▄▄▄▄▄▄▄▄▄▄▄▄▄▄▄▄▄▄▄▄▄▄▄▄▄▄▄▄▄▄▄▄▄ │\n",
      "│           │ ▄▄▄▄▄▄▄▄▄▄▄▄▄▄▄▄▄▄▄▄▄▄▄▄▄▄▄▄▄▄▄▄▄▄▄▄▄▄▄▄▄▄▄▄▄▄▄▄▄▄▄▄▄▄▄▄▄▄▄▄▄▄▄▄ │\n",
      "│           │ ▄▄▄▄▄▄▄▄▄▄▄▄▄▄▄▄▄▄▄▄▄▄▄▄▄▄▄▄▄▄▄▄▄▄▄▄▄▄▄▄▄▄▄▄▄▄▄▄▄▄▄▄▄▄▄▄▄▄▄▄▄▄▄▄ │\n",
      "│           │ ▄▄▄▄▄▄▄▄▄▄▄▄▄▄▄▄▄▄▄▄▄▄▄▄▄▄▄▄▄▄▄▄▄▄▄▄▄▄▄▄▄▄▄▄▄▄▄▄▄▄▄▄▄▄▄▄▄▄▄▄▄▄▄▄ │\n",
      "│           │ ▄▄▄▄▄▄▄▄▄▄▄▄▄▄▄▄▄▄▄▄▄▄▄▄▄▄▄▄▄▄▄▄▄▄▄▄▄▄▄▄▄▄▄▄▄▄▄▄▄▄▄▄▄▄▄▄▄▄▄▄▄▄▄▄ │\n",
      "│           │ ▄▄▄▄▄▄▄▄▄▄▄▄▄▄▄▄▄▄▄▄▄▄▄▄▄▄▄▄▄▄▄▄▄▄▄▄▄▄▄▄▄▄▄▄▄▄▄▄▄▄▄▄▄▄▄▄▄▄▄▄▄▄▄▄ │\n",
      "│           │ ▄▄▄▄▄▄▄▄▄▄▄▄▄▄▄▄▄▄▄▄▄▄▄▄▄▄▄▄▄▄▄▄▄▄▄▄▄▄▄▄▄▄▄▄▄▄▄▄▄▄▄▄▄▄▄▄▄▄▄▄▄▄▄▄ │\n",
      "│           │ ▄▄▄▄▄▄▄▄▄▄▄▄▄▄▄▄▄▄▄▄▄▄▄▄▄▄▄▄▄▄▄▄▄▄▄▄▄▄▄▄▄▄▄▄▄▄▄▄▄▄▄▄▄▄▄▄▄▄▄▄▄▄▄▄ │\n",
      "│           │ ▄▄▄▄▄▄▄▄▄▄▄▄▄▄▄▄▄▄▄▄▄▄▄▄▄▄▄▄▄▄▄▄▄▄▄▄▄▄▄▄▄▄▄▄▄▄▄▄▄▄▄▄▄▄▄▄▄▄▄▄▄▄▄▄ │\n",
      "│           │ ▄▄▄▄▄▄▄▄▄▄▄▄▄▄▄▄▄▄▄▄▄▄▄▄▄▄▄▄▄▄▄▄▄▄▄▄▄▄▄▄▄▄▄▄▄▄▄▄▄▄▄▄▄▄▄▄▄▄▄▄▄▄▄▄ │\n",
      "│           │ ▄▄▄▄▄▄▄▄▄▄▄▄▄▄▄▄▄▄▄▄▄▄▄▄▄▄▄▄▄▄▄▄▄▄▄▄▄▄▄▄▄▄▄▄▄▄▄▄▄▄▄▄▄▄▄▄▄▄▄▄▄▄▄  │\n",
      "│ scores    │ defaultdict(<class 'docarray.score.NamedScore'>, {'cosine':      │\n",
      "│           │ {'value': 0.5264188647270203}})                                  │\n",
      "╰───────────┴──────────────────────────────────────────────────────────────────╯\n"
     ]
    }
   ],
   "source": [
    "text_matches[0].matches[0]"
   ]
  },
  {
   "cell_type": "code",
   "execution_count": 24,
   "metadata": {},
   "outputs": [
    {
     "data": {
      "application/vnd.jupyter.widget-view+json": {
       "model_id": "c81a7c1ab51b4a119125d253116dc44b",
       "version_major": 2,
       "version_minor": 0
      },
      "text/plain": [
       "Output()"
      ]
     },
     "metadata": {},
     "output_type": "display_data"
    },
    {
     "name": "stderr",
     "output_type": "stream",
     "text": [
      "\u001b[1;33mDeprecationWarning: Setting `workspace` via `metas.workspace` is deprecated. Instead, use `f.add(..., workspace=...)` when defining a a Flow in Python; the `workspace` parameter when defining a Flow using YAML; or `--workspace` when starting an Executor using the CLI.\u001b[0m \u001b[1;30m(raised from /home/aswin/anaconda3/envs/jina/lib/python3.9/site-packages/jina/serve/executors/__init__.py:226)\u001b[0m\n"
     ]
    },
    {
     "name": "stderr",
     "output_type": "stream",
     "text": [
      "\u001b[1;33mDeprecationWarning: distutils Version classes are deprecated. Use packaging.version instead.\u001b[0m \u001b[1;30m(raised from /home/aswin/anaconda3/envs/jina/lib/python3.9/site-packages/torch/utils/tensorboard/__init__.py:4)\u001b[0m\n"
     ]
    },
    {
     "name": "stderr",
     "output_type": "stream",
     "text": [
      "\u001b[1;33mDeprecationWarning: distutils Version classes are deprecated. Use packaging.version instead.\u001b[0m \u001b[1;30m(raised from /home/aswin/anaconda3/envs/jina/lib/python3.9/site-packages/torch/utils/tensorboard/__init__.py:6)\u001b[0m\n"
     ]
    },
    {
     "data": {
      "text/html": [
       "<pre style=\"white-space:pre;overflow-x:auto;line-height:normal;font-family:Menlo,'DejaVu Sans Mono',consolas,'Courier New',monospace\"><span style=\"color: #00ff00; text-decoration-color: #00ff00\">─────────────────────────────────────────── </span>🎉 Flow is ready to serve!<span style=\"color: #00ff00; text-decoration-color: #00ff00\"> ────────────────────────────────────────────</span>\n",
       "╭────────────── 🔗 <span style=\"font-weight: bold\">Endpoint</span> ───────────────╮\n",
       "│  ⛓     Protocol                    GRPC  │\n",
       "│  🏠       Local           <a href=\"grpc://0.0.0.0:64531\" target=\"_blank\"><span style=\"color: #00ff00; text-decoration-color: #00ff00; font-weight: bold\">0.0.0.0</span></a><a href=\"grpc://0.0.0.0:64531\" target=\"_blank\">:</a><a href=\"grpc://0.0.0.0:64531\" target=\"_blank\"><span style=\"color: #008080; text-decoration-color: #008080; font-weight: bold\">64531</span></a>  │\n",
       "│  🔒     Private    <a href=\"grpc://192.168.155.39:64531\" target=\"_blank\"><span style=\"color: #00ff00; text-decoration-color: #00ff00; font-weight: bold\">192.168.155.39</span></a><a href=\"grpc://192.168.155.39:64531\" target=\"_blank\">:</a><a href=\"grpc://192.168.155.39:64531\" target=\"_blank\"><span style=\"color: #008080; text-decoration-color: #008080; font-weight: bold\">64531</span></a>  │\n",
       "│  🌍      Public    <a href=\"grpc://87.191.159.105:64531\" target=\"_blank\"><span style=\"color: #00ff00; text-decoration-color: #00ff00; font-weight: bold\">87.191.159.105</span></a><a href=\"grpc://87.191.159.105:64531\" target=\"_blank\">:</a><a href=\"grpc://87.191.159.105:64531\" target=\"_blank\"><span style=\"color: #008080; text-decoration-color: #008080; font-weight: bold\">64531</span></a>  │\n",
       "╰──────────────────────────────────────────╯\n",
       "</pre>\n"
      ],
      "text/plain": [
       "\u001b[92m─────────────────────────────────────────── \u001b[0m🎉 Flow is ready to serve!\u001b[92m ────────────────────────────────────────────\u001b[0m\n",
       "╭────────────── 🔗 \u001b[1mEndpoint\u001b[0m ───────────────╮\n",
       "│  ⛓     Protocol                    GRPC  │\n",
       "│  🏠       Local           \u001b]8;id=935852;grpc://0.0.0.0:64531\u001b\\\u001b[1;92m0.0.0.0\u001b[0m\u001b]8;;\u001b\\\u001b]8;id=977634;grpc://0.0.0.0:64531\u001b\\:\u001b]8;;\u001b\\\u001b]8;id=471392;grpc://0.0.0.0:64531\u001b\\\u001b[1;36m64531\u001b[0m\u001b]8;;\u001b\\  │\n",
       "│  🔒     Private    \u001b]8;id=33399;grpc://192.168.155.39:64531\u001b\\\u001b[1;92m192.168.155.39\u001b[0m\u001b]8;;\u001b\\\u001b]8;id=979289;grpc://192.168.155.39:64531\u001b\\:\u001b]8;;\u001b\\\u001b]8;id=266691;grpc://192.168.155.39:64531\u001b\\\u001b[1;36m64531\u001b[0m\u001b]8;;\u001b\\  │\n",
       "│  🌍      Public    \u001b]8;id=337967;grpc://87.191.159.105:64531\u001b\\\u001b[1;92m87.191.159.105\u001b[0m\u001b]8;;\u001b\\\u001b]8;id=742169;grpc://87.191.159.105:64531\u001b\\:\u001b]8;;\u001b\\\u001b]8;id=692064;grpc://87.191.159.105:64531\u001b\\\u001b[1;36m64531\u001b[0m\u001b]8;;\u001b\\  │\n",
       "╰──────────────────────────────────────────╯\n"
      ]
     },
     "metadata": {},
     "output_type": "display_data"
    },
    {
     "data": {
      "text/html": [
       "<pre style=\"white-space:pre;overflow-x:auto;line-height:normal;font-family:Menlo,'DejaVu Sans Mono',consolas,'Courier New',monospace\"></pre>\n"
      ],
      "text/plain": []
     },
     "metadata": {},
     "output_type": "display_data"
    },
    {
     "data": {
      "text/html": [
       "<pre style=\"white-space:pre;overflow-x:auto;line-height:normal;font-family:Menlo,'DejaVu Sans Mono',consolas,'Courier New',monospace\">\n",
       "</pre>\n"
      ],
      "text/plain": [
       "\n"
      ]
     },
     "metadata": {},
     "output_type": "display_data"
    },
    {
     "data": {
      "text/html": [
       "<pre style=\"white-space:pre;overflow-x:auto;line-height:normal;font-family:Menlo,'DejaVu Sans Mono',consolas,'Courier New',monospace\">\n",
       "</pre>\n"
      ],
      "text/plain": [
       "\n"
      ]
     },
     "metadata": {},
     "output_type": "display_data"
    },
    {
     "ename": "AttributeError",
     "evalue": "'function' object has no attribute 'text'",
     "output_type": "error",
     "traceback": [
      "\u001b[0;31m---------------------------------------------------------------------------\u001b[0m",
      "\u001b[0;31mAttributeError\u001b[0m                            Traceback (most recent call last)",
      "\u001b[1;32m/home/aswin/Documents/vector_jina/data_index.ipynb Cell 3\u001b[0m in \u001b[0;36m<cell line: 3>\u001b[0;34m()\u001b[0m\n\u001b[1;32m      <a href='vscode-notebook-cell:/home/aswin/Documents/vector_jina/data_index.ipynb#W2sZmlsZQ%3D%3D?line=2'>3</a>\u001b[0m \u001b[39mwith\u001b[39;00m f:\n\u001b[1;32m      <a href='vscode-notebook-cell:/home/aswin/Documents/vector_jina/data_index.ipynb#W2sZmlsZQ%3D%3D?line=3'>4</a>\u001b[0m   results \u001b[39m=\u001b[39m f\u001b[39m.\u001b[39msearch(query)\n\u001b[0;32m----> <a href='vscode-notebook-cell:/home/aswin/Documents/vector_jina/data_index.ipynb#W2sZmlsZQ%3D%3D?line=4'>5</a>\u001b[0m   \u001b[39mprint\u001b[39m(results[\u001b[39m0\u001b[39;49m]\u001b[39m.\u001b[39;49mmatch\u001b[39m.\u001b[39;49mtext)\n",
      "\u001b[0;31mAttributeError\u001b[0m: 'function' object has no attribute 'text'"
     ]
    }
   ],
   "source": [
    "query = Document(text='Cartridge')\n",
    "\n",
    "with f:\n",
    "  results = f.search(query)\n",
    "  print(results[0].match.text)\n"
   ]
  },
  {
   "cell_type": "code",
   "execution_count": 8,
   "metadata": {},
   "outputs": [
    {
     "data": {
      "text/html": [
       "<pre style=\"white-space:pre;overflow-x:auto;line-height:normal;font-family:Menlo,'DejaVu Sans Mono',consolas,'Courier New',monospace\"><span style=\"color: #808000; text-decoration-color: #808000; font-weight: bold\">UserWarning: VersionConflict(torch 1.12.0+cu113 (/home/aswin/anaconda3/envs/jina/lib/python3.9/site-packages), </span>\n",
       "<span style=\"color: #808000; text-decoration-color: #808000; font-weight: bold\">Requirement.parse('torch==1.9.0+cpu'))</span> <span style=\"color: #000000; text-decoration-color: #000000; font-weight: bold\">(raised from </span>\n",
       "<span style=\"color: #000000; text-decoration-color: #000000; font-weight: bold\">/home/aswin/anaconda3/envs/jina/lib/python3.9/site-packages/jina/hubble/helper.py:419)</span>\n",
       "</pre>\n"
      ],
      "text/plain": [
       "\u001b[1;33mUserWarning: VersionConflict(torch 1.12.0+cu113 (/home/aswin/anaconda3/envs/jina/lib/python3.9/site-packages), \u001b[0m\n",
       "\u001b[1;33mRequirement.parse('torch==1.9.0+cpu'))\u001b[0m \u001b[1;30m(raised from \u001b[0m\n",
       "\u001b[1;30m/home/aswin/anaconda3/envs/jina/lib/python3.9/site-packages/jina/hubble/helper.py:419)\u001b[0m\n"
      ]
     },
     "metadata": {},
     "output_type": "display_data"
    },
    {
     "data": {
      "text/html": [
       "<pre style=\"white-space:pre;overflow-x:auto;line-height:normal;font-family:Menlo,'DejaVu Sans Mono',consolas,'Courier New',monospace\"></pre>\n"
      ],
      "text/plain": []
     },
     "metadata": {},
     "output_type": "display_data"
    },
    {
     "data": {
      "text/html": [
       "<pre style=\"white-space:pre;overflow-x:auto;line-height:normal;font-family:Menlo,'DejaVu Sans Mono',consolas,'Courier New',monospace\"></pre>\n"
      ],
      "text/plain": []
     },
     "metadata": {},
     "output_type": "display_data"
    },
    {
     "data": {
      "text/html": [
       "<pre style=\"white-space:pre;overflow-x:auto;line-height:normal;font-family:Menlo,'DejaVu Sans Mono',consolas,'Courier New',monospace\"></pre>\n"
      ],
      "text/plain": []
     },
     "metadata": {},
     "output_type": "display_data"
    },
    {
     "data": {
      "text/html": [
       "<pre style=\"white-space:pre;overflow-x:auto;line-height:normal;font-family:Menlo,'DejaVu Sans Mono',consolas,'Courier New',monospace\"></pre>\n"
      ],
      "text/plain": []
     },
     "metadata": {},
     "output_type": "display_data"
    },
    {
     "data": {
      "application/vnd.jupyter.widget-view+json": {
       "model_id": "d156eedfd84a4a258a07ed70f3341ade",
       "version_major": 2,
       "version_minor": 0
      },
      "text/plain": [
       "Output()"
      ]
     },
     "metadata": {},
     "output_type": "display_data"
    },
    {
     "name": "stderr",
     "output_type": "stream",
     "text": [
      "\u001b[1;33mDeprecationWarning: Setting `workspace` via `metas.workspace` is deprecated. Instead, use `f.add(..., workspace=...)` when defining a a Flow in Python; the `workspace` parameter when defining a Flow using YAML; or `--workspace` when starting an Executor using the CLI.\u001b[0m \u001b[1;30m(raised from /home/aswin/anaconda3/envs/jina/lib/python3.9/site-packages/jina/serve/executors/__init__.py:226)\u001b[0m\n"
     ]
    },
    {
     "name": "stderr",
     "output_type": "stream",
     "text": [
      "\u001b[1;33mDeprecationWarning: distutils Version classes are deprecated. Use packaging.version instead.\u001b[0m \u001b[1;30m(raised from /home/aswin/anaconda3/envs/jina/lib/python3.9/site-packages/torch/utils/tensorboard/__init__.py:4)\u001b[0m\n",
      "\u001b[1;33mDeprecationWarning: distutils Version classes are deprecated. Use packaging.version instead.\u001b[0m \u001b[1;30m(raised from /home/aswin/anaconda3/envs/jina/lib/python3.9/site-packages/torch/utils/tensorboard/__init__.py:6)\u001b[0m\n"
     ]
    },
    {
     "data": {
      "text/html": [
       "<pre style=\"white-space:pre;overflow-x:auto;line-height:normal;font-family:Menlo,'DejaVu Sans Mono',consolas,'Courier New',monospace\"><span style=\"color: #00ff00; text-decoration-color: #00ff00\">─────────────────────────────────────────── </span>🎉 Flow is ready to serve!<span style=\"color: #00ff00; text-decoration-color: #00ff00\"> ────────────────────────────────────────────</span>\n",
       "╭────────────── 🔗 <span style=\"font-weight: bold\">Endpoint</span> ───────────────╮\n",
       "│  ⛓     Protocol                    GRPC  │\n",
       "│  🏠       Local           <a href=\"grpc://0.0.0.0:53671\" target=\"_blank\"><span style=\"color: #00ff00; text-decoration-color: #00ff00; font-weight: bold\">0.0.0.0</span></a><a href=\"grpc://0.0.0.0:53671\" target=\"_blank\">:</a><a href=\"grpc://0.0.0.0:53671\" target=\"_blank\"><span style=\"color: #008080; text-decoration-color: #008080; font-weight: bold\">53671</span></a>  │\n",
       "│  🔒     Private    <a href=\"grpc://192.168.155.39:53671\" target=\"_blank\"><span style=\"color: #00ff00; text-decoration-color: #00ff00; font-weight: bold\">192.168.155.39</span></a><a href=\"grpc://192.168.155.39:53671\" target=\"_blank\">:</a><a href=\"grpc://192.168.155.39:53671\" target=\"_blank\"><span style=\"color: #008080; text-decoration-color: #008080; font-weight: bold\">53671</span></a>  │\n",
       "│  🌍      Public    <a href=\"grpc://87.191.159.105:53671\" target=\"_blank\"><span style=\"color: #00ff00; text-decoration-color: #00ff00; font-weight: bold\">87.191.159.105</span></a><a href=\"grpc://87.191.159.105:53671\" target=\"_blank\">:</a><a href=\"grpc://87.191.159.105:53671\" target=\"_blank\"><span style=\"color: #008080; text-decoration-color: #008080; font-weight: bold\">53671</span></a>  │\n",
       "╰──────────────────────────────────────────╯\n",
       "</pre>\n"
      ],
      "text/plain": [
       "\u001b[92m─────────────────────────────────────────── \u001b[0m🎉 Flow is ready to serve!\u001b[92m ────────────────────────────────────────────\u001b[0m\n",
       "╭────────────── 🔗 \u001b[1mEndpoint\u001b[0m ───────────────╮\n",
       "│  ⛓     Protocol                    GRPC  │\n",
       "│  🏠       Local           \u001b]8;id=188688;grpc://0.0.0.0:53671\u001b\\\u001b[1;92m0.0.0.0\u001b[0m\u001b]8;;\u001b\\\u001b]8;id=698765;grpc://0.0.0.0:53671\u001b\\:\u001b]8;;\u001b\\\u001b]8;id=824615;grpc://0.0.0.0:53671\u001b\\\u001b[1;36m53671\u001b[0m\u001b]8;;\u001b\\  │\n",
       "│  🔒     Private    \u001b]8;id=101345;grpc://192.168.155.39:53671\u001b\\\u001b[1;92m192.168.155.39\u001b[0m\u001b]8;;\u001b\\\u001b]8;id=156677;grpc://192.168.155.39:53671\u001b\\:\u001b]8;;\u001b\\\u001b]8;id=845611;grpc://192.168.155.39:53671\u001b\\\u001b[1;36m53671\u001b[0m\u001b]8;;\u001b\\  │\n",
       "│  🌍      Public    \u001b]8;id=575784;grpc://87.191.159.105:53671\u001b\\\u001b[1;92m87.191.159.105\u001b[0m\u001b]8;;\u001b\\\u001b]8;id=226118;grpc://87.191.159.105:53671\u001b\\:\u001b]8;;\u001b\\\u001b]8;id=204543;grpc://87.191.159.105:53671\u001b\\\u001b[1;36m53671\u001b[0m\u001b]8;;\u001b\\  │\n",
       "╰──────────────────────────────────────────╯\n"
      ]
     },
     "metadata": {},
     "output_type": "display_data"
    },
    {
     "data": {
      "text/html": [
       "<pre style=\"white-space:pre;overflow-x:auto;line-height:normal;font-family:Menlo,'DejaVu Sans Mono',consolas,'Courier New',monospace\"></pre>\n"
      ],
      "text/plain": []
     },
     "metadata": {},
     "output_type": "display_data"
    },
    {
     "data": {
      "text/html": [
       "<pre style=\"white-space:pre;overflow-x:auto;line-height:normal;font-family:Menlo,'DejaVu Sans Mono',consolas,'Courier New',monospace\">\n",
       "</pre>\n"
      ],
      "text/plain": [
       "\n"
      ]
     },
     "metadata": {},
     "output_type": "display_data"
    },
    {
     "data": {
      "text/html": [
       "<pre style=\"white-space:pre;overflow-x:auto;line-height:normal;font-family:Menlo,'DejaVu Sans Mono',consolas,'Courier New',monospace\">\n",
       "</pre>\n"
      ],
      "text/plain": [
       "\n"
      ]
     },
     "metadata": {},
     "output_type": "display_data"
    },
    {
     "name": "stdout",
     "output_type": "stream",
     "text": [
      "[{\"id\": \"c655b7110083fa6be3991e58ff92198d\", \"parent_id\": null, \"granularity\": null, \"adjacency\": null, \"blob\": null, \"tensor\": null, \"mime_type\": null, \"text\": \"hello\", \"weight\": null, \"uri\": null, \"tags\": null, \"offset\": null, \"location\": null, \"embedding\": [0.08156412839889526, -0.0165849681943655, -0.005647609476000071, 0.03694671764969826, 0.07050866633653641, 0.01082331221550703, -0.010305303148925304, 0.09388928860425949, 0.03058224357664585, -0.010133092291653156, 0.035235609859228134, -0.03164002299308777, -0.000426911428803578, 0.057421792298555374, 0.08025908470153809, -0.28108707070350647, 0.09428101778030396, 0.017559310421347618, -0.14722050726413727, -0.0006037379498593509, -0.020847491919994354, -0.012616757303476334, -5.8429937780601904e-05, 0.09862927347421646, 0.05970126390457153, 0.01143552828580141, -0.0028616294730454683, 0.0197420883923769, 0.0310052502900362, 0.05060402676463127, -0.03180179372429848, 0.005787048488855362, 0.07171972841024399, 0.04280797019600868, 5.751326170866378e-06, -0.021299904212355614, -0.0356854610145092, 0.04454106464982033, -0.025447329506278038, -0.05966443195939064, -0.0004343001637607813, -0.001315966248512268, -0.024212686344981194, 0.10217678546905518, -0.019193420186638832, -0.11854085326194763, 0.10892663151025772, -0.015416066162288189, -0.051991790533065796, 0.1076740249991417, 0.006078716833144426, -0.09174501895904541, -0.06721150130033493, -0.04666699096560478, 0.04328532889485359, 0.17374439537525177, 0.05856606364250183, 0.05864875391125679, 0.005146851297467947, -0.1052689179778099, 0.16944889724254608, -0.006340536754578352, -0.05043196678161621, -0.07904510200023651, 0.1409633308649063, 0.12869702279567719, -0.045335885137319565, -0.07855582982301712, -0.01369806844741106, 0.12371932715177536, 0.00830398965626955, -0.019709503278136253, 0.05621841549873352, 0.1813865303993225, 0.003026825375854969, 0.03849957510828972, -0.023571966215968132, 0.028633207082748413, -0.051057472825050354, 0.04967902973294258, -0.1481522172689438, -0.0050929151475429535, 0.04935610294342041, -0.018939277157187462, -0.006318539846688509, 0.031924813985824585, 0.0738091990351677, -0.14301912486553192, -0.11231932044029236, -0.07580655813217163, -0.07471395283937454, -0.07822371274232864, 0.07012316584587097, 0.07828041911125183, 0.08219549804925919, -0.02379707060754299, -0.013626347295939922, -0.026653042063117027, -0.031181298196315765, -0.1499614268541336, 0.02741800993680954, 0.11833622306585312, 0.033533986657857895, 0.030663035809993744, 0.13176797330379486, 0.11819815635681152, 0.19463813304901123, -0.1961141973733902, 0.01263600867241621, 0.06885621696710587, -0.10871408134698868, -0.05430429056286812, 0.09224765747785568, 0.06646188348531723, -0.11099741607904434, 0.014613635838031769, -0.05275657773017883, 0.09606775641441345, 0.014329533092677593, 0.05993778631091118, 0.01525427307933569, 0.0599389486014843, 0.039303258061409, -0.0026117712259292603, 0.0016683550784364343, -0.07998330146074295, -0.06558319926261902, 0.17381471395492554, -0.017690414562821388, -0.19111205637454987, 0.022437823936343193, 0.0033310800790786743, 0.015857679769396782, -0.03402131423354149, 0.199395552277565, 0.1346803903579712, -0.09215778112411499, 0.053076863288879395, 0.16311676800251007, -0.10310462862253189, -0.08248073607683182, -0.00963438581675291, -0.06792444735765457, -0.047480206936597824, -0.1670588254928589, -0.10198915004730225, 0.10376962274312973, 0.022779041901230812, -0.0025416563730686903, -0.028235817328095436, -0.03482799977064133, 0.007028164342045784, -0.26760604977607727, 0.010066826827824116, 0.1573578268289566, 0.08818023651838303, 0.12092811614274979, -0.1015152633190155, -0.12750159204006195, -0.045046430081129074, -0.09846591204404831, 0.14787763357162476, 0.08413992077112198, -0.09589278697967529, 0.08438154309988022, -0.01996796391904354, 0.14303267002105713, -0.0583423487842083, -0.020887205377221107, -0.10253939032554626, -0.14351242780685425, 0.10070613771677017, -0.061273008584976196, -0.02663229964673519, 0.0402405820786953, 0.021904440596699715, -0.21418076753616333, 0.03442584350705147, 0.06841705739498138, -0.01896030642092228, -0.02172517217695713, -0.33644580841064453, 0.009820071049034595, -0.07470361143350601, -0.07043415307998657, 0.0747169479727745, -0.05884571373462677, 0.13787885010242462, -0.0961855947971344, 0.059515077620744705, 0.07363121956586838, 0.022342704236507416, -0.16173553466796875, 0.015199300833046436, 0.07133259624242783, 0.07158411294221878, -0.00618608295917511, 0.012203874997794628, 0.09664198011159897, -0.0678706094622612, -0.0984857901930809, 0.14525611698627472, 0.08228055387735367, -0.11421158909797668, -0.04349132999777794, 0.04483501613140106, 0.1876315474510193, 0.0032413452863693237, -0.039117198437452316, 0.08819156140089035, -0.013822667300701141, -0.04620414972305298, 0.16243340075016022, 0.06564778834581375, 0.011264920234680176, 0.1174774169921875, 0.038835447281599045, 0.147970050573349, 0.042936671525239944, 0.14052538573741913, 0.040872782468795776, 0.09104739874601364, 0.2500098645687103, -0.0052428594790399075, 0.24249285459518433, -0.17348609864711761, 0.013414430432021618, 0.004723340272903442, 2.9339766115299426e-05, 0.09908682107925415, -0.015964338555932045, 0.00125687790568918, -0.028194310143589973, 0.04996189847588539, 0.016225196421146393, 0.07332398742437363, 0.2750313878059387, -0.1523451805114746, 0.033313389867544174, -0.16778944432735443, 0.09616479277610779, 0.01968606561422348, -0.004710972309112549, -0.19648504257202148, 0.2158081978559494, 0.019196482375264168, -0.002072371542453766, 0.021074436604976654, 0.019263338297605515, -0.053814616054296494, -0.09612224251031876, -0.022736871615052223, -0.09546637535095215, 0.021957620978355408, 0.03448765352368355, -0.07216361910104752, -0.08178786933422089, -0.06492561101913452, -0.16461241245269775, -0.17504996061325073, 0.037159524857997894, -0.0928112268447876, 0.006234303116798401, 0.016255157068371773, 0.04349515959620476, 0.06882195919752121, 0.009215588681399822, -0.21083419024944305, -0.03339768946170807, -0.05812300369143486, 0.1143236756324768, -0.004279278218746185, 0.04826440289616585, 0.001970825018361211, -0.06474610418081284, -0.055445969104766846, 0.1470438838005066, 0.01070395391434431, -0.0751938745379448, 0.14136312901973724, 0.040229570120573044, -0.007148476783186197, -0.1698199063539505, 0.0010415920987725258, 0.05211677774786949, 0.0859396681189537, 0.1323576718568802, -0.18038369715213776, 0.09831514954566956, -0.03797619417309761, -0.14891739189624786, 0.04448246955871582, -0.009272241033613682, -0.13070924580097198, 0.1392039805650711, -0.011866043321788311, 0.018630390986800194, -0.11331623792648315, 0.05181066319346428, 0.11394345760345459, -0.16595284640789032, 0.16416072845458984, 0.015046864748001099, 0.00816089566797018, 0.01728503219783306, -0.047995906323194504, 0.04538306966423988, -0.20855945348739624, -0.015723994001746178, 0.08250109851360321, 0.10346188396215439, 0.06940475851297379, 0.05555339157581329, 0.07331014424562454, 0.09425222873687744, -0.0879635214805603, -0.07363459467887878, -0.04703066870570183, 0.16688938438892365, -0.061448827385902405, 0.01062938291579485, 0.026366455480456352, 0.10348822921514511, 0.041622456163167953, -0.1311589777469635, 0.22657336294651031, -0.10330566763877869, 0.0660458579659462, 0.051567912101745605, 0.08307236433029175, 0.05934129282832146, 0.17102153599262238, 0.020472873002290726, -0.05682200565934181, -0.1433027982711792, 0.012364386580884457, 0.0630052387714386, -0.15255995094776154, 0.01027400977909565, -0.0541389100253582, -0.08640899509191513, -0.13262169063091278, -0.051501695066690445, -0.05711081996560097, -0.14033371210098267, -0.08916938304901123, -0.017565883696079254, -0.06968741863965988, -0.22683025896549225, -0.004229288082569838, -0.22079221904277802, -0.11849870532751083, 0.0599663071334362, -0.07974565029144287, 0.008938995189964771, -0.0035656194668263197, -0.05596012994647026, 0.028438985347747803, -0.027308834716677666, 0.00012254963803570718, -0.024657398462295532, -0.06018832325935364, 0.05963801220059395, 0.14806771278381348, -0.01760118640959263, -0.0024912822991609573, 0.04640376567840576, 0.0827176496386528, -0.08674093335866928, -0.02393840253353119, -0.029802478849887848, 0.11145788431167603, -0.10472914576530457, 0.18851816654205322, 0.022251427173614502, -0.02631816454231739, -0.11778119951486588, -0.11431893706321716, 0.1354009360074997, -0.11298564076423645, 0.09633513540029526, -0.11616484075784683, 0.021309951320290565, -0.060817014425992966, -0.0029167484026402235, -0.07683384418487549, 0.04742022231221199, -0.012082976289093494, -0.053281936794519424, 0.009315875358879566, 0.07798217236995697, -0.139230877161026, -0.06656777113676071, 0.02090471424162388, 0.04285093769431114, 0.15205954015254974, 0.10463491827249527, 0.10460085421800613, -0.11974755674600601, 0.15125097334384918, -0.06823128461837769, 0.1534033715724945, 0.11038809269666672, 0.0020297642331570387, 0.12748603522777557, 0.06793037056922913, 0.17714600265026093, 0.07248244434595108, -0.02697925455868244, 0.09111589938402176, -0.15979737043380737, -0.053024645894765854, -0.0516568161547184, -0.08444417268037796, -0.06876348704099655, -0.09594270586967468, -0.054362744092941284, -0.1757258176803589, -0.004179900977760553, 0.027995198965072632, 0.05172901228070259, -0.05388706922531128, -0.07221141457557678, 0.06217196211218834, -0.1401563584804535, 0.05022166296839714, 0.1713494211435318, 0.235478475689888, 0.04961386322975159, -0.043451905250549316, 0.07508718967437744, -0.11874767392873764, 0.10165723413228989, 0.1677192896604538, -0.017885129898786545, 0.11353366822004318, -0.0562247671186924, 0.06824880838394165, -0.285409539937973, -0.1281898319721222, -0.0243243258446455, -0.18498647212982178, 0.07324758917093277, -0.02632114477455616, 0.03783222287893295, 0.07214508205652237, 0.10949120670557022, 0.02923239953815937, 0.04705098271369934, -0.02470347285270691, 0.03181127831339836, -0.11875969171524048, 0.04220409691333771, -0.08190237730741501, 0.04464109614491463, -0.15133966505527496, -0.17587929964065552, 0.03817502036690712, 0.07793748378753662, -0.027313103899359703, 0.2572821080684662, 0.10314470529556274, -0.07596384733915329, -0.010551423765718937, 0.019042283296585083, -0.14592640101909637, -0.16211476922035217, 0.14722801744937897, 0.01360203605145216, -0.022408440709114075, -0.3037572503089905, -0.015654506161808968, -0.05292235314846039, -0.07925226539373398, 0.00012687344860751182, 0.1583988517522812, -0.16411590576171875, -0.21092014014720917, -0.1493580937385559, -0.16007213294506073, -0.058852583169937134, -0.16353897750377655, 0.020445384085178375, 0.16834098100662231, 0.06483808159828186, -0.1269889920949936, 0.09268947690725327, -0.0771024152636528, 0.0007386580109596252, -0.08790731430053711, -0.02243995852768421, 0.08080143481492996, 0.15235181152820587, -0.001126583549194038, -0.10566559433937073, 0.21856530010700226, 0.1255052536725998, -0.07869023084640503, -0.164554163813591, 0.11253850907087326, -0.1004447415471077, 0.09263382107019424, 0.009295370429754257, -0.03809860721230507, -0.0028558261692523956, -0.06681179255247116, -0.055925581604242325, 0.010574635118246078, 0.04404052719473839, -0.07799136638641357, 0.06314404308795929, 0.06451685726642609, -0.01650969870388508, -0.23449473083019257, 0.0824262872338295, 0.183211088180542, -0.0708046704530716, -0.027422064915299416, -0.059457313269376755, -0.13960060477256775, 0.06118735671043396, 0.0006698314682580531, 0.028035899624228477, -0.043379634618759155, 0.10589101910591125, 0.10200262069702148, 0.027652626857161522, -0.0961448922753334, 0.049314454197883606, 0.04942166805267334, -0.1656152755022049, -0.055184800177812576, 0.13267533481121063, 0.010264324024319649, -0.11146906763315201, 0.17522476613521576, 0.06413906812667847, 0.16760915517807007, -0.09453365951776505, 0.11069343239068985, 0.010474644601345062, 0.10248806327581406, -0.014628029428422451, -0.04960048198699951, 0.06535489112138748, 0.22264818847179413, 0.044978830963373184, 0.007494749967008829, -0.04300234094262123, -0.03863324224948883, -0.02032504230737686, 0.11289167404174805, -0.062183916568756104, 0.03639024496078491, -0.047502536326646805, -2.2626455992028768e-32, -0.05852596089243889, 0.05608464404940605, -0.17798209190368652, -0.06484543532133102, -0.04643815755844116, -0.1779591590166092, 0.06707263737916946, -0.04487230256199837, -0.04168660566210747, 0.05306321755051613, -0.06791846454143524, -0.003155690850690007, 0.08799895644187927, 0.025804735720157623, -0.008849401958286762, -0.027930080890655518, 0.19292527437210083, 0.0858069434762001, -0.06303853541612625, -0.0002172454260289669, 0.03955637663602829, 0.03593171760439873, 0.11177100986242294, 0.0832456648349762, 0.22919414937496185, 0.004983752965927124, -0.07947220653295517, 0.005796010140329599, -0.017910659313201904, 0.008924013935029507, -0.14923565089702606, 0.017960378900170326, -0.015422284603118896, 0.11421658843755722, 0.0313328355550766, 0.1473844349384308, -0.09685593843460083, -0.06459328532218933, 0.08685913681983948, 0.041721686720848083, 0.06079086661338806, 0.014866388402879238, -0.022850096225738525, -0.13297416269779205, -0.14139015972614288, 0.09048914909362793, -0.0070563131012022495, 0.03998355194926262, 0.11996924877166748, -0.06568767130374908, -0.21148331463336945, -0.0638761892914772, -0.028669103980064392, -0.09185787290334702, -0.1314331293106079, -0.07193068414926529, 0.013320409692823887, -0.019494155421853065, 0.05240537226200104, -0.03978295624256134, 0.08726533502340317, -0.08368281275033951, -0.15931999683380127, 0.11585728079080582, 0.10006558895111084, 0.05528475344181061, 0.3850535452365875, 0.0023934233468025923, -0.06666908413171768, -0.04025129973888397, -0.06268400698900223, -0.024374067783355713, 0.024208644405007362, -0.025341011583805084, -0.09094023704528809, -0.10259423404932022, -0.20902813971042633, -0.07100838422775269, 0.03234763815999031, -0.009153176099061966, -0.08629099279642105, 0.018667511641979218, 0.006424620747566223, 0.05665251612663269, 0.04330821707844734, 0.05003902688622475, -0.030724843963980675, -0.03767240419983864, -0.1892952173948288, -0.06326290965080261, -0.07695401459932327, -0.10355208069086075, -0.019812321290373802, 0.07971055060625076, -0.04447711631655693, -0.13679610192775726, -0.017705842852592468, -0.0524531789124012, 0.032104503363370895, -0.04170796275138855, -0.0860116109251976, 0.11555520445108414, -0.12488871812820435, 0.020782122388482094, 0.04751153662800789, 0.1586664617061615, -0.08718404173851013, 0.024778107181191444, -0.13422848284244537, -0.05610765144228935, 0.0752645954489708, 0.129228413105011, 0.15267233550548553, 0.11565213650465012, -0.07371294498443604, 0.1230570450425148, 0.049354661256074905, -0.09369128942489624, -0.11510645598173141, -0.0010498426854610443, -0.0783175602555275, 0.06588456779718399, -0.06782682240009308, -0.10092904418706894, -0.07832352817058563, -0.09799154847860336, -0.007461342494934797, 0.14091728627681732, -0.0024995661806315184, -0.04554876312613487, 0.10442133992910385, -0.03139052167534828, 6.923516480128455e-07, 0.08763853460550308, -0.06145656108856201, -0.06301288306713104, 0.22300612926483154, -0.037401553243398666, 0.07094863057136536, 0.06080581247806549, 0.1436711549758911, 0.02799130417406559, 0.0815315917134285, -0.05001550912857056, -0.08082934468984604, 0.04221158102154732, -0.12663185596466064, -0.07383187115192413, -0.27201566100120544, -0.09693378210067749, -0.2705158591270447, -0.06286045908927917, -0.09352538734674454, -0.006503199692815542, 0.044303834438323975, 0.003738087834790349, -0.08116913586854935, -0.025612665340304375, 0.0013628030428662896, 0.06328219175338745, -0.11946412175893784, 0.08278117328882217, 0.013622178696095943, 0.09461763501167297, -0.028493797406554222, 0.02949855662882328, -0.0322556346654892, 0.06524015218019485, -0.06157854199409485, 0.037126246839761734, 0.049272578209638596, -0.051797378808259964, 0.17333103716373444, -0.1297955960035324, 0.013991106301546097, -0.05543867126107216, -0.035191860049963, 0.11800947040319443, -0.04047985002398491, 0.0015328414738178253, 0.007841122336685658, -0.1793798804283142, -0.08025478571653366, -0.0493900291621685, -0.055317606776952744, -0.012027093209326267, 0.051461365073919296, -0.06305339187383652, 0.1468694806098938, 0.1432337462902069, 0.0315743125975132, 0.07977040857076645, 0.0948115885257721, -0.08844900876283646, -0.13312120735645294, -0.004958143923431635, 0.04058091342449188, -0.12852579355239868, 0.04153009131550789, -0.041210297495126724, 1.8898367576872221e-34, -0.025337958708405495, 0.11169683933258057, 0.09274021536111832, 0.22978776693344116, 0.05928651988506317, -0.015720531344413757, -0.21364526450634003, -0.024913035333156586, 0.09046543389558792, -0.044601257890462875, 0.013839376159012318], \"modality\": null, \"evaluations\": null, \"scores\": null, \"chunks\": null, \"matches\": null}]\n"
     ]
    }
   ],
   "source": [
    "from jina import Flowb\n",
    "from docarray import Document, DocumentArray\n",
    "\n",
    "f = Flow().add(uses='jinahub://TransformerTorchEncoder/latest').add(uses='jinahub://SimpleIndexer')\n",
    "\n",
    "with f:\n",
    "  r = f.post('/', inputs=DocumentArray([Document(text='hello')]))\n",
    "  print(r.to_json())"
   ]
  },
  {
   "cell_type": "code",
   "execution_count": 25,
   "metadata": {},
   "outputs": [
    {
     "data": {
      "text/html": [
       "<pre style=\"white-space:pre;overflow-x:auto;line-height:normal;font-family:Menlo,'DejaVu Sans Mono',consolas,'Courier New',monospace\">╭────────── Documents Summary ──────────╮\n",
       "│                                       │\n",
       "│   Type                   MatchArray   │\n",
       "│   Length                 <span style=\"color: #008080; text-decoration-color: #008080; font-weight: bold\">0</span>            │\n",
       "│   Homogenous Documents   <span style=\"color: #ff0000; text-decoration-color: #ff0000; font-style: italic\">False</span>        │\n",
       "│   Multimodal dataclass   <span style=\"color: #00ff00; text-decoration-color: #00ff00; font-style: italic\">True</span>         │\n",
       "│                                       │\n",
       "╰───────────────────────────────────────╯\n",
       "</pre>\n"
      ],
      "text/plain": [
       "╭────────── Documents Summary ──────────╮\n",
       "│                                       │\n",
       "│   Type                   MatchArray   │\n",
       "│   Length                 \u001b[1;36m0\u001b[0m            │\n",
       "│   Homogenous Documents   \u001b[3;91mFalse\u001b[0m        │\n",
       "│   Multimodal dataclass   \u001b[3;92mTrue\u001b[0m         │\n",
       "│                                       │\n",
       "╰───────────────────────────────────────╯\n"
      ]
     },
     "metadata": {},
     "output_type": "display_data"
    }
   ],
   "source": [
    "r[0].matches"
   ]
  },
  {
   "cell_type": "code",
   "execution_count": null,
   "metadata": {},
   "outputs": [],
   "source": []
  }
 ],
 "metadata": {
  "kernelspec": {
   "display_name": "Python 3.9.12 ('jina')",
   "language": "python",
   "name": "python3"
  },
  "language_info": {
   "codemirror_mode": {
    "name": "ipython",
    "version": 3
   },
   "file_extension": ".py",
   "mimetype": "text/x-python",
   "name": "python",
   "nbconvert_exporter": "python",
   "pygments_lexer": "ipython3",
   "version": "3.9.12"
  },
  "orig_nbformat": 4,
  "vscode": {
   "interpreter": {
    "hash": "062bb9b1ec01e9916229ee1a912381cbb5ea025b7159b710942000cb49f72727"
   }
  }
 },
 "nbformat": 4,
 "nbformat_minor": 2
}
